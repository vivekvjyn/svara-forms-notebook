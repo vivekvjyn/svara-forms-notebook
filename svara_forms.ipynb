{
 "cells": [
  {
   "cell_type": "markdown",
   "metadata": {
    "id": "JKdIjUwhYX_r"
   },
   "source": [
    "\n",
    "\n",
    "# Svara forms\n",
    "\n"
   ]
  },
  {
   "cell_type": "markdown",
   "metadata": {
    "id": "Eb5QKvqtSFTC"
   },
   "source": [
    "## Imports"
   ]
  },
  {
   "cell_type": "code",
   "execution_count": 1,
   "metadata": {
    "id": "EqysIBxaX1jC"
   },
   "outputs": [],
   "source": [
    "import random\n",
    "import numpy as np\n",
    "import pandas as pd\n",
    "import compiam\n",
    "import matplotlib.pyplot as plt\n",
    "from collections import Counter\n",
    "import tqdm\n",
    "import random\n",
    "from fastdtw import fastdtw\n",
    "import sklearn"
   ]
  },
  {
   "cell_type": "markdown",
   "metadata": {
    "id": "kkvLnPnCYehi"
   },
   "source": [
    "## 1.Pitch Processing"
   ]
  },
  {
   "cell_type": "markdown",
   "metadata": {},
   "source": [
    "Carnatic Music constitutes a difficult case for vocal pitch extraction – although performances place strong emphasis on a monophonic melodic line from the soloist singer, heterophonic melodic elements also occur, for example from the accompanying violinist who shadows the melody of the soloist often at a lag and with variation. In addition, there are the sounds of the tanpura (plucked lute that creates an oscillating drone) and pitched percussion instruments.\n",
    "\n",
    "Here we use a pretrained FTA-Net model for the task. This is provided with the compIAM package via the compiam.load_model() function. The model is an attention-based network that leverages and fuses information from the frequency and periodicity domains to capture the correct pitch values for the predominant source. It learns to focus on this source by using an additional branch that helps reduce the false alarm rate (detecting pitch values that do not correspond to the source we target) "
   ]
  },
  {
   "cell_type": "markdown",
   "metadata": {},
   "source": [
    "### 1.1. Predominant Pitch Extraction\n",
    "\n",
    "First, we need to load the model using `compiam.load_model`."
   ]
  },
  {
   "cell_type": "code",
   "execution_count": 20,
   "metadata": {
    "id": "HGFLCpBbX4gs"
   },
   "outputs": [],
   "source": [
    "ftanet_carnatic = compiam.load_model(\"melody:ftanet-carnatic\")"
   ]
  },
  {
   "cell_type": "markdown",
   "metadata": {},
   "source": [
    "Extracting the vocal pitch track:"
   ]
  },
  {
   "cell_type": "code",
   "execution_count": 21,
   "metadata": {
    "colab": {
     "base_uri": "https://localhost:8080/"
    },
    "id": "lJMpNVZCYNBp",
    "outputId": "bf7bafc1-31ec-44cc-ec93-d085862779be"
   },
   "outputs": [
    {
     "name": "stdout",
     "output_type": "stream",
     "text": [
      "1/1 [==============================] - 16s 16s/step\n",
      "1/1 [==============================] - 13s 13s/step\n",
      "1/1 [==============================] - 12s 12s/step\n",
      "1/1 [==============================] - 14s 14s/step\n",
      "1/1 [==============================] - 13s 13s/step\n",
      "1/1 [==============================] - 13s 13s/step\n",
      "1/1 [==============================] - 13s 13s/step\n",
      "1/1 [==============================] - 13s 13s/step\n",
      "1/1 [==============================] - 13s 13s/step\n",
      "1/1 [==============================] - 13s 13s/step\n",
      "1/1 [==============================] - 13s 13s/step\n",
      "1/1 [==============================] - 13s 13s/step\n",
      "1/1 [==============================] - 13s 13s/step\n",
      "1/1 [==============================] - 13s 13s/step\n",
      "1/1 [==============================] - 13s 13s/step\n",
      "1/1 [==============================] - 13s 13s/step\n",
      "1/1 [==============================] - 12s 12s/step\n",
      "1/1 [==============================] - 13s 13s/step\n",
      "1/1 [==============================] - 12s 12s/step\n",
      "1/1 [==============================] - 13s 13s/step\n",
      "1/1 [==============================] - 13s 13s/step\n",
      "1/1 [==============================] - 13s 13s/step\n",
      "1/1 [==============================] - 13s 13s/step\n",
      "1/1 [==============================] - 13s 13s/step\n",
      "1/1 [==============================] - 13s 13s/step\n",
      "1/1 [==============================] - 13s 13s/step\n",
      "1/1 [==============================] - 13s 13s/step\n",
      "1/1 [==============================] - 13s 13s/step\n",
      "1/1 [==============================] - 13s 13s/step\n",
      "1/1 [==============================] - 13s 13s/step\n",
      "1/1 [==============================] - 13s 13s/step\n",
      "1/1 [==============================] - 17s 17s/step\n",
      "1/1 [==============================] - 15s 15s/step\n",
      "1/1 [==============================] - 13s 13s/step\n",
      "1/1 [==============================] - 12s 12s/step\n",
      "1/1 [==============================] - 6s 6s/step\n"
     ]
    }
   ],
   "source": [
    "ftanet_pitch_track = ftanet_carnatic.predict('/content/drive/MyDrive/raksha_bettare.wav', hop_size=30)"
   ]
  },
  {
   "cell_type": "markdown",
   "metadata": {},
   "source": [
    ">FTA-Net inference is computationally expensive, so we can save the pitch track and load it later. This way, we don’t have to estimate the pitch track each time."
   ]
  },
  {
   "cell_type": "code",
   "execution_count": null,
   "metadata": {},
   "outputs": [],
   "source": [
    "np.save('ftanet_pitch_track.npy', ftanet_pitch_track)"
   ]
  },
  {
   "cell_type": "code",
   "execution_count": 2,
   "metadata": {},
   "outputs": [],
   "source": [
    "ftanet_pitch_track = np.load('ftanet_pitch_track.npy')"
   ]
  },
  {
   "cell_type": "code",
   "execution_count": 3,
   "metadata": {},
   "outputs": [],
   "source": [
    "pitch_raw = ftanet_pitch_track[:, 1]\n",
    "times_raw = ftanet_pitch_track[:, 0]\n",
    "timestep_raw = times_raw[3] - times_raw[2]"
   ]
  },
  {
   "cell_type": "markdown",
   "metadata": {
    "id": "wgz0QrZOchK8"
   },
   "source": [
    "We need to preprocess the data before performing clustering. This includes smoothing, interpolation, and conversion to cents.\n",
    "\n",
    "First, we will import some utility functions that may be useful."
   ]
  },
  {
   "cell_type": "code",
   "execution_count": 4,
   "metadata": {
    "id": "W99uoCUWUj_T"
   },
   "outputs": [],
   "source": [
    "from src.utils import (\n",
    "    load_json, load_pitch_track, write_pitch_track, cpath, load_annotations, get_plot_kwargs,\n",
    "    pitch_seq_to_cents, subsample_series, interpolate_below_length, smooth_pitch_curve,\n",
    "    align_time_series, write_pkl, expand_zero_regions)\n",
    "\n",
    "from src.utils import (\n",
    "    load_json, load_pitch_track, write_pitch_track, cpath, load_annotations, get_plot_kwargs, \n",
    "    pitch_seq_to_cents, subsample_series, interpolate_below_length, smooth_pitch_curve,\n",
    "    align_time_series, write_pkl, load_pkl, remove_leading_trailing_nans, append_row)\n",
    "\n",
    "from src.pitch import transpose_pitch\n",
    "from src.clustering import dbscan, silhouette_score, calinski_harabasz_index, davies_bouldin_index, gap_statistic, dbscan_precomp\n",
    "from src.testing import prec_permutation_test, succ_permutation_test, both_permutation_test"
   ]
  },
  {
   "cell_type": "markdown",
   "metadata": {},
   "source": [
    "### 1.2.Load metadata and annotations"
   ]
  },
  {
   "cell_type": "markdown",
   "metadata": {},
   "source": [
    "Now, we will load the metadata for the track we are going to analyze—in this case, *Raksha Bettare*."
   ]
  },
  {
   "cell_type": "code",
   "execution_count": 5,
   "metadata": {
    "id": "u7hBMQTKVJg8"
   },
   "outputs": [],
   "source": [
    "metadata_path = 'data/metadata.json'\n",
    "data = load_json(metadata_path)"
   ]
  },
  {
   "cell_type": "markdown",
   "metadata": {},
   "source": [
    "Extract the required information from the metadata."
   ]
  },
  {
   "cell_type": "code",
   "execution_count": 6,
   "metadata": {
    "id": "XtszCKNehLp_"
   },
   "outputs": [],
   "source": [
    "beat_length = data[\"raksha_bettare\"]['beat_length']\n",
    "tonic = data[\"raksha_bettare\"]['tonic']\n",
    "annotations_path = f\"{data['raksha_bettare']['annotations_path']}\""
   ]
  },
  {
   "cell_type": "markdown",
   "metadata": {},
   "source": [
    "Now, let's load the annotations."
   ]
  },
  {
   "cell_type": "code",
   "execution_count": 7,
   "metadata": {
    "colab": {
     "base_uri": "https://localhost:8080/",
     "height": 206
    },
    "id": "kbx9RqPFjtGk",
    "outputId": "3c9afcc7-d79e-4e60-dfcc-81a3e28515ec"
   },
   "outputs": [
    {
     "name": "stderr",
     "output_type": "stream",
     "text": [
      "/mnt/c/Users/vivek/Desktop/svara-forms-notebook/src/utils.py:64: UserWarning: Could not infer format, so each element will be parsed individually, falling back to `dateutil`. To ensure parsing is consistent and as-expected, please specify a format.\n",
      "  df['start'] = pd.to_datetime(df['start'])\n",
      "/mnt/c/Users/vivek/Desktop/svara-forms-notebook/src/utils.py:65: UserWarning: Could not infer format, so each element will be parsed individually, falling back to `dateutil`. To ensure parsing is consistent and as-expected, please specify a format.\n",
      "  df['end'] = pd.to_datetime(df['end'])\n"
     ]
    },
    {
     "data": {
      "text/html": [
       "<div>\n",
       "<style scoped>\n",
       "    .dataframe tbody tr th:only-of-type {\n",
       "        vertical-align: middle;\n",
       "    }\n",
       "\n",
       "    .dataframe tbody tr th {\n",
       "        vertical-align: top;\n",
       "    }\n",
       "\n",
       "    .dataframe thead th {\n",
       "        text-align: right;\n",
       "    }\n",
       "</style>\n",
       "<table border=\"1\" class=\"dataframe\">\n",
       "  <thead>\n",
       "    <tr style=\"text-align: right;\">\n",
       "      <th></th>\n",
       "      <th>start</th>\n",
       "      <th>end</th>\n",
       "      <th>start_sec</th>\n",
       "      <th>end_sec</th>\n",
       "      <th>label</th>\n",
       "    </tr>\n",
       "  </thead>\n",
       "  <tbody>\n",
       "    <tr>\n",
       "      <th>0</th>\n",
       "      <td>2025-04-03 00:00:03.417</td>\n",
       "      <td>2025-04-03 00:00:04.342</td>\n",
       "      <td>3.417</td>\n",
       "      <td>4.342</td>\n",
       "      <td>ri</td>\n",
       "    </tr>\n",
       "    <tr>\n",
       "      <th>1</th>\n",
       "      <td>2025-04-03 00:00:04.342</td>\n",
       "      <td>2025-04-03 00:00:04.855</td>\n",
       "      <td>4.342</td>\n",
       "      <td>4.855</td>\n",
       "      <td>ni</td>\n",
       "    </tr>\n",
       "    <tr>\n",
       "      <th>2</th>\n",
       "      <td>2025-04-03 00:00:04.855</td>\n",
       "      <td>2025-04-03 00:00:06.041</td>\n",
       "      <td>4.855</td>\n",
       "      <td>6.041</td>\n",
       "      <td>sa</td>\n",
       "    </tr>\n",
       "    <tr>\n",
       "      <th>3</th>\n",
       "      <td>2025-04-03 00:00:06.501</td>\n",
       "      <td>2025-04-03 00:00:07.813</td>\n",
       "      <td>6.501</td>\n",
       "      <td>7.813</td>\n",
       "      <td>ri</td>\n",
       "    </tr>\n",
       "    <tr>\n",
       "      <th>4</th>\n",
       "      <td>2025-04-03 00:00:07.960</td>\n",
       "      <td>2025-04-03 00:00:09.455</td>\n",
       "      <td>7.960</td>\n",
       "      <td>9.455</td>\n",
       "      <td>ga</td>\n",
       "    </tr>\n",
       "  </tbody>\n",
       "</table>\n",
       "</div>"
      ],
      "text/plain": [
       "                    start                     end  start_sec  end_sec label\n",
       "0 2025-04-03 00:00:03.417 2025-04-03 00:00:04.342      3.417    4.342    ri\n",
       "1 2025-04-03 00:00:04.342 2025-04-03 00:00:04.855      4.342    4.855    ni\n",
       "2 2025-04-03 00:00:04.855 2025-04-03 00:00:06.041      4.855    6.041    sa\n",
       "3 2025-04-03 00:00:06.501 2025-04-03 00:00:07.813      6.501    7.813    ri\n",
       "4 2025-04-03 00:00:07.960 2025-04-03 00:00:09.455      7.960    9.455    ga"
      ]
     },
     "execution_count": 7,
     "metadata": {},
     "output_type": "execute_result"
    }
   ],
   "source": [
    "annotations = load_annotations(annotations_path)\n",
    "annotations.head()"
   ]
  },
  {
   "cell_type": "markdown",
   "metadata": {},
   "source": [
    "Here, we will initialize some parameters for preprocessing the pitch curve."
   ]
  },
  {
   "cell_type": "code",
   "execution_count": 8,
   "metadata": {
    "id": "NPETuFPWn3Dz"
   },
   "outputs": [],
   "source": [
    "interp = 100\n",
    "smoothing_factor = 0.4\n",
    "subsample = 0.5"
   ]
  },
  {
   "cell_type": "markdown",
   "metadata": {},
   "source": [
    "### 1.3.Expand Zero Regions"
   ]
  },
  {
   "cell_type": "markdown",
   "metadata": {},
   "source": [
    "Now, we will expand contiguous zero regions by replacing neighboring values with zeros."
   ]
  },
  {
   "cell_type": "code",
   "execution_count": 9,
   "metadata": {
    "id": "CzKbbwoFkqwA"
   },
   "outputs": [],
   "source": [
    "pitch = expand_zero_regions(pitch_raw, round(0.02/timestep_raw))"
   ]
  },
  {
   "cell_type": "markdown",
   "metadata": {},
   "source": [
    "We don’t need to interpolate at the boundaries, so first, we extract the boundaries from the annotations."
   ]
  },
  {
   "cell_type": "code",
   "execution_count": 10,
   "metadata": {
    "id": "NqzSvpc2kZox"
   },
   "outputs": [],
   "source": [
    "boundaries = np.concatenate([annotations['start_sec'].values, annotations['end_sec'].values])\n",
    "boundaries_seq = [round(b/timestep_raw) for b in boundaries]"
   ]
  },
  {
   "cell_type": "markdown",
   "metadata": {},
   "source": [
    "### 1.4.Interpolation"
   ]
  },
  {
   "cell_type": "markdown",
   "metadata": {},
   "source": [
    "Now, let's interpolate the pitch curve using the provided function `interpolate_below_length`."
   ]
  },
  {
   "cell_type": "code",
   "execution_count": 11,
   "metadata": {
    "id": "_Js8YhJonpSS"
   },
   "outputs": [],
   "source": [
    "pitch = interpolate_below_length(pitch, 0, (interp*0.001/timestep_raw), boundaries_seq)\n",
    "null_ind = pitch == 0\n",
    "pitch[pitch<50] = 0\n",
    "pitch[null_ind] = 0"
   ]
  },
  {
   "cell_type": "markdown",
   "metadata": {},
   "source": [
    "### 1.5.Convert to cents"
   ]
  },
  {
   "cell_type": "markdown",
   "metadata": {},
   "source": [
    "We will convert the pitch from frequencies to cents, with the tonic as the reference. For that, we will use `pitch_seq_to_cents`."
   ]
  },
  {
   "cell_type": "code",
   "execution_count": 12,
   "metadata": {},
   "outputs": [],
   "source": [
    "pitch = pitch_seq_to_cents(pitch, tonic=tonic)"
   ]
  },
  {
   "cell_type": "markdown",
   "metadata": {},
   "source": [
    "### 1.6.Smoothing"
   ]
  },
  {
   "cell_type": "markdown",
   "metadata": {},
   "source": [
    "Now, we will apply smoothing to the pitch curve. First, we will subsample the pitch curve with a proportion of `0.5`. Then, we will use the `smooth_pitch_curve` function to apply smoothing."
   ]
  },
  {
   "cell_type": "code",
   "execution_count": 13,
   "metadata": {
    "id": "fuZOzz91nwM2"
   },
   "outputs": [],
   "source": [
    "# subsample\n",
    "time, pitch = subsample_series(times_raw, pitch, subsample)\n",
    "\n",
    "# smoothing\n",
    "time_beat = time/beat_length\n",
    "timestep = time_beat[3] - time_beat[2]\n",
    "pitch = smooth_pitch_curve(time_beat, pitch, smoothing_factor=smoothing_factor)"
   ]
  },
  {
   "cell_type": "markdown",
   "metadata": {},
   "source": [
    "Now, let's visualize the pitch curve by plotting it."
   ]
  },
  {
   "cell_type": "code",
   "execution_count": 14,
   "metadata": {
    "colab": {
     "base_uri": "https://localhost:8080/",
     "height": 463
    },
    "id": "DyxAbIEdoEwv",
    "outputId": "c1a07099-69b2-4c58-c01b-a81585d9994f"
   },
   "outputs": [
    {
     "data": {
      "text/plain": [
       "[<matplotlib.lines.Line2D at 0x7fa18e7a2680>]"
      ]
     },
     "execution_count": 14,
     "metadata": {},
     "output_type": "execute_result"
    },
    {
     "data": {
      "image/png": "[encoded data removed]",
      "text/plain": [
       "<Figure size 1500x500 with 1 Axes>"
      ]
     },
     "metadata": {},
     "output_type": "display_data"
    }
   ],
   "source": [
    "plt.figure(figsize=(15, 5))\n",
    "plt.title('Predominant pitch track')\n",
    "plt.xlabel('Pitch (Cents)')\n",
    "plt.ylabel('Time (Seconds)')\n",
    "plt.plot(time, pitch)"
   ]
  },
  {
   "cell_type": "markdown",
   "metadata": {},
   "source": [
    "## 2. Segmentation\n",
    "\n",
    "Now, we will segment the pitch track using the provided annotations. We will extract each segment and store the corresponding svara from the annotations. For each segment, we will save the svara label and index."
   ]
  },
  {
   "cell_type": "code",
   "execution_count": 15,
   "metadata": {},
   "outputs": [],
   "source": [
    "svaras = ['sa', 'ri', 'ga', 'ma', 'pa', 'dha', 'ni']\n",
    "min_len_prop = 0.6\n",
    "max_ran = 800\n",
    "train_size = 0.8\n",
    "test_size = 0.2"
   ]
  },
  {
   "cell_type": "code",
   "execution_count": 16,
   "metadata": {
    "id": "p91Qu0dRqPur"
   },
   "outputs": [],
   "source": [
    "all_svaras = []\n",
    "\n",
    "for i, row in annotations.iterrows():\n",
    "    start = row['start_sec']\n",
    "    end = row['end_sec']\n",
    "    label = row['label']\n",
    "\n",
    "    # Skip unknown labels\n",
    "    if label not in svaras:\n",
    "        continue\n",
    "    \n",
    "    s1_beat = start/beat_length\n",
    "    s2_beat = end/beat_length\n",
    "    \n",
    "    s1 = round(s1_beat/timestep)\n",
    "    s2 = round(s2_beat/timestep)\n",
    "\n",
    "    psamp = pitch[s1:s2]\n",
    "    psamp = remove_leading_trailing_nans(psamp)\n",
    "\n",
    "    # Skip if there is silence in pitch track    \n",
    "    if len(psamp) == 0 or len(psamp)/len(pitch[s1:s2]) <= min_len_prop or sum(np.isnan(psamp)>0):\n",
    "        continue\n",
    "\n",
    "    psamp, trans = transpose_pitch(psamp)\n",
    "\n",
    "    ran = max(psamp)-min(psamp)\n",
    "    \n",
    "    # exclude incorrectly extracted time series\n",
    "    if ran > max_ran:\n",
    "        continue\n",
    "\n",
    "    all_svaras.append((svaras.index(label), psamp, i, list(data.keys())[1]))"
   ]
  },
  {
   "cell_type": "markdown",
   "metadata": {},
   "source": [
    "Let's count the number of instances we have for each svara."
   ]
  },
  {
   "cell_type": "code",
   "execution_count": 17,
   "metadata": {},
   "outputs": [
    {
     "name": "stdout",
     "output_type": "stream",
     "text": [
      "65 instances of ri\n",
      "78 instances of ni\n",
      "57 instances of sa\n",
      "59 instances of ga\n",
      "41 instances of ma\n",
      "62 instances of pa\n",
      "83 instances of dha\n"
     ]
    }
   ],
   "source": [
    "counted = Counter([x[0] for x in all_svaras])\n",
    "for k, v in counted.items():\n",
    "    print(f\"{v} instances of {svaras[k]}\")"
   ]
  },
  {
   "cell_type": "markdown",
   "metadata": {},
   "source": [
    "Now, let's balance the count by randomly duplicating the segments for each svara."
   ]
  },
  {
   "cell_type": "code",
   "execution_count": 18,
   "metadata": {},
   "outputs": [],
   "source": [
    "n_max = max(counted.values())\n",
    "for svara in range(len(svaras)):\n",
    "    these_svaras = [x for x in all_svaras if x[0]==svara]\n",
    "    if len(these_svaras) == 0:\n",
    "        continue\n",
    "    n = len(these_svaras)\n",
    "    while n < n_max:\n",
    "        this_svara = random.choice(these_svaras)\n",
    "        all_svaras.append(this_svara)\n",
    "        n += 1"
   ]
  },
  {
   "cell_type": "code",
   "execution_count": 19,
   "metadata": {},
   "outputs": [
    {
     "name": "stdout",
     "output_type": "stream",
     "text": [
      "83 instances of ri\n",
      "83 instances of ni\n",
      "83 instances of sa\n",
      "83 instances of ga\n",
      "83 instances of ma\n",
      "83 instances of pa\n",
      "83 instances of dha\n"
     ]
    }
   ],
   "source": [
    "counted = Counter([x[0] for x in all_svaras])\n",
    "for k,v in counted.items():\n",
    "    print(f\"{v} instances of {svaras[k]}\")"
   ]
  },
  {
   "cell_type": "code",
   "execution_count": 20,
   "metadata": {},
   "outputs": [],
   "source": [
    "random.shuffle(all_svaras)"
   ]
  },
  {
   "cell_type": "markdown",
   "metadata": {},
   "source": [
    "## 3.Compute DTW distances"
   ]
  },
  {
   "cell_type": "markdown",
   "metadata": {},
   "source": [
    "Now, let's perform DTW on each pair of segments. We will create a dictionary with the results."
   ]
  },
  {
   "cell_type": "code",
   "execution_count": 21,
   "metadata": {},
   "outputs": [],
   "source": [
    "samp = None\n",
    "r = 0.3\n",
    "norm = False"
   ]
  },
  {
   "cell_type": "code",
   "execution_count": 22,
   "metadata": {},
   "outputs": [
    {
     "name": "stderr",
     "output_type": "stream",
     "text": [
      "100%|█████████████████████████████████████████████████████████████████████████████████| 581/581 [03:21<00:00,  2.88it/s]\n"
     ]
    }
   ],
   "source": [
    "dtw_distances = list()\n",
    "\n",
    "for i in tqdm.tqdm(list(range(len(all_svaras)))):\n",
    "    for j in range(len(all_svaras)):\n",
    "        jl, jpsamp, jannot_ix, jtrack = all_svaras[j]\n",
    "        il, ipsamp, iannot_ix, itrack = all_svaras[i]\n",
    "\n",
    "        if jl != il:\n",
    "            continue\n",
    "\n",
    "        if il > jl:\n",
    "            continue\n",
    "\n",
    "        l_longest = np.max([len(ipsamp), len(jpsamp)])\n",
    "        radius = round(l_longest*r)\n",
    "        \n",
    "        if radius < 2:\n",
    "            radius = 2\n",
    "\n",
    "        # Compute DTW distance between ipsamp and jpsamp\n",
    "        distance, path = fastdtw(ipsamp, jpsamp, dist=lambda x, y: np.linalg.norm(x - y))\n",
    "        distance = distance/len(path)\n",
    "\n",
    "        dtw_distances.append({\n",
    "            'index1': j,\n",
    "            'index2': i,\n",
    "            'dtw': distance\n",
    "        })"
   ]
  },
  {
   "cell_type": "code",
   "execution_count": 23,
   "metadata": {},
   "outputs": [
    {
     "data": {
      "text/html": [
       "<div>\n",
       "<style scoped>\n",
       "    .dataframe tbody tr th:only-of-type {\n",
       "        vertical-align: middle;\n",
       "    }\n",
       "\n",
       "    .dataframe tbody tr th {\n",
       "        vertical-align: top;\n",
       "    }\n",
       "\n",
       "    .dataframe thead th {\n",
       "        text-align: right;\n",
       "    }\n",
       "</style>\n",
       "<table border=\"1\" class=\"dataframe\">\n",
       "  <thead>\n",
       "    <tr style=\"text-align: right;\">\n",
       "      <th></th>\n",
       "      <th>index1</th>\n",
       "      <th>index2</th>\n",
       "      <th>dtw</th>\n",
       "    </tr>\n",
       "  </thead>\n",
       "  <tbody>\n",
       "    <tr>\n",
       "      <th>0</th>\n",
       "      <td>0</td>\n",
       "      <td>0</td>\n",
       "      <td>0.000000</td>\n",
       "    </tr>\n",
       "    <tr>\n",
       "      <th>1</th>\n",
       "      <td>2</td>\n",
       "      <td>0</td>\n",
       "      <td>91.094975</td>\n",
       "    </tr>\n",
       "    <tr>\n",
       "      <th>2</th>\n",
       "      <td>8</td>\n",
       "      <td>0</td>\n",
       "      <td>37.352984</td>\n",
       "    </tr>\n",
       "    <tr>\n",
       "      <th>3</th>\n",
       "      <td>34</td>\n",
       "      <td>0</td>\n",
       "      <td>45.517291</td>\n",
       "    </tr>\n",
       "    <tr>\n",
       "      <th>4</th>\n",
       "      <td>36</td>\n",
       "      <td>0</td>\n",
       "      <td>63.338211</td>\n",
       "    </tr>\n",
       "  </tbody>\n",
       "</table>\n",
       "</div>"
      ],
      "text/plain": [
       "   index1  index2        dtw\n",
       "0       0       0   0.000000\n",
       "1       2       0  91.094975\n",
       "2       8       0  37.352984\n",
       "3      34       0  45.517291\n",
       "4      36       0  63.338211"
      ]
     },
     "execution_count": 23,
     "metadata": {},
     "output_type": "execute_result"
    }
   ],
   "source": [
    "dtw_distances = pd.DataFrame(dtw_distances)\n",
    "dtw_distances.head()"
   ]
  },
  {
   "cell_type": "markdown",
   "metadata": {},
   "source": [
    "## 4.Clustering"
   ]
  },
  {
   "cell_type": "markdown",
   "metadata": {},
   "source": [
    "The next step is to cluster the pitch curve segments using the DTW distances computed. We will create a 2D NumPy array, with the index representing the segment index. For example, index 5 and 4 will represent the distance between the 5th and 4th segments."
   ]
  },
  {
   "cell_type": "code",
   "execution_count": 24,
   "metadata": {},
   "outputs": [],
   "source": [
    "distance_dict = {}\n",
    "for i, (i1,i2,dist) in dtw_distances.iterrows():\n",
    "    i1 = int(i1)\n",
    "    i2 = int(i2)\n",
    "    if i1 not in distance_dict:\n",
    "        distance_dict[i1] = {}\n",
    "\n",
    "    distance_dict[i1][i2] = dist"
   ]
  },
  {
   "cell_type": "code",
   "execution_count": 25,
   "metadata": {},
   "outputs": [],
   "source": [
    "all_X = np.empty((len(all_svaras), len(all_svaras)))\n",
    "all_X[:] = np.nan\n",
    "for i,d in distance_dict.items():\n",
    "    for j,dist in d.items():\n",
    "        all_X[i,j] = dist\n",
    "        all_X[j,i] = dist"
   ]
  },
  {
   "cell_type": "code",
   "execution_count": 26,
   "metadata": {},
   "outputs": [],
   "source": [
    "from bad import bad"
   ]
  },
  {
   "cell_type": "code",
   "execution_count": 27,
   "metadata": {},
   "outputs": [],
   "source": [
    "allowed_indices = []\n",
    "tested = []\n",
    "for i in range(len(all_svaras)):\n",
    "    j, psamp, annot_ix, track = all_svaras[i]\n",
    "    t = f'{track}_{annot_ix}'\n",
    "    if t not in tested and t not in bad:\n",
    "        allowed_indices.append(i)\n",
    "    tested.append(t)"
   ]
  },
  {
   "cell_type": "code",
   "execution_count": 28,
   "metadata": {},
   "outputs": [],
   "source": [
    "clust_data = {s:{} for s in svaras}\n",
    "for svara in svaras:\n",
    "\n",
    "    svara_ix = svaras.index(svara)\n",
    "\n",
    "    # Get data for this svara\n",
    "    ix = [i for i,x in enumerate(all_svaras) if x[0]==svara_ix and i in allowed_indices]\n",
    "\n",
    "    clust_data[svara]['ix'] = ix"
   ]
  },
  {
   "cell_type": "markdown",
   "metadata": {},
   "source": [
    "We will use the best parameters computed using grid search. \n",
    ">For now, we will load the precomputed parameters since grid search is computationally expensive."
   ]
  },
  {
   "cell_type": "code",
   "execution_count": 29,
   "metadata": {},
   "outputs": [],
   "source": [
    "kwargs = load_pkl('gridsearch_kwargs.csv')"
   ]
  },
  {
   "cell_type": "markdown",
   "metadata": {},
   "source": [
    "Now, let's perform clustering using DBSCAN."
   ]
  },
  {
   "cell_type": "code",
   "execution_count": 30,
   "metadata": {},
   "outputs": [
    {
     "name": "stdout",
     "output_type": "stream",
     "text": [
      "Clustering...\n",
      "    Clustering svara sa\n",
      "      kwargs: {'min_samples': 2, 'min_cluster_size': 4, 'cluster_selection_method': 'leaf', 'cluster_selection_epsilon': 0.0, 'alpha': 0.8000000000000003}\n",
      "      n_clusters: 3\n",
      "    Clustering svara ri\n",
      "      kwargs: {'min_samples': None, 'min_cluster_size': 2, 'cluster_selection_method': 'leaf', 'cluster_selection_epsilon': 0.01, 'alpha': 0.3}\n",
      "      n_clusters: 7\n",
      "    Clustering svara ga\n",
      "      kwargs: {'min_samples': 10, 'min_cluster_size': 2, 'cluster_selection_method': 'leaf', 'cluster_selection_epsilon': 0.01, 'alpha': 0.6000000000000001}\n",
      "      n_clusters: 4\n",
      "    Clustering svara ma\n",
      "      kwargs: {'min_samples': 16, 'min_cluster_size': 3, 'cluster_selection_method': 'leaf', 'cluster_selection_epsilon': 0.02, 'alpha': 0.4}\n",
      "      n_clusters: -1\n",
      "    Clustering svara pa\n",
      "      kwargs: {'min_samples': 2, 'min_cluster_size': 3, 'cluster_selection_method': 'leaf', 'cluster_selection_epsilon': 0.01, 'alpha': 0.5}\n",
      "      n_clusters: 6\n",
      "    Clustering svara dha\n",
      "      kwargs: {'min_samples': 11, 'min_cluster_size': 3, 'cluster_selection_method': 'leaf', 'cluster_selection_epsilon': 0.01, 'alpha': 0.4}\n",
      "      n_clusters: 7\n",
      "    Clustering svara ni\n",
      "      kwargs: {'min_samples': 4, 'min_cluster_size': 2, 'cluster_selection_method': 'leaf', 'cluster_selection_epsilon': 0.0, 'alpha': 0.9000000000000001}\n",
      "      n_clusters: 7\n"
     ]
    }
   ],
   "source": [
    "print('Clustering...')\n",
    "clustering = {}\n",
    "for svara in svaras:\n",
    "    print(f'    Clustering svara {svara}')\n",
    "\n",
    "    ix = clust_data[svara]['ix']\n",
    "    k = kwargs[svara]\n",
    "    k['cluster_selection_epsilon'] = float(k['cluster_selection_epsilon'])\n",
    "    k['alpha'] = float(k['alpha'])\n",
    "    if k['min_samples'] is None or np.isnan(k['min_samples']):\n",
    "        k['min_samples'] = None\n",
    "    else:\n",
    "        k['min_samples'] = int(k['min_samples'])\n",
    "    print(f'      kwargs: {k}')\n",
    "    \n",
    "    ix = clust_data[svara]['ix']\n",
    "\n",
    "    X = all_X[ix, :][:, ix]\n",
    "    X = sklearn.preprocessing.normalize(X)\n",
    "\n",
    "    clus_labels = dbscan_precomp(X, **k)\n",
    "\n",
    "    print(f'      n_clusters: {max(clus_labels)}')\n",
    "    clustering[svara] = {'labels':clus_labels, 'ix':ix}"
   ]
  },
  {
   "cell_type": "code",
   "execution_count": 31,
   "metadata": {},
   "outputs": [
    {
     "name": "stdout",
     "output_type": "stream",
     "text": [
      "    Svara sa\n"
     ]
    },
    {
     "name": "stderr",
     "output_type": "stream",
     "text": [
      "100%|████████████████████████████████████████████████████████████████████████████████| 55/55 [00:00<00:00, 14089.46it/s]\n"
     ]
    },
    {
     "name": "stdout",
     "output_type": "stream",
     "text": [
      "    Svara ri\n"
     ]
    },
    {
     "name": "stderr",
     "output_type": "stream",
     "text": [
      "100%|████████████████████████████████████████████████████████████████████████████████| 63/63 [00:00<00:00, 25072.70it/s]\n"
     ]
    },
    {
     "name": "stdout",
     "output_type": "stream",
     "text": [
      "    Svara ga\n"
     ]
    },
    {
     "name": "stderr",
     "output_type": "stream",
     "text": [
      "100%|████████████████████████████████████████████████████████████████████████████████| 55/55 [00:00<00:00, 43957.07it/s]\n"
     ]
    },
    {
     "name": "stdout",
     "output_type": "stream",
     "text": [
      "    Svara ma\n"
     ]
    },
    {
     "name": "stderr",
     "output_type": "stream",
     "text": [
      "100%|███████████████████████████████████████████████████████████████████████████████| 41/41 [00:00<00:00, 304365.42it/s]\n"
     ]
    },
    {
     "name": "stdout",
     "output_type": "stream",
     "text": [
      "    Svara pa\n"
     ]
    },
    {
     "name": "stderr",
     "output_type": "stream",
     "text": [
      "100%|████████████████████████████████████████████████████████████████████████████████| 59/59 [00:00<00:00, 29303.01it/s]\n"
     ]
    },
    {
     "name": "stdout",
     "output_type": "stream",
     "text": [
      "    Svara dha\n"
     ]
    },
    {
     "name": "stderr",
     "output_type": "stream",
     "text": [
      "100%|████████████████████████████████████████████████████████████████████████████████| 80/80 [00:00<00:00, 20899.68it/s]\n"
     ]
    },
    {
     "name": "stdout",
     "output_type": "stream",
     "text": [
      "    Svara ni\n"
     ]
    },
    {
     "name": "stderr",
     "output_type": "stream",
     "text": [
      "100%|████████████████████████████████████████████████████████████████████████████████| 78/78 [00:00<00:00, 28982.61it/s]\n"
     ]
    }
   ],
   "source": [
    "clustering_results = {s:{} for s in svaras}\n",
    "done = {t:[] for t in data}\n",
    "\n",
    "for svara in svaras:\n",
    "    print(f'    Svara {svara}')\n",
    "\n",
    "    results = clustering[svara]\n",
    "    \n",
    "    labels = results['labels']\n",
    "    all_ix = clust_data[svara]['ix']\n",
    "\n",
    "    if samp:\n",
    "        label_tracks = {}\n",
    "        for track in data:\n",
    "            label_tracks[track] = [i for i,x in enumerate(labels) if all_svaras[all_ix[i]][3]==track]\n",
    "\n",
    "        sampled = []\n",
    "        for track in label_tracks:\n",
    "            if samp > len(label_tracks[track]):\n",
    "                sampled += label_tracks[track]\n",
    "            else:\n",
    "                sampled += random.sample(label_tracks[track], samp)\n",
    "    else:\n",
    "        sampled = list(range(len(labels)))\n",
    "\n",
    "    no_cluster = []\n",
    "    for i in tqdm.tqdm(sampled):\n",
    "        cluster = labels[i]\n",
    "        ix = all_ix[i]\n",
    "        _, psamp, annot_ix, track = all_svaras[ix]\n",
    "        \n",
    "        if cluster == -1:\n",
    "            no_cluster += [(annot_ix, track)]\n",
    "            continue\n",
    "\n",
    "        if annot_ix in done[track]:\n",
    "            continue\n",
    "\n",
    "\n",
    "        row = annotations.iloc[annot_ix]\n",
    "        start = row['start_sec']\n",
    "        end = row['end_sec']\n",
    "        annot_svara = row['label']\n",
    "\n",
    "        assert annot_svara == svara, 'annotations label does not match svara label'\n",
    "\n",
    "        clustering_results[svara][ix] = {\n",
    "            'track': track,\n",
    "            'annot_ix': annot_ix,\n",
    "            'cluster': cluster\n",
    "        }\n",
    "\n",
    "        done[track].append(annot_ix)"
   ]
  },
  {
   "cell_type": "markdown",
   "metadata": {},
   "source": [
    "# Context analysis"
   ]
  },
  {
   "cell_type": "code",
   "execution_count": 32,
   "metadata": {
    "scrolled": true
   },
   "outputs": [
    {
     "name": "stdout",
     "output_type": "stream",
     "text": [
      "Extracting Context Information\n"
     ]
    },
    {
     "name": "stderr",
     "output_type": "stream",
     "text": [
      "  0%|                                                                                           | 0/581 [00:00<?, ?it/s]/mnt/c/Users/vivek/Desktop/svara-forms-notebook/src/utils.py:64: UserWarning: Could not infer format, so each element will be parsed individually, falling back to `dateutil`. To ensure parsing is consistent and as-expected, please specify a format.\n",
      "  df['start'] = pd.to_datetime(df['start'])\n",
      "/mnt/c/Users/vivek/Desktop/svara-forms-notebook/src/utils.py:65: UserWarning: Could not infer format, so each element will be parsed individually, falling back to `dateutil`. To ensure parsing is consistent and as-expected, please specify a format.\n",
      "  df['end'] = pd.to_datetime(df['end'])\n",
      "/mnt/c/Users/vivek/Desktop/svara-forms-notebook/src/utils.py:64: UserWarning: Could not infer format, so each element will be parsed individually, falling back to `dateutil`. To ensure parsing is consistent and as-expected, please specify a format.\n",
      "  df['start'] = pd.to_datetime(df['start'])\n",
      "/mnt/c/Users/vivek/Desktop/svara-forms-notebook/src/utils.py:65: UserWarning: Could not infer format, so each element will be parsed individually, falling back to `dateutil`. To ensure parsing is consistent and as-expected, please specify a format.\n",
      "  df['end'] = pd.to_datetime(df['end'])\n",
      "/mnt/c/Users/vivek/Desktop/svara-forms-notebook/src/utils.py:64: UserWarning: Could not infer format, so each element will be parsed individually, falling back to `dateutil`. To ensure parsing is consistent and as-expected, please specify a format.\n",
      "  df['start'] = pd.to_datetime(df['start'])\n",
      "/mnt/c/Users/vivek/Desktop/svara-forms-notebook/src/utils.py:65: UserWarning: Could not infer format, so each element will be parsed individually, falling back to `dateutil`. To ensure parsing is consistent and as-expected, please specify a format.\n",
      "  df['end'] = pd.to_datetime(df['end'])\n",
      "  1%|▍                                                                                  | 3/581 [00:00<00:22, 25.98it/s]/mnt/c/Users/vivek/Desktop/svara-forms-notebook/src/utils.py:64: UserWarning: Could not infer format, so each element will be parsed individually, falling back to `dateutil`. To ensure parsing is consistent and as-expected, please specify a format.\n",
      "  df['start'] = pd.to_datetime(df['start'])\n",
      "/mnt/c/Users/vivek/Desktop/svara-forms-notebook/src/utils.py:65: UserWarning: Could not infer format, so each element will be parsed individually, falling back to `dateutil`. To ensure parsing is consistent and as-expected, please specify a format.\n",
      "  df['end'] = pd.to_datetime(df['end'])\n",
      "/mnt/c/Users/vivek/Desktop/svara-forms-notebook/src/utils.py:64: UserWarning: Could not infer format, so each element will be parsed individually, falling back to `dateutil`. To ensure parsing is consistent and as-expected, please specify a format.\n",
      "  df['start'] = pd.to_datetime(df['start'])\n",
      "/mnt/c/Users/vivek/Desktop/svara-forms-notebook/src/utils.py:65: UserWarning: Could not infer format, so each element will be parsed individually, falling back to `dateutil`. To ensure parsing is consistent and as-expected, please specify a format.\n",
      "  df['end'] = pd.to_datetime(df['end'])\n",
      "/mnt/c/Users/vivek/Desktop/svara-forms-notebook/src/utils.py:64: UserWarning: Could not infer format, so each element will be parsed individually, falling back to `dateutil`. To ensure parsing is consistent and as-expected, please specify a format.\n",
      "  df['start'] = pd.to_datetime(df['start'])\n",
      "/mnt/c/Users/vivek/Desktop/svara-forms-notebook/src/utils.py:65: UserWarning: Could not infer format, so each element will be parsed individually, falling back to `dateutil`. To ensure parsing is consistent and as-expected, please specify a format.\n",
      "  df['end'] = pd.to_datetime(df['end'])\n",
      "  1%|▊                                                                                  | 6/581 [00:00<00:23, 24.29it/s]/mnt/c/Users/vivek/Desktop/svara-forms-notebook/src/utils.py:64: UserWarning: Could not infer format, so each element will be parsed individually, falling back to `dateutil`. To ensure parsing is consistent and as-expected, please specify a format.\n",
      "  df['start'] = pd.to_datetime(df['start'])\n",
      "/mnt/c/Users/vivek/Desktop/svara-forms-notebook/src/utils.py:65: UserWarning: Could not infer format, so each element will be parsed individually, falling back to `dateutil`. To ensure parsing is consistent and as-expected, please specify a format.\n",
      "  df['end'] = pd.to_datetime(df['end'])\n",
      "/mnt/c/Users/vivek/Desktop/svara-forms-notebook/src/utils.py:64: UserWarning: Could not infer format, so each element will be parsed individually, falling back to `dateutil`. To ensure parsing is consistent and as-expected, please specify a format.\n",
      "  df['start'] = pd.to_datetime(df['start'])\n",
      "/mnt/c/Users/vivek/Desktop/svara-forms-notebook/src/utils.py:65: UserWarning: Could not infer format, so each element will be parsed individually, falling back to `dateutil`. To ensure parsing is consistent and as-expected, please specify a format.\n",
      "  df['end'] = pd.to_datetime(df['end'])\n",
      "/mnt/c/Users/vivek/Desktop/svara-forms-notebook/src/utils.py:64: UserWarning: Could not infer format, so each element will be parsed individually, falling back to `dateutil`. To ensure parsing is consistent and as-expected, please specify a format.\n",
      "  df['start'] = pd.to_datetime(df['start'])\n",
      "/mnt/c/Users/vivek/Desktop/svara-forms-notebook/src/utils.py:65: UserWarning: Could not infer format, so each element will be parsed individually, falling back to `dateutil`. To ensure parsing is consistent and as-expected, please specify a format.\n",
      "  df['end'] = pd.to_datetime(df['end'])\n",
      "/mnt/c/Users/vivek/Desktop/svara-forms-notebook/src/utils.py:64: UserWarning: Could not infer format, so each element will be parsed individually, falling back to `dateutil`. To ensure parsing is consistent and as-expected, please specify a format.\n",
      "  df['start'] = pd.to_datetime(df['start'])\n",
      "/mnt/c/Users/vivek/Desktop/svara-forms-notebook/src/utils.py:65: UserWarning: Could not infer format, so each element will be parsed individually, falling back to `dateutil`. To ensure parsing is consistent and as-expected, please specify a format.\n",
      "  df['end'] = pd.to_datetime(df['end'])\n",
      "  2%|█▍                                                                                | 10/581 [00:00<00:20, 27.45it/s]/mnt/c/Users/vivek/Desktop/svara-forms-notebook/src/utils.py:64: UserWarning: Could not infer format, so each element will be parsed individually, falling back to `dateutil`. To ensure parsing is consistent and as-expected, please specify a format.\n",
      "  df['start'] = pd.to_datetime(df['start'])\n",
      "/mnt/c/Users/vivek/Desktop/svara-forms-notebook/src/utils.py:65: UserWarning: Could not infer format, so each element will be parsed individually, falling back to `dateutil`. To ensure parsing is consistent and as-expected, please specify a format.\n",
      "  df['end'] = pd.to_datetime(df['end'])\n",
      "/mnt/c/Users/vivek/Desktop/svara-forms-notebook/src/utils.py:64: UserWarning: Could not infer format, so each element will be parsed individually, falling back to `dateutil`. To ensure parsing is consistent and as-expected, please specify a format.\n",
      "  df['start'] = pd.to_datetime(df['start'])\n",
      "/mnt/c/Users/vivek/Desktop/svara-forms-notebook/src/utils.py:65: UserWarning: Could not infer format, so each element will be parsed individually, falling back to `dateutil`. To ensure parsing is consistent and as-expected, please specify a format.\n",
      "  df['end'] = pd.to_datetime(df['end'])\n",
      "/mnt/c/Users/vivek/Desktop/svara-forms-notebook/src/utils.py:64: UserWarning: Could not infer format, so each element will be parsed individually, falling back to `dateutil`. To ensure parsing is consistent and as-expected, please specify a format.\n",
      "  df['start'] = pd.to_datetime(df['start'])\n",
      "/mnt/c/Users/vivek/Desktop/svara-forms-notebook/src/utils.py:65: UserWarning: Could not infer format, so each element will be parsed individually, falling back to `dateutil`. To ensure parsing is consistent and as-expected, please specify a format.\n",
      "  df['end'] = pd.to_datetime(df['end'])\n",
      "  2%|█▊                                                                                | 13/581 [00:00<00:20, 28.25it/s]/mnt/c/Users/vivek/Desktop/svara-forms-notebook/src/utils.py:64: UserWarning: Could not infer format, so each element will be parsed individually, falling back to `dateutil`. To ensure parsing is consistent and as-expected, please specify a format.\n",
      "  df['start'] = pd.to_datetime(df['start'])\n",
      "/mnt/c/Users/vivek/Desktop/svara-forms-notebook/src/utils.py:65: UserWarning: Could not infer format, so each element will be parsed individually, falling back to `dateutil`. To ensure parsing is consistent and as-expected, please specify a format.\n",
      "  df['end'] = pd.to_datetime(df['end'])\n",
      "/mnt/c/Users/vivek/Desktop/svara-forms-notebook/src/utils.py:64: UserWarning: Could not infer format, so each element will be parsed individually, falling back to `dateutil`. To ensure parsing is consistent and as-expected, please specify a format.\n",
      "  df['start'] = pd.to_datetime(df['start'])\n",
      "/mnt/c/Users/vivek/Desktop/svara-forms-notebook/src/utils.py:65: UserWarning: Could not infer format, so each element will be parsed individually, falling back to `dateutil`. To ensure parsing is consistent and as-expected, please specify a format.\n",
      "  df['end'] = pd.to_datetime(df['end'])\n",
      "/mnt/c/Users/vivek/Desktop/svara-forms-notebook/src/utils.py:64: UserWarning: Could not infer format, so each element will be parsed individually, falling back to `dateutil`. To ensure parsing is consistent and as-expected, please specify a format.\n",
      "  df['start'] = pd.to_datetime(df['start'])\n",
      "/mnt/c/Users/vivek/Desktop/svara-forms-notebook/src/utils.py:65: UserWarning: Could not infer format, so each element will be parsed individually, falling back to `dateutil`. To ensure parsing is consistent and as-expected, please specify a format.\n",
      "  df['end'] = pd.to_datetime(df['end'])\n",
      "  3%|██▎                                                                               | 16/581 [00:00<00:20, 28.21it/s]/mnt/c/Users/vivek/Desktop/svara-forms-notebook/src/utils.py:64: UserWarning: Could not infer format, so each element will be parsed individually, falling back to `dateutil`. To ensure parsing is consistent and as-expected, please specify a format.\n",
      "  df['start'] = pd.to_datetime(df['start'])\n",
      "/mnt/c/Users/vivek/Desktop/svara-forms-notebook/src/utils.py:65: UserWarning: Could not infer format, so each element will be parsed individually, falling back to `dateutil`. To ensure parsing is consistent and as-expected, please specify a format.\n",
      "  df['end'] = pd.to_datetime(df['end'])\n",
      "/mnt/c/Users/vivek/Desktop/svara-forms-notebook/src/utils.py:64: UserWarning: Could not infer format, so each element will be parsed individually, falling back to `dateutil`. To ensure parsing is consistent and as-expected, please specify a format.\n",
      "  df['start'] = pd.to_datetime(df['start'])\n",
      "/mnt/c/Users/vivek/Desktop/svara-forms-notebook/src/utils.py:65: UserWarning: Could not infer format, so each element will be parsed individually, falling back to `dateutil`. To ensure parsing is consistent and as-expected, please specify a format.\n",
      "  df['end'] = pd.to_datetime(df['end'])\n",
      "/mnt/c/Users/vivek/Desktop/svara-forms-notebook/src/utils.py:64: UserWarning: Could not infer format, so each element will be parsed individually, falling back to `dateutil`. To ensure parsing is consistent and as-expected, please specify a format.\n",
      "  df['start'] = pd.to_datetime(df['start'])\n",
      "/mnt/c/Users/vivek/Desktop/svara-forms-notebook/src/utils.py:65: UserWarning: Could not infer format, so each element will be parsed individually, falling back to `dateutil`. To ensure parsing is consistent and as-expected, please specify a format.\n",
      "  df['end'] = pd.to_datetime(df['end'])\n",
      "/mnt/c/Users/vivek/Desktop/svara-forms-notebook/src/utils.py:64: UserWarning: Could not infer format, so each element will be parsed individually, falling back to `dateutil`. To ensure parsing is consistent and as-expected, please specify a format.\n",
      "  df['start'] = pd.to_datetime(df['start'])\n",
      "/mnt/c/Users/vivek/Desktop/svara-forms-notebook/src/utils.py:65: UserWarning: Could not infer format, so each element will be parsed individually, falling back to `dateutil`. To ensure parsing is consistent and as-expected, please specify a format.\n",
      "  df['end'] = pd.to_datetime(df['end'])\n",
      "  3%|██▊                                                                               | 20/581 [00:00<00:19, 28.38it/s]/mnt/c/Users/vivek/Desktop/svara-forms-notebook/src/utils.py:64: UserWarning: Could not infer format, so each element will be parsed individually, falling back to `dateutil`. To ensure parsing is consistent and as-expected, please specify a format.\n",
      "  df['start'] = pd.to_datetime(df['start'])\n",
      "/mnt/c/Users/vivek/Desktop/svara-forms-notebook/src/utils.py:65: UserWarning: Could not infer format, so each element will be parsed individually, falling back to `dateutil`. To ensure parsing is consistent and as-expected, please specify a format.\n",
      "  df['end'] = pd.to_datetime(df['end'])\n",
      "/mnt/c/Users/vivek/Desktop/svara-forms-notebook/src/utils.py:64: UserWarning: Could not infer format, so each element will be parsed individually, falling back to `dateutil`. To ensure parsing is consistent and as-expected, please specify a format.\n",
      "  df['start'] = pd.to_datetime(df['start'])\n",
      "/mnt/c/Users/vivek/Desktop/svara-forms-notebook/src/utils.py:65: UserWarning: Could not infer format, so each element will be parsed individually, falling back to `dateutil`. To ensure parsing is consistent and as-expected, please specify a format.\n",
      "  df['end'] = pd.to_datetime(df['end'])\n",
      "/mnt/c/Users/vivek/Desktop/svara-forms-notebook/src/utils.py:64: UserWarning: Could not infer format, so each element will be parsed individually, falling back to `dateutil`. To ensure parsing is consistent and as-expected, please specify a format.\n",
      "  df['start'] = pd.to_datetime(df['start'])\n",
      "/mnt/c/Users/vivek/Desktop/svara-forms-notebook/src/utils.py:65: UserWarning: Could not infer format, so each element will be parsed individually, falling back to `dateutil`. To ensure parsing is consistent and as-expected, please specify a format.\n",
      "  df['end'] = pd.to_datetime(df['end'])\n",
      "/mnt/c/Users/vivek/Desktop/svara-forms-notebook/src/utils.py:64: UserWarning: Could not infer format, so each element will be parsed individually, falling back to `dateutil`. To ensure parsing is consistent and as-expected, please specify a format.\n",
      "  df['start'] = pd.to_datetime(df['start'])\n",
      "/mnt/c/Users/vivek/Desktop/svara-forms-notebook/src/utils.py:65: UserWarning: Could not infer format, so each element will be parsed individually, falling back to `dateutil`. To ensure parsing is consistent and as-expected, please specify a format.\n",
      "  df['end'] = pd.to_datetime(df['end'])\n",
      "  4%|███▍                                                                              | 24/581 [00:00<00:19, 29.08it/s]/mnt/c/Users/vivek/Desktop/svara-forms-notebook/src/utils.py:64: UserWarning: Could not infer format, so each element will be parsed individually, falling back to `dateutil`. To ensure parsing is consistent and as-expected, please specify a format.\n",
      "  df['start'] = pd.to_datetime(df['start'])\n",
      "/mnt/c/Users/vivek/Desktop/svara-forms-notebook/src/utils.py:65: UserWarning: Could not infer format, so each element will be parsed individually, falling back to `dateutil`. To ensure parsing is consistent and as-expected, please specify a format.\n",
      "  df['end'] = pd.to_datetime(df['end'])\n",
      "/mnt/c/Users/vivek/Desktop/svara-forms-notebook/src/utils.py:64: UserWarning: Could not infer format, so each element will be parsed individually, falling back to `dateutil`. To ensure parsing is consistent and as-expected, please specify a format.\n",
      "  df['start'] = pd.to_datetime(df['start'])\n",
      "/mnt/c/Users/vivek/Desktop/svara-forms-notebook/src/utils.py:65: UserWarning: Could not infer format, so each element will be parsed individually, falling back to `dateutil`. To ensure parsing is consistent and as-expected, please specify a format.\n",
      "  df['end'] = pd.to_datetime(df['end'])\n",
      "/mnt/c/Users/vivek/Desktop/svara-forms-notebook/src/utils.py:64: UserWarning: Could not infer format, so each element will be parsed individually, falling back to `dateutil`. To ensure parsing is consistent and as-expected, please specify a format.\n",
      "  df['start'] = pd.to_datetime(df['start'])\n",
      "/mnt/c/Users/vivek/Desktop/svara-forms-notebook/src/utils.py:65: UserWarning: Could not infer format, so each element will be parsed individually, falling back to `dateutil`. To ensure parsing is consistent and as-expected, please specify a format.\n",
      "  df['end'] = pd.to_datetime(df['end'])\n",
      "  5%|███▊                                                                              | 27/581 [00:00<00:19, 27.81it/s]/mnt/c/Users/vivek/Desktop/svara-forms-notebook/src/utils.py:64: UserWarning: Could not infer format, so each element will be parsed individually, falling back to `dateutil`. To ensure parsing is consistent and as-expected, please specify a format.\n",
      "  df['start'] = pd.to_datetime(df['start'])\n",
      "/mnt/c/Users/vivek/Desktop/svara-forms-notebook/src/utils.py:65: UserWarning: Could not infer format, so each element will be parsed individually, falling back to `dateutil`. To ensure parsing is consistent and as-expected, please specify a format.\n",
      "  df['end'] = pd.to_datetime(df['end'])\n",
      "/mnt/c/Users/vivek/Desktop/svara-forms-notebook/src/utils.py:64: UserWarning: Could not infer format, so each element will be parsed individually, falling back to `dateutil`. To ensure parsing is consistent and as-expected, please specify a format.\n",
      "  df['start'] = pd.to_datetime(df['start'])\n",
      "/mnt/c/Users/vivek/Desktop/svara-forms-notebook/src/utils.py:65: UserWarning: Could not infer format, so each element will be parsed individually, falling back to `dateutil`. To ensure parsing is consistent and as-expected, please specify a format.\n",
      "  df['end'] = pd.to_datetime(df['end'])\n",
      "/mnt/c/Users/vivek/Desktop/svara-forms-notebook/src/utils.py:64: UserWarning: Could not infer format, so each element will be parsed individually, falling back to `dateutil`. To ensure parsing is consistent and as-expected, please specify a format.\n",
      "  df['start'] = pd.to_datetime(df['start'])\n",
      "/mnt/c/Users/vivek/Desktop/svara-forms-notebook/src/utils.py:65: UserWarning: Could not infer format, so each element will be parsed individually, falling back to `dateutil`. To ensure parsing is consistent and as-expected, please specify a format.\n",
      "  df['end'] = pd.to_datetime(df['end'])\n",
      "  5%|████▏                                                                             | 30/581 [00:01<00:19, 27.65it/s]/mnt/c/Users/vivek/Desktop/svara-forms-notebook/src/utils.py:64: UserWarning: Could not infer format, so each element will be parsed individually, falling back to `dateutil`. To ensure parsing is consistent and as-expected, please specify a format.\n",
      "  df['start'] = pd.to_datetime(df['start'])\n",
      "/mnt/c/Users/vivek/Desktop/svara-forms-notebook/src/utils.py:65: UserWarning: Could not infer format, so each element will be parsed individually, falling back to `dateutil`. To ensure parsing is consistent and as-expected, please specify a format.\n",
      "  df['end'] = pd.to_datetime(df['end'])\n",
      "/mnt/c/Users/vivek/Desktop/svara-forms-notebook/src/utils.py:64: UserWarning: Could not infer format, so each element will be parsed individually, falling back to `dateutil`. To ensure parsing is consistent and as-expected, please specify a format.\n",
      "  df['start'] = pd.to_datetime(df['start'])\n",
      "/mnt/c/Users/vivek/Desktop/svara-forms-notebook/src/utils.py:65: UserWarning: Could not infer format, so each element will be parsed individually, falling back to `dateutil`. To ensure parsing is consistent and as-expected, please specify a format.\n",
      "  df['end'] = pd.to_datetime(df['end'])\n",
      "/mnt/c/Users/vivek/Desktop/svara-forms-notebook/src/utils.py:64: UserWarning: Could not infer format, so each element will be parsed individually, falling back to `dateutil`. To ensure parsing is consistent and as-expected, please specify a format.\n",
      "  df['start'] = pd.to_datetime(df['start'])\n",
      "/mnt/c/Users/vivek/Desktop/svara-forms-notebook/src/utils.py:65: UserWarning: Could not infer format, so each element will be parsed individually, falling back to `dateutil`. To ensure parsing is consistent and as-expected, please specify a format.\n",
      "  df['end'] = pd.to_datetime(df['end'])\n",
      "  6%|████▋                                                                             | 33/581 [00:01<00:19, 28.08it/s]/mnt/c/Users/vivek/Desktop/svara-forms-notebook/src/utils.py:64: UserWarning: Could not infer format, so each element will be parsed individually, falling back to `dateutil`. To ensure parsing is consistent and as-expected, please specify a format.\n",
      "  df['start'] = pd.to_datetime(df['start'])\n",
      "/mnt/c/Users/vivek/Desktop/svara-forms-notebook/src/utils.py:65: UserWarning: Could not infer format, so each element will be parsed individually, falling back to `dateutil`. To ensure parsing is consistent and as-expected, please specify a format.\n",
      "  df['end'] = pd.to_datetime(df['end'])\n",
      "/mnt/c/Users/vivek/Desktop/svara-forms-notebook/src/utils.py:64: UserWarning: Could not infer format, so each element will be parsed individually, falling back to `dateutil`. To ensure parsing is consistent and as-expected, please specify a format.\n",
      "  df['start'] = pd.to_datetime(df['start'])\n",
      "/mnt/c/Users/vivek/Desktop/svara-forms-notebook/src/utils.py:65: UserWarning: Could not infer format, so each element will be parsed individually, falling back to `dateutil`. To ensure parsing is consistent and as-expected, please specify a format.\n",
      "  df['end'] = pd.to_datetime(df['end'])\n",
      "/mnt/c/Users/vivek/Desktop/svara-forms-notebook/src/utils.py:64: UserWarning: Could not infer format, so each element will be parsed individually, falling back to `dateutil`. To ensure parsing is consistent and as-expected, please specify a format.\n",
      "  df['start'] = pd.to_datetime(df['start'])\n",
      "/mnt/c/Users/vivek/Desktop/svara-forms-notebook/src/utils.py:65: UserWarning: Could not infer format, so each element will be parsed individually, falling back to `dateutil`. To ensure parsing is consistent and as-expected, please specify a format.\n",
      "  df['end'] = pd.to_datetime(df['end'])\n",
      "  6%|█████                                                                             | 36/581 [00:01<00:19, 28.15it/s]/mnt/c/Users/vivek/Desktop/svara-forms-notebook/src/utils.py:64: UserWarning: Could not infer format, so each element will be parsed individually, falling back to `dateutil`. To ensure parsing is consistent and as-expected, please specify a format.\n",
      "  df['start'] = pd.to_datetime(df['start'])\n",
      "/mnt/c/Users/vivek/Desktop/svara-forms-notebook/src/utils.py:65: UserWarning: Could not infer format, so each element will be parsed individually, falling back to `dateutil`. To ensure parsing is consistent and as-expected, please specify a format.\n",
      "  df['end'] = pd.to_datetime(df['end'])\n",
      "/mnt/c/Users/vivek/Desktop/svara-forms-notebook/src/utils.py:64: UserWarning: Could not infer format, so each element will be parsed individually, falling back to `dateutil`. To ensure parsing is consistent and as-expected, please specify a format.\n",
      "  df['start'] = pd.to_datetime(df['start'])\n",
      "/mnt/c/Users/vivek/Desktop/svara-forms-notebook/src/utils.py:65: UserWarning: Could not infer format, so each element will be parsed individually, falling back to `dateutil`. To ensure parsing is consistent and as-expected, please specify a format.\n",
      "  df['end'] = pd.to_datetime(df['end'])\n",
      "/mnt/c/Users/vivek/Desktop/svara-forms-notebook/src/utils.py:64: UserWarning: Could not infer format, so each element will be parsed individually, falling back to `dateutil`. To ensure parsing is consistent and as-expected, please specify a format.\n",
      "  df['start'] = pd.to_datetime(df['start'])\n",
      "/mnt/c/Users/vivek/Desktop/svara-forms-notebook/src/utils.py:65: UserWarning: Could not infer format, so each element will be parsed individually, falling back to `dateutil`. To ensure parsing is consistent and as-expected, please specify a format.\n",
      "  df['end'] = pd.to_datetime(df['end'])\n",
      "/mnt/c/Users/vivek/Desktop/svara-forms-notebook/src/utils.py:64: UserWarning: Could not infer format, so each element will be parsed individually, falling back to `dateutil`. To ensure parsing is consistent and as-expected, please specify a format.\n",
      "  df['start'] = pd.to_datetime(df['start'])\n",
      "/mnt/c/Users/vivek/Desktop/svara-forms-notebook/src/utils.py:65: UserWarning: Could not infer format, so each element will be parsed individually, falling back to `dateutil`. To ensure parsing is consistent and as-expected, please specify a format.\n",
      "  df['end'] = pd.to_datetime(df['end'])\n",
      "  7%|█████▋                                                                            | 40/581 [00:01<00:18, 28.73it/s]/mnt/c/Users/vivek/Desktop/svara-forms-notebook/src/utils.py:64: UserWarning: Could not infer format, so each element will be parsed individually, falling back to `dateutil`. To ensure parsing is consistent and as-expected, please specify a format.\n",
      "  df['start'] = pd.to_datetime(df['start'])\n",
      "/mnt/c/Users/vivek/Desktop/svara-forms-notebook/src/utils.py:65: UserWarning: Could not infer format, so each element will be parsed individually, falling back to `dateutil`. To ensure parsing is consistent and as-expected, please specify a format.\n",
      "  df['end'] = pd.to_datetime(df['end'])\n",
      "/mnt/c/Users/vivek/Desktop/svara-forms-notebook/src/utils.py:64: UserWarning: Could not infer format, so each element will be parsed individually, falling back to `dateutil`. To ensure parsing is consistent and as-expected, please specify a format.\n",
      "  df['start'] = pd.to_datetime(df['start'])\n",
      "/mnt/c/Users/vivek/Desktop/svara-forms-notebook/src/utils.py:65: UserWarning: Could not infer format, so each element will be parsed individually, falling back to `dateutil`. To ensure parsing is consistent and as-expected, please specify a format.\n",
      "  df['end'] = pd.to_datetime(df['end'])\n",
      "/mnt/c/Users/vivek/Desktop/svara-forms-notebook/src/utils.py:64: UserWarning: Could not infer format, so each element will be parsed individually, falling back to `dateutil`. To ensure parsing is consistent and as-expected, please specify a format.\n",
      "  df['start'] = pd.to_datetime(df['start'])\n",
      "/mnt/c/Users/vivek/Desktop/svara-forms-notebook/src/utils.py:65: UserWarning: Could not infer format, so each element will be parsed individually, falling back to `dateutil`. To ensure parsing is consistent and as-expected, please specify a format.\n",
      "  df['end'] = pd.to_datetime(df['end'])\n",
      "  7%|██████                                                                            | 43/581 [00:01<00:18, 29.05it/s]/mnt/c/Users/vivek/Desktop/svara-forms-notebook/src/utils.py:64: UserWarning: Could not infer format, so each element will be parsed individually, falling back to `dateutil`. To ensure parsing is consistent and as-expected, please specify a format.\n",
      "  df['start'] = pd.to_datetime(df['start'])\n",
      "/mnt/c/Users/vivek/Desktop/svara-forms-notebook/src/utils.py:65: UserWarning: Could not infer format, so each element will be parsed individually, falling back to `dateutil`. To ensure parsing is consistent and as-expected, please specify a format.\n",
      "  df['end'] = pd.to_datetime(df['end'])\n",
      "/mnt/c/Users/vivek/Desktop/svara-forms-notebook/src/utils.py:64: UserWarning: Could not infer format, so each element will be parsed individually, falling back to `dateutil`. To ensure parsing is consistent and as-expected, please specify a format.\n",
      "  df['start'] = pd.to_datetime(df['start'])\n",
      "/mnt/c/Users/vivek/Desktop/svara-forms-notebook/src/utils.py:65: UserWarning: Could not infer format, so each element will be parsed individually, falling back to `dateutil`. To ensure parsing is consistent and as-expected, please specify a format.\n",
      "  df['end'] = pd.to_datetime(df['end'])\n",
      "/mnt/c/Users/vivek/Desktop/svara-forms-notebook/src/utils.py:64: UserWarning: Could not infer format, so each element will be parsed individually, falling back to `dateutil`. To ensure parsing is consistent and as-expected, please specify a format.\n",
      "  df['start'] = pd.to_datetime(df['start'])\n",
      "/mnt/c/Users/vivek/Desktop/svara-forms-notebook/src/utils.py:65: UserWarning: Could not infer format, so each element will be parsed individually, falling back to `dateutil`. To ensure parsing is consistent and as-expected, please specify a format.\n",
      "  df['end'] = pd.to_datetime(df['end'])\n",
      "  8%|██████▍                                                                           | 46/581 [00:01<00:18, 28.61it/s]/mnt/c/Users/vivek/Desktop/svara-forms-notebook/src/utils.py:64: UserWarning: Could not infer format, so each element will be parsed individually, falling back to `dateutil`. To ensure parsing is consistent and as-expected, please specify a format.\n",
      "  df['start'] = pd.to_datetime(df['start'])\n",
      "/mnt/c/Users/vivek/Desktop/svara-forms-notebook/src/utils.py:65: UserWarning: Could not infer format, so each element will be parsed individually, falling back to `dateutil`. To ensure parsing is consistent and as-expected, please specify a format.\n",
      "  df['end'] = pd.to_datetime(df['end'])\n",
      "/mnt/c/Users/vivek/Desktop/svara-forms-notebook/src/utils.py:64: UserWarning: Could not infer format, so each element will be parsed individually, falling back to `dateutil`. To ensure parsing is consistent and as-expected, please specify a format.\n",
      "  df['start'] = pd.to_datetime(df['start'])\n",
      "/mnt/c/Users/vivek/Desktop/svara-forms-notebook/src/utils.py:65: UserWarning: Could not infer format, so each element will be parsed individually, falling back to `dateutil`. To ensure parsing is consistent and as-expected, please specify a format.\n",
      "  df['end'] = pd.to_datetime(df['end'])\n",
      "/mnt/c/Users/vivek/Desktop/svara-forms-notebook/src/utils.py:64: UserWarning: Could not infer format, so each element will be parsed individually, falling back to `dateutil`. To ensure parsing is consistent and as-expected, please specify a format.\n",
      "  df['start'] = pd.to_datetime(df['start'])\n",
      "/mnt/c/Users/vivek/Desktop/svara-forms-notebook/src/utils.py:65: UserWarning: Could not infer format, so each element will be parsed individually, falling back to `dateutil`. To ensure parsing is consistent and as-expected, please specify a format.\n",
      "  df['end'] = pd.to_datetime(df['end'])\n",
      "  8%|██████▉                                                                           | 49/581 [00:01<00:18, 28.42it/s]/mnt/c/Users/vivek/Desktop/svara-forms-notebook/src/utils.py:64: UserWarning: Could not infer format, so each element will be parsed individually, falling back to `dateutil`. To ensure parsing is consistent and as-expected, please specify a format.\n",
      "  df['start'] = pd.to_datetime(df['start'])\n",
      "/mnt/c/Users/vivek/Desktop/svara-forms-notebook/src/utils.py:65: UserWarning: Could not infer format, so each element will be parsed individually, falling back to `dateutil`. To ensure parsing is consistent and as-expected, please specify a format.\n",
      "  df['end'] = pd.to_datetime(df['end'])\n",
      "/mnt/c/Users/vivek/Desktop/svara-forms-notebook/src/utils.py:64: UserWarning: Could not infer format, so each element will be parsed individually, falling back to `dateutil`. To ensure parsing is consistent and as-expected, please specify a format.\n",
      "  df['start'] = pd.to_datetime(df['start'])\n",
      "/mnt/c/Users/vivek/Desktop/svara-forms-notebook/src/utils.py:65: UserWarning: Could not infer format, so each element will be parsed individually, falling back to `dateutil`. To ensure parsing is consistent and as-expected, please specify a format.\n",
      "  df['end'] = pd.to_datetime(df['end'])\n",
      "/mnt/c/Users/vivek/Desktop/svara-forms-notebook/src/utils.py:64: UserWarning: Could not infer format, so each element will be parsed individually, falling back to `dateutil`. To ensure parsing is consistent and as-expected, please specify a format.\n",
      "  df['start'] = pd.to_datetime(df['start'])\n",
      "/mnt/c/Users/vivek/Desktop/svara-forms-notebook/src/utils.py:65: UserWarning: Could not infer format, so each element will be parsed individually, falling back to `dateutil`. To ensure parsing is consistent and as-expected, please specify a format.\n",
      "  df['end'] = pd.to_datetime(df['end'])\n",
      "  9%|███████▎                                                                          | 52/581 [00:01<00:18, 28.73it/s]/mnt/c/Users/vivek/Desktop/svara-forms-notebook/src/utils.py:64: UserWarning: Could not infer format, so each element will be parsed individually, falling back to `dateutil`. To ensure parsing is consistent and as-expected, please specify a format.\n",
      "  df['start'] = pd.to_datetime(df['start'])\n",
      "/mnt/c/Users/vivek/Desktop/svara-forms-notebook/src/utils.py:65: UserWarning: Could not infer format, so each element will be parsed individually, falling back to `dateutil`. To ensure parsing is consistent and as-expected, please specify a format.\n",
      "  df['end'] = pd.to_datetime(df['end'])\n",
      "/mnt/c/Users/vivek/Desktop/svara-forms-notebook/src/utils.py:64: UserWarning: Could not infer format, so each element will be parsed individually, falling back to `dateutil`. To ensure parsing is consistent and as-expected, please specify a format.\n",
      "  df['start'] = pd.to_datetime(df['start'])\n",
      "/mnt/c/Users/vivek/Desktop/svara-forms-notebook/src/utils.py:65: UserWarning: Could not infer format, so each element will be parsed individually, falling back to `dateutil`. To ensure parsing is consistent and as-expected, please specify a format.\n",
      "  df['end'] = pd.to_datetime(df['end'])\n",
      "/mnt/c/Users/vivek/Desktop/svara-forms-notebook/src/utils.py:64: UserWarning: Could not infer format, so each element will be parsed individually, falling back to `dateutil`. To ensure parsing is consistent and as-expected, please specify a format.\n",
      "  df['start'] = pd.to_datetime(df['start'])\n",
      "/mnt/c/Users/vivek/Desktop/svara-forms-notebook/src/utils.py:65: UserWarning: Could not infer format, so each element will be parsed individually, falling back to `dateutil`. To ensure parsing is consistent and as-expected, please specify a format.\n",
      "  df['end'] = pd.to_datetime(df['end'])\n",
      "  9%|███████▊                                                                          | 55/581 [00:01<00:18, 28.68it/s]/mnt/c/Users/vivek/Desktop/svara-forms-notebook/src/utils.py:64: UserWarning: Could not infer format, so each element will be parsed individually, falling back to `dateutil`. To ensure parsing is consistent and as-expected, please specify a format.\n",
      "  df['start'] = pd.to_datetime(df['start'])\n",
      "/mnt/c/Users/vivek/Desktop/svara-forms-notebook/src/utils.py:65: UserWarning: Could not infer format, so each element will be parsed individually, falling back to `dateutil`. To ensure parsing is consistent and as-expected, please specify a format.\n",
      "  df['end'] = pd.to_datetime(df['end'])\n",
      "/mnt/c/Users/vivek/Desktop/svara-forms-notebook/src/utils.py:64: UserWarning: Could not infer format, so each element will be parsed individually, falling back to `dateutil`. To ensure parsing is consistent and as-expected, please specify a format.\n",
      "  df['start'] = pd.to_datetime(df['start'])\n",
      "/mnt/c/Users/vivek/Desktop/svara-forms-notebook/src/utils.py:65: UserWarning: Could not infer format, so each element will be parsed individually, falling back to `dateutil`. To ensure parsing is consistent and as-expected, please specify a format.\n",
      "  df['end'] = pd.to_datetime(df['end'])\n",
      "/mnt/c/Users/vivek/Desktop/svara-forms-notebook/src/utils.py:64: UserWarning: Could not infer format, so each element will be parsed individually, falling back to `dateutil`. To ensure parsing is consistent and as-expected, please specify a format.\n",
      "  df['start'] = pd.to_datetime(df['start'])\n",
      "/mnt/c/Users/vivek/Desktop/svara-forms-notebook/src/utils.py:65: UserWarning: Could not infer format, so each element will be parsed individually, falling back to `dateutil`. To ensure parsing is consistent and as-expected, please specify a format.\n",
      "  df['end'] = pd.to_datetime(df['end'])\n",
      " 10%|████████▎                                                                         | 59/581 [00:02<00:16, 31.45it/s]/mnt/c/Users/vivek/Desktop/svara-forms-notebook/src/utils.py:64: UserWarning: Could not infer format, so each element will be parsed individually, falling back to `dateutil`. To ensure parsing is consistent and as-expected, please specify a format.\n",
      "  df['start'] = pd.to_datetime(df['start'])\n",
      "/mnt/c/Users/vivek/Desktop/svara-forms-notebook/src/utils.py:65: UserWarning: Could not infer format, so each element will be parsed individually, falling back to `dateutil`. To ensure parsing is consistent and as-expected, please specify a format.\n",
      "  df['end'] = pd.to_datetime(df['end'])\n",
      "/mnt/c/Users/vivek/Desktop/svara-forms-notebook/src/utils.py:64: UserWarning: Could not infer format, so each element will be parsed individually, falling back to `dateutil`. To ensure parsing is consistent and as-expected, please specify a format.\n",
      "  df['start'] = pd.to_datetime(df['start'])\n",
      "/mnt/c/Users/vivek/Desktop/svara-forms-notebook/src/utils.py:65: UserWarning: Could not infer format, so each element will be parsed individually, falling back to `dateutil`. To ensure parsing is consistent and as-expected, please specify a format.\n",
      "  df['end'] = pd.to_datetime(df['end'])\n",
      "/mnt/c/Users/vivek/Desktop/svara-forms-notebook/src/utils.py:64: UserWarning: Could not infer format, so each element will be parsed individually, falling back to `dateutil`. To ensure parsing is consistent and as-expected, please specify a format.\n",
      "  df['start'] = pd.to_datetime(df['start'])\n",
      "/mnt/c/Users/vivek/Desktop/svara-forms-notebook/src/utils.py:65: UserWarning: Could not infer format, so each element will be parsed individually, falling back to `dateutil`. To ensure parsing is consistent and as-expected, please specify a format.\n",
      "  df['end'] = pd.to_datetime(df['end'])\n",
      "/mnt/c/Users/vivek/Desktop/svara-forms-notebook/src/utils.py:64: UserWarning: Could not infer format, so each element will be parsed individually, falling back to `dateutil`. To ensure parsing is consistent and as-expected, please specify a format.\n",
      "  df['start'] = pd.to_datetime(df['start'])\n",
      "/mnt/c/Users/vivek/Desktop/svara-forms-notebook/src/utils.py:65: UserWarning: Could not infer format, so each element will be parsed individually, falling back to `dateutil`. To ensure parsing is consistent and as-expected, please specify a format.\n",
      "  df['end'] = pd.to_datetime(df['end'])\n",
      " 11%|████████▉                                                                         | 63/581 [00:02<00:17, 30.08it/s]/mnt/c/Users/vivek/Desktop/svara-forms-notebook/src/utils.py:64: UserWarning: Could not infer format, so each element will be parsed individually, falling back to `dateutil`. To ensure parsing is consistent and as-expected, please specify a format.\n",
      "  df['start'] = pd.to_datetime(df['start'])\n",
      "/mnt/c/Users/vivek/Desktop/svara-forms-notebook/src/utils.py:65: UserWarning: Could not infer format, so each element will be parsed individually, falling back to `dateutil`. To ensure parsing is consistent and as-expected, please specify a format.\n",
      "  df['end'] = pd.to_datetime(df['end'])\n",
      "/mnt/c/Users/vivek/Desktop/svara-forms-notebook/src/utils.py:64: UserWarning: Could not infer format, so each element will be parsed individually, falling back to `dateutil`. To ensure parsing is consistent and as-expected, please specify a format.\n",
      "  df['start'] = pd.to_datetime(df['start'])\n",
      "/mnt/c/Users/vivek/Desktop/svara-forms-notebook/src/utils.py:65: UserWarning: Could not infer format, so each element will be parsed individually, falling back to `dateutil`. To ensure parsing is consistent and as-expected, please specify a format.\n",
      "  df['end'] = pd.to_datetime(df['end'])\n",
      "/mnt/c/Users/vivek/Desktop/svara-forms-notebook/src/utils.py:64: UserWarning: Could not infer format, so each element will be parsed individually, falling back to `dateutil`. To ensure parsing is consistent and as-expected, please specify a format.\n",
      "  df['start'] = pd.to_datetime(df['start'])\n",
      "/mnt/c/Users/vivek/Desktop/svara-forms-notebook/src/utils.py:65: UserWarning: Could not infer format, so each element will be parsed individually, falling back to `dateutil`. To ensure parsing is consistent and as-expected, please specify a format.\n",
      "  df['end'] = pd.to_datetime(df['end'])\n",
      "/mnt/c/Users/vivek/Desktop/svara-forms-notebook/src/utils.py:64: UserWarning: Could not infer format, so each element will be parsed individually, falling back to `dateutil`. To ensure parsing is consistent and as-expected, please specify a format.\n",
      "  df['start'] = pd.to_datetime(df['start'])\n",
      "/mnt/c/Users/vivek/Desktop/svara-forms-notebook/src/utils.py:65: UserWarning: Could not infer format, so each element will be parsed individually, falling back to `dateutil`. To ensure parsing is consistent and as-expected, please specify a format.\n",
      "  df['end'] = pd.to_datetime(df['end'])\n",
      " 12%|█████████▍                                                                        | 67/581 [00:02<00:17, 29.86it/s]/mnt/c/Users/vivek/Desktop/svara-forms-notebook/src/utils.py:64: UserWarning: Could not infer format, so each element will be parsed individually, falling back to `dateutil`. To ensure parsing is consistent and as-expected, please specify a format.\n",
      "  df['start'] = pd.to_datetime(df['start'])\n",
      "/mnt/c/Users/vivek/Desktop/svara-forms-notebook/src/utils.py:65: UserWarning: Could not infer format, so each element will be parsed individually, falling back to `dateutil`. To ensure parsing is consistent and as-expected, please specify a format.\n",
      "  df['end'] = pd.to_datetime(df['end'])\n",
      "/mnt/c/Users/vivek/Desktop/svara-forms-notebook/src/utils.py:64: UserWarning: Could not infer format, so each element will be parsed individually, falling back to `dateutil`. To ensure parsing is consistent and as-expected, please specify a format.\n",
      "  df['start'] = pd.to_datetime(df['start'])\n",
      "/mnt/c/Users/vivek/Desktop/svara-forms-notebook/src/utils.py:65: UserWarning: Could not infer format, so each element will be parsed individually, falling back to `dateutil`. To ensure parsing is consistent and as-expected, please specify a format.\n",
      "  df['end'] = pd.to_datetime(df['end'])\n",
      "/mnt/c/Users/vivek/Desktop/svara-forms-notebook/src/utils.py:64: UserWarning: Could not infer format, so each element will be parsed individually, falling back to `dateutil`. To ensure parsing is consistent and as-expected, please specify a format.\n",
      "  df['start'] = pd.to_datetime(df['start'])\n",
      "/mnt/c/Users/vivek/Desktop/svara-forms-notebook/src/utils.py:65: UserWarning: Could not infer format, so each element will be parsed individually, falling back to `dateutil`. To ensure parsing is consistent and as-expected, please specify a format.\n",
      "  df['end'] = pd.to_datetime(df['end'])\n",
      "/mnt/c/Users/vivek/Desktop/svara-forms-notebook/src/utils.py:64: UserWarning: Could not infer format, so each element will be parsed individually, falling back to `dateutil`. To ensure parsing is consistent and as-expected, please specify a format.\n",
      "  df['start'] = pd.to_datetime(df['start'])\n",
      "/mnt/c/Users/vivek/Desktop/svara-forms-notebook/src/utils.py:65: UserWarning: Could not infer format, so each element will be parsed individually, falling back to `dateutil`. To ensure parsing is consistent and as-expected, please specify a format.\n",
      "  df['end'] = pd.to_datetime(df['end'])\n",
      " 12%|██████████                                                                        | 71/581 [00:02<00:17, 29.45it/s]/mnt/c/Users/vivek/Desktop/svara-forms-notebook/src/utils.py:64: UserWarning: Could not infer format, so each element will be parsed individually, falling back to `dateutil`. To ensure parsing is consistent and as-expected, please specify a format.\n",
      "  df['start'] = pd.to_datetime(df['start'])\n",
      "/mnt/c/Users/vivek/Desktop/svara-forms-notebook/src/utils.py:65: UserWarning: Could not infer format, so each element will be parsed individually, falling back to `dateutil`. To ensure parsing is consistent and as-expected, please specify a format.\n",
      "  df['end'] = pd.to_datetime(df['end'])\n",
      "/mnt/c/Users/vivek/Desktop/svara-forms-notebook/src/utils.py:64: UserWarning: Could not infer format, so each element will be parsed individually, falling back to `dateutil`. To ensure parsing is consistent and as-expected, please specify a format.\n",
      "  df['start'] = pd.to_datetime(df['start'])\n",
      "/mnt/c/Users/vivek/Desktop/svara-forms-notebook/src/utils.py:65: UserWarning: Could not infer format, so each element will be parsed individually, falling back to `dateutil`. To ensure parsing is consistent and as-expected, please specify a format.\n",
      "  df['end'] = pd.to_datetime(df['end'])\n",
      "/mnt/c/Users/vivek/Desktop/svara-forms-notebook/src/utils.py:64: UserWarning: Could not infer format, so each element will be parsed individually, falling back to `dateutil`. To ensure parsing is consistent and as-expected, please specify a format.\n",
      "  df['start'] = pd.to_datetime(df['start'])\n",
      "/mnt/c/Users/vivek/Desktop/svara-forms-notebook/src/utils.py:65: UserWarning: Could not infer format, so each element will be parsed individually, falling back to `dateutil`. To ensure parsing is consistent and as-expected, please specify a format.\n",
      "  df['end'] = pd.to_datetime(df['end'])\n",
      " 13%|██████████▍                                                                       | 74/581 [00:02<00:17, 28.73it/s]/mnt/c/Users/vivek/Desktop/svara-forms-notebook/src/utils.py:64: UserWarning: Could not infer format, so each element will be parsed individually, falling back to `dateutil`. To ensure parsing is consistent and as-expected, please specify a format.\n",
      "  df['start'] = pd.to_datetime(df['start'])\n",
      "/mnt/c/Users/vivek/Desktop/svara-forms-notebook/src/utils.py:65: UserWarning: Could not infer format, so each element will be parsed individually, falling back to `dateutil`. To ensure parsing is consistent and as-expected, please specify a format.\n",
      "  df['end'] = pd.to_datetime(df['end'])\n",
      "/mnt/c/Users/vivek/Desktop/svara-forms-notebook/src/utils.py:64: UserWarning: Could not infer format, so each element will be parsed individually, falling back to `dateutil`. To ensure parsing is consistent and as-expected, please specify a format.\n",
      "  df['start'] = pd.to_datetime(df['start'])\n",
      "/mnt/c/Users/vivek/Desktop/svara-forms-notebook/src/utils.py:65: UserWarning: Could not infer format, so each element will be parsed individually, falling back to `dateutil`. To ensure parsing is consistent and as-expected, please specify a format.\n",
      "  df['end'] = pd.to_datetime(df['end'])\n",
      "/mnt/c/Users/vivek/Desktop/svara-forms-notebook/src/utils.py:64: UserWarning: Could not infer format, so each element will be parsed individually, falling back to `dateutil`. To ensure parsing is consistent and as-expected, please specify a format.\n",
      "  df['start'] = pd.to_datetime(df['start'])\n",
      "/mnt/c/Users/vivek/Desktop/svara-forms-notebook/src/utils.py:65: UserWarning: Could not infer format, so each element will be parsed individually, falling back to `dateutil`. To ensure parsing is consistent and as-expected, please specify a format.\n",
      "  df['end'] = pd.to_datetime(df['end'])\n",
      " 13%|██████████▊                                                                       | 77/581 [00:02<00:17, 28.78it/s]/mnt/c/Users/vivek/Desktop/svara-forms-notebook/src/utils.py:64: UserWarning: Could not infer format, so each element will be parsed individually, falling back to `dateutil`. To ensure parsing is consistent and as-expected, please specify a format.\n",
      "  df['start'] = pd.to_datetime(df['start'])\n",
      "/mnt/c/Users/vivek/Desktop/svara-forms-notebook/src/utils.py:65: UserWarning: Could not infer format, so each element will be parsed individually, falling back to `dateutil`. To ensure parsing is consistent and as-expected, please specify a format.\n",
      "  df['end'] = pd.to_datetime(df['end'])\n",
      "/mnt/c/Users/vivek/Desktop/svara-forms-notebook/src/utils.py:64: UserWarning: Could not infer format, so each element will be parsed individually, falling back to `dateutil`. To ensure parsing is consistent and as-expected, please specify a format.\n",
      "  df['start'] = pd.to_datetime(df['start'])\n",
      "/mnt/c/Users/vivek/Desktop/svara-forms-notebook/src/utils.py:65: UserWarning: Could not infer format, so each element will be parsed individually, falling back to `dateutil`. To ensure parsing is consistent and as-expected, please specify a format.\n",
      "  df['end'] = pd.to_datetime(df['end'])\n",
      "/mnt/c/Users/vivek/Desktop/svara-forms-notebook/src/utils.py:64: UserWarning: Could not infer format, so each element will be parsed individually, falling back to `dateutil`. To ensure parsing is consistent and as-expected, please specify a format.\n",
      "  df['start'] = pd.to_datetime(df['start'])\n",
      "/mnt/c/Users/vivek/Desktop/svara-forms-notebook/src/utils.py:65: UserWarning: Could not infer format, so each element will be parsed individually, falling back to `dateutil`. To ensure parsing is consistent and as-expected, please specify a format.\n",
      "  df['end'] = pd.to_datetime(df['end'])\n",
      " 14%|███████████▎                                                                      | 80/581 [00:02<00:17, 28.40it/s]/mnt/c/Users/vivek/Desktop/svara-forms-notebook/src/utils.py:64: UserWarning: Could not infer format, so each element will be parsed individually, falling back to `dateutil`. To ensure parsing is consistent and as-expected, please specify a format.\n",
      "  df['start'] = pd.to_datetime(df['start'])\n",
      "/mnt/c/Users/vivek/Desktop/svara-forms-notebook/src/utils.py:65: UserWarning: Could not infer format, so each element will be parsed individually, falling back to `dateutil`. To ensure parsing is consistent and as-expected, please specify a format.\n",
      "  df['end'] = pd.to_datetime(df['end'])\n",
      "/mnt/c/Users/vivek/Desktop/svara-forms-notebook/src/utils.py:64: UserWarning: Could not infer format, so each element will be parsed individually, falling back to `dateutil`. To ensure parsing is consistent and as-expected, please specify a format.\n",
      "  df['start'] = pd.to_datetime(df['start'])\n",
      "/mnt/c/Users/vivek/Desktop/svara-forms-notebook/src/utils.py:65: UserWarning: Could not infer format, so each element will be parsed individually, falling back to `dateutil`. To ensure parsing is consistent and as-expected, please specify a format.\n",
      "  df['end'] = pd.to_datetime(df['end'])\n",
      "/mnt/c/Users/vivek/Desktop/svara-forms-notebook/src/utils.py:64: UserWarning: Could not infer format, so each element will be parsed individually, falling back to `dateutil`. To ensure parsing is consistent and as-expected, please specify a format.\n",
      "  df['start'] = pd.to_datetime(df['start'])\n",
      "/mnt/c/Users/vivek/Desktop/svara-forms-notebook/src/utils.py:65: UserWarning: Could not infer format, so each element will be parsed individually, falling back to `dateutil`. To ensure parsing is consistent and as-expected, please specify a format.\n",
      "  df['end'] = pd.to_datetime(df['end'])\n",
      " 14%|███████████▋                                                                      | 83/581 [00:02<00:17, 27.70it/s]/mnt/c/Users/vivek/Desktop/svara-forms-notebook/src/utils.py:64: UserWarning: Could not infer format, so each element will be parsed individually, falling back to `dateutil`. To ensure parsing is consistent and as-expected, please specify a format.\n",
      "  df['start'] = pd.to_datetime(df['start'])\n",
      "/mnt/c/Users/vivek/Desktop/svara-forms-notebook/src/utils.py:65: UserWarning: Could not infer format, so each element will be parsed individually, falling back to `dateutil`. To ensure parsing is consistent and as-expected, please specify a format.\n",
      "  df['end'] = pd.to_datetime(df['end'])\n",
      "/mnt/c/Users/vivek/Desktop/svara-forms-notebook/src/utils.py:64: UserWarning: Could not infer format, so each element will be parsed individually, falling back to `dateutil`. To ensure parsing is consistent and as-expected, please specify a format.\n",
      "  df['start'] = pd.to_datetime(df['start'])\n",
      "/mnt/c/Users/vivek/Desktop/svara-forms-notebook/src/utils.py:65: UserWarning: Could not infer format, so each element will be parsed individually, falling back to `dateutil`. To ensure parsing is consistent and as-expected, please specify a format.\n",
      "  df['end'] = pd.to_datetime(df['end'])\n",
      "/mnt/c/Users/vivek/Desktop/svara-forms-notebook/src/utils.py:64: UserWarning: Could not infer format, so each element will be parsed individually, falling back to `dateutil`. To ensure parsing is consistent and as-expected, please specify a format.\n",
      "  df['start'] = pd.to_datetime(df['start'])\n",
      "/mnt/c/Users/vivek/Desktop/svara-forms-notebook/src/utils.py:65: UserWarning: Could not infer format, so each element will be parsed individually, falling back to `dateutil`. To ensure parsing is consistent and as-expected, please specify a format.\n",
      "  df['end'] = pd.to_datetime(df['end'])\n",
      " 15%|████████████▏                                                                     | 86/581 [00:03<00:18, 27.38it/s]/mnt/c/Users/vivek/Desktop/svara-forms-notebook/src/utils.py:64: UserWarning: Could not infer format, so each element will be parsed individually, falling back to `dateutil`. To ensure parsing is consistent and as-expected, please specify a format.\n",
      "  df['start'] = pd.to_datetime(df['start'])\n",
      "/mnt/c/Users/vivek/Desktop/svara-forms-notebook/src/utils.py:65: UserWarning: Could not infer format, so each element will be parsed individually, falling back to `dateutil`. To ensure parsing is consistent and as-expected, please specify a format.\n",
      "  df['end'] = pd.to_datetime(df['end'])\n",
      "/mnt/c/Users/vivek/Desktop/svara-forms-notebook/src/utils.py:64: UserWarning: Could not infer format, so each element will be parsed individually, falling back to `dateutil`. To ensure parsing is consistent and as-expected, please specify a format.\n",
      "  df['start'] = pd.to_datetime(df['start'])\n",
      "/mnt/c/Users/vivek/Desktop/svara-forms-notebook/src/utils.py:65: UserWarning: Could not infer format, so each element will be parsed individually, falling back to `dateutil`. To ensure parsing is consistent and as-expected, please specify a format.\n",
      "  df['end'] = pd.to_datetime(df['end'])\n",
      "/mnt/c/Users/vivek/Desktop/svara-forms-notebook/src/utils.py:64: UserWarning: Could not infer format, so each element will be parsed individually, falling back to `dateutil`. To ensure parsing is consistent and as-expected, please specify a format.\n",
      "  df['start'] = pd.to_datetime(df['start'])\n",
      "/mnt/c/Users/vivek/Desktop/svara-forms-notebook/src/utils.py:65: UserWarning: Could not infer format, so each element will be parsed individually, falling back to `dateutil`. To ensure parsing is consistent and as-expected, please specify a format.\n",
      "  df['end'] = pd.to_datetime(df['end'])\n",
      " 15%|████████████▌                                                                     | 89/581 [00:03<00:17, 27.67it/s]/mnt/c/Users/vivek/Desktop/svara-forms-notebook/src/utils.py:64: UserWarning: Could not infer format, so each element will be parsed individually, falling back to `dateutil`. To ensure parsing is consistent and as-expected, please specify a format.\n",
      "  df['start'] = pd.to_datetime(df['start'])\n",
      "/mnt/c/Users/vivek/Desktop/svara-forms-notebook/src/utils.py:65: UserWarning: Could not infer format, so each element will be parsed individually, falling back to `dateutil`. To ensure parsing is consistent and as-expected, please specify a format.\n",
      "  df['end'] = pd.to_datetime(df['end'])\n",
      "/mnt/c/Users/vivek/Desktop/svara-forms-notebook/src/utils.py:64: UserWarning: Could not infer format, so each element will be parsed individually, falling back to `dateutil`. To ensure parsing is consistent and as-expected, please specify a format.\n",
      "  df['start'] = pd.to_datetime(df['start'])\n",
      "/mnt/c/Users/vivek/Desktop/svara-forms-notebook/src/utils.py:65: UserWarning: Could not infer format, so each element will be parsed individually, falling back to `dateutil`. To ensure parsing is consistent and as-expected, please specify a format.\n",
      "  df['end'] = pd.to_datetime(df['end'])\n",
      "/mnt/c/Users/vivek/Desktop/svara-forms-notebook/src/utils.py:64: UserWarning: Could not infer format, so each element will be parsed individually, falling back to `dateutil`. To ensure parsing is consistent and as-expected, please specify a format.\n",
      "  df['start'] = pd.to_datetime(df['start'])\n",
      "/mnt/c/Users/vivek/Desktop/svara-forms-notebook/src/utils.py:65: UserWarning: Could not infer format, so each element will be parsed individually, falling back to `dateutil`. To ensure parsing is consistent and as-expected, please specify a format.\n",
      "  df['end'] = pd.to_datetime(df['end'])\n",
      " 16%|█████████████▏                                                                    | 93/581 [00:03<00:16, 30.29it/s]/mnt/c/Users/vivek/Desktop/svara-forms-notebook/src/utils.py:64: UserWarning: Could not infer format, so each element will be parsed individually, falling back to `dateutil`. To ensure parsing is consistent and as-expected, please specify a format.\n",
      "  df['start'] = pd.to_datetime(df['start'])\n",
      "/mnt/c/Users/vivek/Desktop/svara-forms-notebook/src/utils.py:65: UserWarning: Could not infer format, so each element will be parsed individually, falling back to `dateutil`. To ensure parsing is consistent and as-expected, please specify a format.\n",
      "  df['end'] = pd.to_datetime(df['end'])\n",
      "/mnt/c/Users/vivek/Desktop/svara-forms-notebook/src/utils.py:64: UserWarning: Could not infer format, so each element will be parsed individually, falling back to `dateutil`. To ensure parsing is consistent and as-expected, please specify a format.\n",
      "  df['start'] = pd.to_datetime(df['start'])\n",
      "/mnt/c/Users/vivek/Desktop/svara-forms-notebook/src/utils.py:65: UserWarning: Could not infer format, so each element will be parsed individually, falling back to `dateutil`. To ensure parsing is consistent and as-expected, please specify a format.\n",
      "  df['end'] = pd.to_datetime(df['end'])\n",
      "/mnt/c/Users/vivek/Desktop/svara-forms-notebook/src/utils.py:64: UserWarning: Could not infer format, so each element will be parsed individually, falling back to `dateutil`. To ensure parsing is consistent and as-expected, please specify a format.\n",
      "  df['start'] = pd.to_datetime(df['start'])\n",
      "/mnt/c/Users/vivek/Desktop/svara-forms-notebook/src/utils.py:65: UserWarning: Could not infer format, so each element will be parsed individually, falling back to `dateutil`. To ensure parsing is consistent and as-expected, please specify a format.\n",
      "  df['end'] = pd.to_datetime(df['end'])\n",
      "/mnt/c/Users/vivek/Desktop/svara-forms-notebook/src/utils.py:64: UserWarning: Could not infer format, so each element will be parsed individually, falling back to `dateutil`. To ensure parsing is consistent and as-expected, please specify a format.\n",
      "  df['start'] = pd.to_datetime(df['start'])\n",
      "/mnt/c/Users/vivek/Desktop/svara-forms-notebook/src/utils.py:65: UserWarning: Could not infer format, so each element will be parsed individually, falling back to `dateutil`. To ensure parsing is consistent and as-expected, please specify a format.\n",
      "  df['end'] = pd.to_datetime(df['end'])\n",
      " 17%|█████████████▋                                                                    | 97/581 [00:03<00:16, 29.47it/s]/mnt/c/Users/vivek/Desktop/svara-forms-notebook/src/utils.py:64: UserWarning: Could not infer format, so each element will be parsed individually, falling back to `dateutil`. To ensure parsing is consistent and as-expected, please specify a format.\n",
      "  df['start'] = pd.to_datetime(df['start'])\n",
      "/mnt/c/Users/vivek/Desktop/svara-forms-notebook/src/utils.py:65: UserWarning: Could not infer format, so each element will be parsed individually, falling back to `dateutil`. To ensure parsing is consistent and as-expected, please specify a format.\n",
      "  df['end'] = pd.to_datetime(df['end'])\n",
      "/mnt/c/Users/vivek/Desktop/svara-forms-notebook/src/utils.py:64: UserWarning: Could not infer format, so each element will be parsed individually, falling back to `dateutil`. To ensure parsing is consistent and as-expected, please specify a format.\n",
      "  df['start'] = pd.to_datetime(df['start'])\n",
      "/mnt/c/Users/vivek/Desktop/svara-forms-notebook/src/utils.py:65: UserWarning: Could not infer format, so each element will be parsed individually, falling back to `dateutil`. To ensure parsing is consistent and as-expected, please specify a format.\n",
      "  df['end'] = pd.to_datetime(df['end'])\n",
      "/mnt/c/Users/vivek/Desktop/svara-forms-notebook/src/utils.py:64: UserWarning: Could not infer format, so each element will be parsed individually, falling back to `dateutil`. To ensure parsing is consistent and as-expected, please specify a format.\n",
      "  df['start'] = pd.to_datetime(df['start'])\n",
      "/mnt/c/Users/vivek/Desktop/svara-forms-notebook/src/utils.py:65: UserWarning: Could not infer format, so each element will be parsed individually, falling back to `dateutil`. To ensure parsing is consistent and as-expected, please specify a format.\n",
      "  df['end'] = pd.to_datetime(df['end'])\n",
      " 17%|█████████████▉                                                                   | 100/581 [00:03<00:16, 29.11it/s]/mnt/c/Users/vivek/Desktop/svara-forms-notebook/src/utils.py:64: UserWarning: Could not infer format, so each element will be parsed individually, falling back to `dateutil`. To ensure parsing is consistent and as-expected, please specify a format.\n",
      "  df['start'] = pd.to_datetime(df['start'])\n",
      "/mnt/c/Users/vivek/Desktop/svara-forms-notebook/src/utils.py:65: UserWarning: Could not infer format, so each element will be parsed individually, falling back to `dateutil`. To ensure parsing is consistent and as-expected, please specify a format.\n",
      "  df['end'] = pd.to_datetime(df['end'])\n",
      "/mnt/c/Users/vivek/Desktop/svara-forms-notebook/src/utils.py:64: UserWarning: Could not infer format, so each element will be parsed individually, falling back to `dateutil`. To ensure parsing is consistent and as-expected, please specify a format.\n",
      "  df['start'] = pd.to_datetime(df['start'])\n",
      "/mnt/c/Users/vivek/Desktop/svara-forms-notebook/src/utils.py:65: UserWarning: Could not infer format, so each element will be parsed individually, falling back to `dateutil`. To ensure parsing is consistent and as-expected, please specify a format.\n",
      "  df['end'] = pd.to_datetime(df['end'])\n",
      "/mnt/c/Users/vivek/Desktop/svara-forms-notebook/src/utils.py:64: UserWarning: Could not infer format, so each element will be parsed individually, falling back to `dateutil`. To ensure parsing is consistent and as-expected, please specify a format.\n",
      "  df['start'] = pd.to_datetime(df['start'])\n",
      "/mnt/c/Users/vivek/Desktop/svara-forms-notebook/src/utils.py:65: UserWarning: Could not infer format, so each element will be parsed individually, falling back to `dateutil`. To ensure parsing is consistent and as-expected, please specify a format.\n",
      "  df['end'] = pd.to_datetime(df['end'])\n",
      " 18%|██████████████▎                                                                  | 103/581 [00:03<00:16, 28.36it/s]/mnt/c/Users/vivek/Desktop/svara-forms-notebook/src/utils.py:64: UserWarning: Could not infer format, so each element will be parsed individually, falling back to `dateutil`. To ensure parsing is consistent and as-expected, please specify a format.\n",
      "  df['start'] = pd.to_datetime(df['start'])\n",
      "/mnt/c/Users/vivek/Desktop/svara-forms-notebook/src/utils.py:65: UserWarning: Could not infer format, so each element will be parsed individually, falling back to `dateutil`. To ensure parsing is consistent and as-expected, please specify a format.\n",
      "  df['end'] = pd.to_datetime(df['end'])\n",
      "/mnt/c/Users/vivek/Desktop/svara-forms-notebook/src/utils.py:64: UserWarning: Could not infer format, so each element will be parsed individually, falling back to `dateutil`. To ensure parsing is consistent and as-expected, please specify a format.\n",
      "  df['start'] = pd.to_datetime(df['start'])\n",
      "/mnt/c/Users/vivek/Desktop/svara-forms-notebook/src/utils.py:65: UserWarning: Could not infer format, so each element will be parsed individually, falling back to `dateutil`. To ensure parsing is consistent and as-expected, please specify a format.\n",
      "  df['end'] = pd.to_datetime(df['end'])\n",
      "/mnt/c/Users/vivek/Desktop/svara-forms-notebook/src/utils.py:64: UserWarning: Could not infer format, so each element will be parsed individually, falling back to `dateutil`. To ensure parsing is consistent and as-expected, please specify a format.\n",
      "  df['start'] = pd.to_datetime(df['start'])\n",
      "/mnt/c/Users/vivek/Desktop/svara-forms-notebook/src/utils.py:65: UserWarning: Could not infer format, so each element will be parsed individually, falling back to `dateutil`. To ensure parsing is consistent and as-expected, please specify a format.\n",
      "  df['end'] = pd.to_datetime(df['end'])\n",
      " 18%|██████████████▉                                                                  | 107/581 [00:03<00:15, 31.04it/s]/mnt/c/Users/vivek/Desktop/svara-forms-notebook/src/utils.py:64: UserWarning: Could not infer format, so each element will be parsed individually, falling back to `dateutil`. To ensure parsing is consistent and as-expected, please specify a format.\n",
      "  df['start'] = pd.to_datetime(df['start'])\n",
      "/mnt/c/Users/vivek/Desktop/svara-forms-notebook/src/utils.py:65: UserWarning: Could not infer format, so each element will be parsed individually, falling back to `dateutil`. To ensure parsing is consistent and as-expected, please specify a format.\n",
      "  df['end'] = pd.to_datetime(df['end'])\n",
      "/mnt/c/Users/vivek/Desktop/svara-forms-notebook/src/utils.py:64: UserWarning: Could not infer format, so each element will be parsed individually, falling back to `dateutil`. To ensure parsing is consistent and as-expected, please specify a format.\n",
      "  df['start'] = pd.to_datetime(df['start'])\n",
      "/mnt/c/Users/vivek/Desktop/svara-forms-notebook/src/utils.py:65: UserWarning: Could not infer format, so each element will be parsed individually, falling back to `dateutil`. To ensure parsing is consistent and as-expected, please specify a format.\n",
      "  df['end'] = pd.to_datetime(df['end'])\n",
      "/mnt/c/Users/vivek/Desktop/svara-forms-notebook/src/utils.py:64: UserWarning: Could not infer format, so each element will be parsed individually, falling back to `dateutil`. To ensure parsing is consistent and as-expected, please specify a format.\n",
      "  df['start'] = pd.to_datetime(df['start'])\n",
      "/mnt/c/Users/vivek/Desktop/svara-forms-notebook/src/utils.py:65: UserWarning: Could not infer format, so each element will be parsed individually, falling back to `dateutil`. To ensure parsing is consistent and as-expected, please specify a format.\n",
      "  df['end'] = pd.to_datetime(df['end'])\n",
      "/mnt/c/Users/vivek/Desktop/svara-forms-notebook/src/utils.py:64: UserWarning: Could not infer format, so each element will be parsed individually, falling back to `dateutil`. To ensure parsing is consistent and as-expected, please specify a format.\n",
      "  df['start'] = pd.to_datetime(df['start'])\n",
      "/mnt/c/Users/vivek/Desktop/svara-forms-notebook/src/utils.py:65: UserWarning: Could not infer format, so each element will be parsed individually, falling back to `dateutil`. To ensure parsing is consistent and as-expected, please specify a format.\n",
      "  df['end'] = pd.to_datetime(df['end'])\n",
      " 19%|███████████████▍                                                                 | 111/581 [00:03<00:15, 30.10it/s]/mnt/c/Users/vivek/Desktop/svara-forms-notebook/src/utils.py:64: UserWarning: Could not infer format, so each element will be parsed individually, falling back to `dateutil`. To ensure parsing is consistent and as-expected, please specify a format.\n",
      "  df['start'] = pd.to_datetime(df['start'])\n",
      "/mnt/c/Users/vivek/Desktop/svara-forms-notebook/src/utils.py:65: UserWarning: Could not infer format, so each element will be parsed individually, falling back to `dateutil`. To ensure parsing is consistent and as-expected, please specify a format.\n",
      "  df['end'] = pd.to_datetime(df['end'])\n",
      "/mnt/c/Users/vivek/Desktop/svara-forms-notebook/src/utils.py:64: UserWarning: Could not infer format, so each element will be parsed individually, falling back to `dateutil`. To ensure parsing is consistent and as-expected, please specify a format.\n",
      "  df['start'] = pd.to_datetime(df['start'])\n",
      "/mnt/c/Users/vivek/Desktop/svara-forms-notebook/src/utils.py:65: UserWarning: Could not infer format, so each element will be parsed individually, falling back to `dateutil`. To ensure parsing is consistent and as-expected, please specify a format.\n",
      "  df['end'] = pd.to_datetime(df['end'])\n",
      "/mnt/c/Users/vivek/Desktop/svara-forms-notebook/src/utils.py:64: UserWarning: Could not infer format, so each element will be parsed individually, falling back to `dateutil`. To ensure parsing is consistent and as-expected, please specify a format.\n",
      "  df['start'] = pd.to_datetime(df['start'])\n",
      "/mnt/c/Users/vivek/Desktop/svara-forms-notebook/src/utils.py:65: UserWarning: Could not infer format, so each element will be parsed individually, falling back to `dateutil`. To ensure parsing is consistent and as-expected, please specify a format.\n",
      "  df['end'] = pd.to_datetime(df['end'])\n",
      "/mnt/c/Users/vivek/Desktop/svara-forms-notebook/src/utils.py:64: UserWarning: Could not infer format, so each element will be parsed individually, falling back to `dateutil`. To ensure parsing is consistent and as-expected, please specify a format.\n",
      "  df['start'] = pd.to_datetime(df['start'])\n",
      "/mnt/c/Users/vivek/Desktop/svara-forms-notebook/src/utils.py:65: UserWarning: Could not infer format, so each element will be parsed individually, falling back to `dateutil`. To ensure parsing is consistent and as-expected, please specify a format.\n",
      "  df['end'] = pd.to_datetime(df['end'])\n",
      " 20%|████████████████▏                                                                | 116/581 [00:03<00:14, 32.88it/s]/mnt/c/Users/vivek/Desktop/svara-forms-notebook/src/utils.py:64: UserWarning: Could not infer format, so each element will be parsed individually, falling back to `dateutil`. To ensure parsing is consistent and as-expected, please specify a format.\n",
      "  df['start'] = pd.to_datetime(df['start'])\n",
      "/mnt/c/Users/vivek/Desktop/svara-forms-notebook/src/utils.py:65: UserWarning: Could not infer format, so each element will be parsed individually, falling back to `dateutil`. To ensure parsing is consistent and as-expected, please specify a format.\n",
      "  df['end'] = pd.to_datetime(df['end'])\n",
      "/mnt/c/Users/vivek/Desktop/svara-forms-notebook/src/utils.py:64: UserWarning: Could not infer format, so each element will be parsed individually, falling back to `dateutil`. To ensure parsing is consistent and as-expected, please specify a format.\n",
      "  df['start'] = pd.to_datetime(df['start'])\n",
      "/mnt/c/Users/vivek/Desktop/svara-forms-notebook/src/utils.py:65: UserWarning: Could not infer format, so each element will be parsed individually, falling back to `dateutil`. To ensure parsing is consistent and as-expected, please specify a format.\n",
      "  df['end'] = pd.to_datetime(df['end'])\n",
      "/mnt/c/Users/vivek/Desktop/svara-forms-notebook/src/utils.py:64: UserWarning: Could not infer format, so each element will be parsed individually, falling back to `dateutil`. To ensure parsing is consistent and as-expected, please specify a format.\n",
      "  df['start'] = pd.to_datetime(df['start'])\n",
      "/mnt/c/Users/vivek/Desktop/svara-forms-notebook/src/utils.py:65: UserWarning: Could not infer format, so each element will be parsed individually, falling back to `dateutil`. To ensure parsing is consistent and as-expected, please specify a format.\n",
      "  df['end'] = pd.to_datetime(df['end'])\n",
      "/mnt/c/Users/vivek/Desktop/svara-forms-notebook/src/utils.py:64: UserWarning: Could not infer format, so each element will be parsed individually, falling back to `dateutil`. To ensure parsing is consistent and as-expected, please specify a format.\n",
      "  df['start'] = pd.to_datetime(df['start'])\n",
      "/mnt/c/Users/vivek/Desktop/svara-forms-notebook/src/utils.py:65: UserWarning: Could not infer format, so each element will be parsed individually, falling back to `dateutil`. To ensure parsing is consistent and as-expected, please specify a format.\n",
      "  df['end'] = pd.to_datetime(df['end'])\n",
      " 21%|████████████████▋                                                                | 120/581 [00:04<00:14, 30.74it/s]/mnt/c/Users/vivek/Desktop/svara-forms-notebook/src/utils.py:64: UserWarning: Could not infer format, so each element will be parsed individually, falling back to `dateutil`. To ensure parsing is consistent and as-expected, please specify a format.\n",
      "  df['start'] = pd.to_datetime(df['start'])\n",
      "/mnt/c/Users/vivek/Desktop/svara-forms-notebook/src/utils.py:65: UserWarning: Could not infer format, so each element will be parsed individually, falling back to `dateutil`. To ensure parsing is consistent and as-expected, please specify a format.\n",
      "  df['end'] = pd.to_datetime(df['end'])\n",
      "/mnt/c/Users/vivek/Desktop/svara-forms-notebook/src/utils.py:64: UserWarning: Could not infer format, so each element will be parsed individually, falling back to `dateutil`. To ensure parsing is consistent and as-expected, please specify a format.\n",
      "  df['start'] = pd.to_datetime(df['start'])\n",
      "/mnt/c/Users/vivek/Desktop/svara-forms-notebook/src/utils.py:65: UserWarning: Could not infer format, so each element will be parsed individually, falling back to `dateutil`. To ensure parsing is consistent and as-expected, please specify a format.\n",
      "  df['end'] = pd.to_datetime(df['end'])\n",
      "/mnt/c/Users/vivek/Desktop/svara-forms-notebook/src/utils.py:64: UserWarning: Could not infer format, so each element will be parsed individually, falling back to `dateutil`. To ensure parsing is consistent and as-expected, please specify a format.\n",
      "  df['start'] = pd.to_datetime(df['start'])\n",
      "/mnt/c/Users/vivek/Desktop/svara-forms-notebook/src/utils.py:65: UserWarning: Could not infer format, so each element will be parsed individually, falling back to `dateutil`. To ensure parsing is consistent and as-expected, please specify a format.\n",
      "  df['end'] = pd.to_datetime(df['end'])\n",
      " 21%|█████████████████▎                                                               | 124/581 [00:04<00:37, 12.19it/s]/mnt/c/Users/vivek/Desktop/svara-forms-notebook/src/utils.py:64: UserWarning: Could not infer format, so each element will be parsed individually, falling back to `dateutil`. To ensure parsing is consistent and as-expected, please specify a format.\n",
      "  df['start'] = pd.to_datetime(df['start'])\n",
      "/mnt/c/Users/vivek/Desktop/svara-forms-notebook/src/utils.py:65: UserWarning: Could not infer format, so each element will be parsed individually, falling back to `dateutil`. To ensure parsing is consistent and as-expected, please specify a format.\n",
      "  df['end'] = pd.to_datetime(df['end'])\n",
      "/mnt/c/Users/vivek/Desktop/svara-forms-notebook/src/utils.py:64: UserWarning: Could not infer format, so each element will be parsed individually, falling back to `dateutil`. To ensure parsing is consistent and as-expected, please specify a format.\n",
      "  df['start'] = pd.to_datetime(df['start'])\n",
      "/mnt/c/Users/vivek/Desktop/svara-forms-notebook/src/utils.py:65: UserWarning: Could not infer format, so each element will be parsed individually, falling back to `dateutil`. To ensure parsing is consistent and as-expected, please specify a format.\n",
      "  df['end'] = pd.to_datetime(df['end'])\n",
      "/mnt/c/Users/vivek/Desktop/svara-forms-notebook/src/utils.py:64: UserWarning: Could not infer format, so each element will be parsed individually, falling back to `dateutil`. To ensure parsing is consistent and as-expected, please specify a format.\n",
      "  df['start'] = pd.to_datetime(df['start'])\n",
      "/mnt/c/Users/vivek/Desktop/svara-forms-notebook/src/utils.py:65: UserWarning: Could not infer format, so each element will be parsed individually, falling back to `dateutil`. To ensure parsing is consistent and as-expected, please specify a format.\n",
      "  df['end'] = pd.to_datetime(df['end'])\n",
      " 22%|█████████████████▋                                                               | 127/581 [00:05<00:32, 14.06it/s]/mnt/c/Users/vivek/Desktop/svara-forms-notebook/src/utils.py:64: UserWarning: Could not infer format, so each element will be parsed individually, falling back to `dateutil`. To ensure parsing is consistent and as-expected, please specify a format.\n",
      "  df['start'] = pd.to_datetime(df['start'])\n",
      "/mnt/c/Users/vivek/Desktop/svara-forms-notebook/src/utils.py:65: UserWarning: Could not infer format, so each element will be parsed individually, falling back to `dateutil`. To ensure parsing is consistent and as-expected, please specify a format.\n",
      "  df['end'] = pd.to_datetime(df['end'])\n",
      "/mnt/c/Users/vivek/Desktop/svara-forms-notebook/src/utils.py:64: UserWarning: Could not infer format, so each element will be parsed individually, falling back to `dateutil`. To ensure parsing is consistent and as-expected, please specify a format.\n",
      "  df['start'] = pd.to_datetime(df['start'])\n",
      "/mnt/c/Users/vivek/Desktop/svara-forms-notebook/src/utils.py:65: UserWarning: Could not infer format, so each element will be parsed individually, falling back to `dateutil`. To ensure parsing is consistent and as-expected, please specify a format.\n",
      "  df['end'] = pd.to_datetime(df['end'])\n",
      "/mnt/c/Users/vivek/Desktop/svara-forms-notebook/src/utils.py:64: UserWarning: Could not infer format, so each element will be parsed individually, falling back to `dateutil`. To ensure parsing is consistent and as-expected, please specify a format.\n",
      "  df['start'] = pd.to_datetime(df['start'])\n",
      "/mnt/c/Users/vivek/Desktop/svara-forms-notebook/src/utils.py:65: UserWarning: Could not infer format, so each element will be parsed individually, falling back to `dateutil`. To ensure parsing is consistent and as-expected, please specify a format.\n",
      "  df['end'] = pd.to_datetime(df['end'])\n",
      " 23%|██████████████████▎                                                              | 131/581 [00:05<00:25, 17.42it/s]/mnt/c/Users/vivek/Desktop/svara-forms-notebook/src/utils.py:64: UserWarning: Could not infer format, so each element will be parsed individually, falling back to `dateutil`. To ensure parsing is consistent and as-expected, please specify a format.\n",
      "  df['start'] = pd.to_datetime(df['start'])\n",
      "/mnt/c/Users/vivek/Desktop/svara-forms-notebook/src/utils.py:65: UserWarning: Could not infer format, so each element will be parsed individually, falling back to `dateutil`. To ensure parsing is consistent and as-expected, please specify a format.\n",
      "  df['end'] = pd.to_datetime(df['end'])\n",
      "/mnt/c/Users/vivek/Desktop/svara-forms-notebook/src/utils.py:64: UserWarning: Could not infer format, so each element will be parsed individually, falling back to `dateutil`. To ensure parsing is consistent and as-expected, please specify a format.\n",
      "  df['start'] = pd.to_datetime(df['start'])\n",
      "/mnt/c/Users/vivek/Desktop/svara-forms-notebook/src/utils.py:65: UserWarning: Could not infer format, so each element will be parsed individually, falling back to `dateutil`. To ensure parsing is consistent and as-expected, please specify a format.\n",
      "  df['end'] = pd.to_datetime(df['end'])\n",
      "/mnt/c/Users/vivek/Desktop/svara-forms-notebook/src/utils.py:64: UserWarning: Could not infer format, so each element will be parsed individually, falling back to `dateutil`. To ensure parsing is consistent and as-expected, please specify a format.\n",
      "  df['start'] = pd.to_datetime(df['start'])\n",
      "/mnt/c/Users/vivek/Desktop/svara-forms-notebook/src/utils.py:65: UserWarning: Could not infer format, so each element will be parsed individually, falling back to `dateutil`. To ensure parsing is consistent and as-expected, please specify a format.\n",
      "  df['end'] = pd.to_datetime(df['end'])\n",
      " 23%|██████████████████▋                                                              | 134/581 [00:05<00:23, 18.94it/s]/mnt/c/Users/vivek/Desktop/svara-forms-notebook/src/utils.py:64: UserWarning: Could not infer format, so each element will be parsed individually, falling back to `dateutil`. To ensure parsing is consistent and as-expected, please specify a format.\n",
      "  df['start'] = pd.to_datetime(df['start'])\n",
      "/mnt/c/Users/vivek/Desktop/svara-forms-notebook/src/utils.py:65: UserWarning: Could not infer format, so each element will be parsed individually, falling back to `dateutil`. To ensure parsing is consistent and as-expected, please specify a format.\n",
      "  df['end'] = pd.to_datetime(df['end'])\n",
      "/mnt/c/Users/vivek/Desktop/svara-forms-notebook/src/utils.py:64: UserWarning: Could not infer format, so each element will be parsed individually, falling back to `dateutil`. To ensure parsing is consistent and as-expected, please specify a format.\n",
      "  df['start'] = pd.to_datetime(df['start'])\n",
      "/mnt/c/Users/vivek/Desktop/svara-forms-notebook/src/utils.py:65: UserWarning: Could not infer format, so each element will be parsed individually, falling back to `dateutil`. To ensure parsing is consistent and as-expected, please specify a format.\n",
      "  df['end'] = pd.to_datetime(df['end'])\n",
      "/mnt/c/Users/vivek/Desktop/svara-forms-notebook/src/utils.py:64: UserWarning: Could not infer format, so each element will be parsed individually, falling back to `dateutil`. To ensure parsing is consistent and as-expected, please specify a format.\n",
      "  df['start'] = pd.to_datetime(df['start'])\n",
      "/mnt/c/Users/vivek/Desktop/svara-forms-notebook/src/utils.py:65: UserWarning: Could not infer format, so each element will be parsed individually, falling back to `dateutil`. To ensure parsing is consistent and as-expected, please specify a format.\n",
      "  df['end'] = pd.to_datetime(df['end'])\n",
      " 24%|███████████████████▏                                                             | 138/581 [00:05<00:19, 22.18it/s]/mnt/c/Users/vivek/Desktop/svara-forms-notebook/src/utils.py:64: UserWarning: Could not infer format, so each element will be parsed individually, falling back to `dateutil`. To ensure parsing is consistent and as-expected, please specify a format.\n",
      "  df['start'] = pd.to_datetime(df['start'])\n",
      "/mnt/c/Users/vivek/Desktop/svara-forms-notebook/src/utils.py:65: UserWarning: Could not infer format, so each element will be parsed individually, falling back to `dateutil`. To ensure parsing is consistent and as-expected, please specify a format.\n",
      "  df['end'] = pd.to_datetime(df['end'])\n",
      "/mnt/c/Users/vivek/Desktop/svara-forms-notebook/src/utils.py:64: UserWarning: Could not infer format, so each element will be parsed individually, falling back to `dateutil`. To ensure parsing is consistent and as-expected, please specify a format.\n",
      "  df['start'] = pd.to_datetime(df['start'])\n",
      "/mnt/c/Users/vivek/Desktop/svara-forms-notebook/src/utils.py:65: UserWarning: Could not infer format, so each element will be parsed individually, falling back to `dateutil`. To ensure parsing is consistent and as-expected, please specify a format.\n",
      "  df['end'] = pd.to_datetime(df['end'])\n",
      "/mnt/c/Users/vivek/Desktop/svara-forms-notebook/src/utils.py:64: UserWarning: Could not infer format, so each element will be parsed individually, falling back to `dateutil`. To ensure parsing is consistent and as-expected, please specify a format.\n",
      "  df['start'] = pd.to_datetime(df['start'])\n",
      "/mnt/c/Users/vivek/Desktop/svara-forms-notebook/src/utils.py:65: UserWarning: Could not infer format, so each element will be parsed individually, falling back to `dateutil`. To ensure parsing is consistent and as-expected, please specify a format.\n",
      "  df['end'] = pd.to_datetime(df['end'])\n",
      " 24%|███████████████████▋                                                             | 141/581 [00:05<00:18, 23.43it/s]/mnt/c/Users/vivek/Desktop/svara-forms-notebook/src/utils.py:64: UserWarning: Could not infer format, so each element will be parsed individually, falling back to `dateutil`. To ensure parsing is consistent and as-expected, please specify a format.\n",
      "  df['start'] = pd.to_datetime(df['start'])\n",
      "/mnt/c/Users/vivek/Desktop/svara-forms-notebook/src/utils.py:65: UserWarning: Could not infer format, so each element will be parsed individually, falling back to `dateutil`. To ensure parsing is consistent and as-expected, please specify a format.\n",
      "  df['end'] = pd.to_datetime(df['end'])\n",
      "/mnt/c/Users/vivek/Desktop/svara-forms-notebook/src/utils.py:64: UserWarning: Could not infer format, so each element will be parsed individually, falling back to `dateutil`. To ensure parsing is consistent and as-expected, please specify a format.\n",
      "  df['start'] = pd.to_datetime(df['start'])\n",
      "/mnt/c/Users/vivek/Desktop/svara-forms-notebook/src/utils.py:65: UserWarning: Could not infer format, so each element will be parsed individually, falling back to `dateutil`. To ensure parsing is consistent and as-expected, please specify a format.\n",
      "  df['end'] = pd.to_datetime(df['end'])\n",
      "/mnt/c/Users/vivek/Desktop/svara-forms-notebook/src/utils.py:64: UserWarning: Could not infer format, so each element will be parsed individually, falling back to `dateutil`. To ensure parsing is consistent and as-expected, please specify a format.\n",
      "  df['start'] = pd.to_datetime(df['start'])\n",
      "/mnt/c/Users/vivek/Desktop/svara-forms-notebook/src/utils.py:65: UserWarning: Could not infer format, so each element will be parsed individually, falling back to `dateutil`. To ensure parsing is consistent and as-expected, please specify a format.\n",
      "  df['end'] = pd.to_datetime(df['end'])\n",
      " 25%|████████████████████▏                                                            | 145/581 [00:05<00:16, 27.14it/s]/mnt/c/Users/vivek/Desktop/svara-forms-notebook/src/utils.py:64: UserWarning: Could not infer format, so each element will be parsed individually, falling back to `dateutil`. To ensure parsing is consistent and as-expected, please specify a format.\n",
      "  df['start'] = pd.to_datetime(df['start'])\n",
      "/mnt/c/Users/vivek/Desktop/svara-forms-notebook/src/utils.py:65: UserWarning: Could not infer format, so each element will be parsed individually, falling back to `dateutil`. To ensure parsing is consistent and as-expected, please specify a format.\n",
      "  df['end'] = pd.to_datetime(df['end'])\n",
      "/mnt/c/Users/vivek/Desktop/svara-forms-notebook/src/utils.py:64: UserWarning: Could not infer format, so each element will be parsed individually, falling back to `dateutil`. To ensure parsing is consistent and as-expected, please specify a format.\n",
      "  df['start'] = pd.to_datetime(df['start'])\n",
      "/mnt/c/Users/vivek/Desktop/svara-forms-notebook/src/utils.py:65: UserWarning: Could not infer format, so each element will be parsed individually, falling back to `dateutil`. To ensure parsing is consistent and as-expected, please specify a format.\n",
      "  df['end'] = pd.to_datetime(df['end'])\n",
      "/mnt/c/Users/vivek/Desktop/svara-forms-notebook/src/utils.py:64: UserWarning: Could not infer format, so each element will be parsed individually, falling back to `dateutil`. To ensure parsing is consistent and as-expected, please specify a format.\n",
      "  df['start'] = pd.to_datetime(df['start'])\n",
      "/mnt/c/Users/vivek/Desktop/svara-forms-notebook/src/utils.py:65: UserWarning: Could not infer format, so each element will be parsed individually, falling back to `dateutil`. To ensure parsing is consistent and as-expected, please specify a format.\n",
      "  df['end'] = pd.to_datetime(df['end'])\n",
      "/mnt/c/Users/vivek/Desktop/svara-forms-notebook/src/utils.py:64: UserWarning: Could not infer format, so each element will be parsed individually, falling back to `dateutil`. To ensure parsing is consistent and as-expected, please specify a format.\n",
      "  df['start'] = pd.to_datetime(df['start'])\n",
      "/mnt/c/Users/vivek/Desktop/svara-forms-notebook/src/utils.py:65: UserWarning: Could not infer format, so each element will be parsed individually, falling back to `dateutil`. To ensure parsing is consistent and as-expected, please specify a format.\n",
      "  df['end'] = pd.to_datetime(df['end'])\n",
      " 26%|████████████████████▊                                                            | 149/581 [00:05<00:15, 27.63it/s]/mnt/c/Users/vivek/Desktop/svara-forms-notebook/src/utils.py:64: UserWarning: Could not infer format, so each element will be parsed individually, falling back to `dateutil`. To ensure parsing is consistent and as-expected, please specify a format.\n",
      "  df['start'] = pd.to_datetime(df['start'])\n",
      "/mnt/c/Users/vivek/Desktop/svara-forms-notebook/src/utils.py:65: UserWarning: Could not infer format, so each element will be parsed individually, falling back to `dateutil`. To ensure parsing is consistent and as-expected, please specify a format.\n",
      "  df['end'] = pd.to_datetime(df['end'])\n",
      "/mnt/c/Users/vivek/Desktop/svara-forms-notebook/src/utils.py:64: UserWarning: Could not infer format, so each element will be parsed individually, falling back to `dateutil`. To ensure parsing is consistent and as-expected, please specify a format.\n",
      "  df['start'] = pd.to_datetime(df['start'])\n",
      "/mnt/c/Users/vivek/Desktop/svara-forms-notebook/src/utils.py:65: UserWarning: Could not infer format, so each element will be parsed individually, falling back to `dateutil`. To ensure parsing is consistent and as-expected, please specify a format.\n",
      "  df['end'] = pd.to_datetime(df['end'])\n",
      "/mnt/c/Users/vivek/Desktop/svara-forms-notebook/src/utils.py:64: UserWarning: Could not infer format, so each element will be parsed individually, falling back to `dateutil`. To ensure parsing is consistent and as-expected, please specify a format.\n",
      "  df['start'] = pd.to_datetime(df['start'])\n",
      "/mnt/c/Users/vivek/Desktop/svara-forms-notebook/src/utils.py:65: UserWarning: Could not infer format, so each element will be parsed individually, falling back to `dateutil`. To ensure parsing is consistent and as-expected, please specify a format.\n",
      "  df['end'] = pd.to_datetime(df['end'])\n",
      "/mnt/c/Users/vivek/Desktop/svara-forms-notebook/src/utils.py:64: UserWarning: Could not infer format, so each element will be parsed individually, falling back to `dateutil`. To ensure parsing is consistent and as-expected, please specify a format.\n",
      "  df['start'] = pd.to_datetime(df['start'])\n",
      "/mnt/c/Users/vivek/Desktop/svara-forms-notebook/src/utils.py:65: UserWarning: Could not infer format, so each element will be parsed individually, falling back to `dateutil`. To ensure parsing is consistent and as-expected, please specify a format.\n",
      "  df['end'] = pd.to_datetime(df['end'])\n",
      " 26%|█████████████████████▎                                                           | 153/581 [00:05<00:15, 27.41it/s]/mnt/c/Users/vivek/Desktop/svara-forms-notebook/src/utils.py:64: UserWarning: Could not infer format, so each element will be parsed individually, falling back to `dateutil`. To ensure parsing is consistent and as-expected, please specify a format.\n",
      "  df['start'] = pd.to_datetime(df['start'])\n",
      "/mnt/c/Users/vivek/Desktop/svara-forms-notebook/src/utils.py:65: UserWarning: Could not infer format, so each element will be parsed individually, falling back to `dateutil`. To ensure parsing is consistent and as-expected, please specify a format.\n",
      "  df['end'] = pd.to_datetime(df['end'])\n",
      "/mnt/c/Users/vivek/Desktop/svara-forms-notebook/src/utils.py:64: UserWarning: Could not infer format, so each element will be parsed individually, falling back to `dateutil`. To ensure parsing is consistent and as-expected, please specify a format.\n",
      "  df['start'] = pd.to_datetime(df['start'])\n",
      "/mnt/c/Users/vivek/Desktop/svara-forms-notebook/src/utils.py:65: UserWarning: Could not infer format, so each element will be parsed individually, falling back to `dateutil`. To ensure parsing is consistent and as-expected, please specify a format.\n",
      "  df['end'] = pd.to_datetime(df['end'])\n",
      "/mnt/c/Users/vivek/Desktop/svara-forms-notebook/src/utils.py:64: UserWarning: Could not infer format, so each element will be parsed individually, falling back to `dateutil`. To ensure parsing is consistent and as-expected, please specify a format.\n",
      "  df['start'] = pd.to_datetime(df['start'])\n",
      "/mnt/c/Users/vivek/Desktop/svara-forms-notebook/src/utils.py:65: UserWarning: Could not infer format, so each element will be parsed individually, falling back to `dateutil`. To ensure parsing is consistent and as-expected, please specify a format.\n",
      "  df['end'] = pd.to_datetime(df['end'])\n",
      " 27%|█████████████████████▋                                                           | 156/581 [00:05<00:15, 27.20it/s]/mnt/c/Users/vivek/Desktop/svara-forms-notebook/src/utils.py:64: UserWarning: Could not infer format, so each element will be parsed individually, falling back to `dateutil`. To ensure parsing is consistent and as-expected, please specify a format.\n",
      "  df['start'] = pd.to_datetime(df['start'])\n",
      "/mnt/c/Users/vivek/Desktop/svara-forms-notebook/src/utils.py:65: UserWarning: Could not infer format, so each element will be parsed individually, falling back to `dateutil`. To ensure parsing is consistent and as-expected, please specify a format.\n",
      "  df['end'] = pd.to_datetime(df['end'])\n",
      "/mnt/c/Users/vivek/Desktop/svara-forms-notebook/src/utils.py:64: UserWarning: Could not infer format, so each element will be parsed individually, falling back to `dateutil`. To ensure parsing is consistent and as-expected, please specify a format.\n",
      "  df['start'] = pd.to_datetime(df['start'])\n",
      "/mnt/c/Users/vivek/Desktop/svara-forms-notebook/src/utils.py:65: UserWarning: Could not infer format, so each element will be parsed individually, falling back to `dateutil`. To ensure parsing is consistent and as-expected, please specify a format.\n",
      "  df['end'] = pd.to_datetime(df['end'])\n",
      "/mnt/c/Users/vivek/Desktop/svara-forms-notebook/src/utils.py:64: UserWarning: Could not infer format, so each element will be parsed individually, falling back to `dateutil`. To ensure parsing is consistent and as-expected, please specify a format.\n",
      "  df['start'] = pd.to_datetime(df['start'])\n",
      "/mnt/c/Users/vivek/Desktop/svara-forms-notebook/src/utils.py:65: UserWarning: Could not infer format, so each element will be parsed individually, falling back to `dateutil`. To ensure parsing is consistent and as-expected, please specify a format.\n",
      "  df['end'] = pd.to_datetime(df['end'])\n",
      " 28%|██████████████████████▍                                                          | 161/581 [00:06<00:13, 32.14it/s]/mnt/c/Users/vivek/Desktop/svara-forms-notebook/src/utils.py:64: UserWarning: Could not infer format, so each element will be parsed individually, falling back to `dateutil`. To ensure parsing is consistent and as-expected, please specify a format.\n",
      "  df['start'] = pd.to_datetime(df['start'])\n",
      "/mnt/c/Users/vivek/Desktop/svara-forms-notebook/src/utils.py:65: UserWarning: Could not infer format, so each element will be parsed individually, falling back to `dateutil`. To ensure parsing is consistent and as-expected, please specify a format.\n",
      "  df['end'] = pd.to_datetime(df['end'])\n",
      "/mnt/c/Users/vivek/Desktop/svara-forms-notebook/src/utils.py:64: UserWarning: Could not infer format, so each element will be parsed individually, falling back to `dateutil`. To ensure parsing is consistent and as-expected, please specify a format.\n",
      "  df['start'] = pd.to_datetime(df['start'])\n",
      "/mnt/c/Users/vivek/Desktop/svara-forms-notebook/src/utils.py:65: UserWarning: Could not infer format, so each element will be parsed individually, falling back to `dateutil`. To ensure parsing is consistent and as-expected, please specify a format.\n",
      "  df['end'] = pd.to_datetime(df['end'])\n",
      "/mnt/c/Users/vivek/Desktop/svara-forms-notebook/src/utils.py:64: UserWarning: Could not infer format, so each element will be parsed individually, falling back to `dateutil`. To ensure parsing is consistent and as-expected, please specify a format.\n",
      "  df['start'] = pd.to_datetime(df['start'])\n",
      "/mnt/c/Users/vivek/Desktop/svara-forms-notebook/src/utils.py:65: UserWarning: Could not infer format, so each element will be parsed individually, falling back to `dateutil`. To ensure parsing is consistent and as-expected, please specify a format.\n",
      "  df['end'] = pd.to_datetime(df['end'])\n",
      "/mnt/c/Users/vivek/Desktop/svara-forms-notebook/src/utils.py:64: UserWarning: Could not infer format, so each element will be parsed individually, falling back to `dateutil`. To ensure parsing is consistent and as-expected, please specify a format.\n",
      "  df['start'] = pd.to_datetime(df['start'])\n",
      "/mnt/c/Users/vivek/Desktop/svara-forms-notebook/src/utils.py:65: UserWarning: Could not infer format, so each element will be parsed individually, falling back to `dateutil`. To ensure parsing is consistent and as-expected, please specify a format.\n",
      "  df['end'] = pd.to_datetime(df['end'])\n",
      " 28%|███████████████████████                                                          | 165/581 [00:06<00:13, 30.62it/s]/mnt/c/Users/vivek/Desktop/svara-forms-notebook/src/utils.py:64: UserWarning: Could not infer format, so each element will be parsed individually, falling back to `dateutil`. To ensure parsing is consistent and as-expected, please specify a format.\n",
      "  df['start'] = pd.to_datetime(df['start'])\n",
      "/mnt/c/Users/vivek/Desktop/svara-forms-notebook/src/utils.py:65: UserWarning: Could not infer format, so each element will be parsed individually, falling back to `dateutil`. To ensure parsing is consistent and as-expected, please specify a format.\n",
      "  df['end'] = pd.to_datetime(df['end'])\n",
      "/mnt/c/Users/vivek/Desktop/svara-forms-notebook/src/utils.py:64: UserWarning: Could not infer format, so each element will be parsed individually, falling back to `dateutil`. To ensure parsing is consistent and as-expected, please specify a format.\n",
      "  df['start'] = pd.to_datetime(df['start'])\n",
      "/mnt/c/Users/vivek/Desktop/svara-forms-notebook/src/utils.py:65: UserWarning: Could not infer format, so each element will be parsed individually, falling back to `dateutil`. To ensure parsing is consistent and as-expected, please specify a format.\n",
      "  df['end'] = pd.to_datetime(df['end'])\n",
      "/mnt/c/Users/vivek/Desktop/svara-forms-notebook/src/utils.py:64: UserWarning: Could not infer format, so each element will be parsed individually, falling back to `dateutil`. To ensure parsing is consistent and as-expected, please specify a format.\n",
      "  df['start'] = pd.to_datetime(df['start'])\n",
      "/mnt/c/Users/vivek/Desktop/svara-forms-notebook/src/utils.py:65: UserWarning: Could not infer format, so each element will be parsed individually, falling back to `dateutil`. To ensure parsing is consistent and as-expected, please specify a format.\n",
      "  df['end'] = pd.to_datetime(df['end'])\n",
      " 29%|███████████████████████▌                                                         | 169/581 [00:06<00:12, 32.87it/s]/mnt/c/Users/vivek/Desktop/svara-forms-notebook/src/utils.py:64: UserWarning: Could not infer format, so each element will be parsed individually, falling back to `dateutil`. To ensure parsing is consistent and as-expected, please specify a format.\n",
      "  df['start'] = pd.to_datetime(df['start'])\n",
      "/mnt/c/Users/vivek/Desktop/svara-forms-notebook/src/utils.py:65: UserWarning: Could not infer format, so each element will be parsed individually, falling back to `dateutil`. To ensure parsing is consistent and as-expected, please specify a format.\n",
      "  df['end'] = pd.to_datetime(df['end'])\n",
      "/mnt/c/Users/vivek/Desktop/svara-forms-notebook/src/utils.py:64: UserWarning: Could not infer format, so each element will be parsed individually, falling back to `dateutil`. To ensure parsing is consistent and as-expected, please specify a format.\n",
      "  df['start'] = pd.to_datetime(df['start'])\n",
      "/mnt/c/Users/vivek/Desktop/svara-forms-notebook/src/utils.py:65: UserWarning: Could not infer format, so each element will be parsed individually, falling back to `dateutil`. To ensure parsing is consistent and as-expected, please specify a format.\n",
      "  df['end'] = pd.to_datetime(df['end'])\n",
      "/mnt/c/Users/vivek/Desktop/svara-forms-notebook/src/utils.py:64: UserWarning: Could not infer format, so each element will be parsed individually, falling back to `dateutil`. To ensure parsing is consistent and as-expected, please specify a format.\n",
      "  df['start'] = pd.to_datetime(df['start'])\n",
      "/mnt/c/Users/vivek/Desktop/svara-forms-notebook/src/utils.py:65: UserWarning: Could not infer format, so each element will be parsed individually, falling back to `dateutil`. To ensure parsing is consistent and as-expected, please specify a format.\n",
      "  df['end'] = pd.to_datetime(df['end'])\n",
      "/mnt/c/Users/vivek/Desktop/svara-forms-notebook/src/utils.py:64: UserWarning: Could not infer format, so each element will be parsed individually, falling back to `dateutil`. To ensure parsing is consistent and as-expected, please specify a format.\n",
      "  df['start'] = pd.to_datetime(df['start'])\n",
      "/mnt/c/Users/vivek/Desktop/svara-forms-notebook/src/utils.py:65: UserWarning: Could not infer format, so each element will be parsed individually, falling back to `dateutil`. To ensure parsing is consistent and as-expected, please specify a format.\n",
      "  df['end'] = pd.to_datetime(df['end'])\n",
      " 30%|████████████████████████                                                         | 173/581 [00:06<00:13, 30.75it/s]/mnt/c/Users/vivek/Desktop/svara-forms-notebook/src/utils.py:64: UserWarning: Could not infer format, so each element will be parsed individually, falling back to `dateutil`. To ensure parsing is consistent and as-expected, please specify a format.\n",
      "  df['start'] = pd.to_datetime(df['start'])\n",
      "/mnt/c/Users/vivek/Desktop/svara-forms-notebook/src/utils.py:65: UserWarning: Could not infer format, so each element will be parsed individually, falling back to `dateutil`. To ensure parsing is consistent and as-expected, please specify a format.\n",
      "  df['end'] = pd.to_datetime(df['end'])\n",
      "/mnt/c/Users/vivek/Desktop/svara-forms-notebook/src/utils.py:64: UserWarning: Could not infer format, so each element will be parsed individually, falling back to `dateutil`. To ensure parsing is consistent and as-expected, please specify a format.\n",
      "  df['start'] = pd.to_datetime(df['start'])\n",
      "/mnt/c/Users/vivek/Desktop/svara-forms-notebook/src/utils.py:65: UserWarning: Could not infer format, so each element will be parsed individually, falling back to `dateutil`. To ensure parsing is consistent and as-expected, please specify a format.\n",
      "  df['end'] = pd.to_datetime(df['end'])\n",
      "/mnt/c/Users/vivek/Desktop/svara-forms-notebook/src/utils.py:64: UserWarning: Could not infer format, so each element will be parsed individually, falling back to `dateutil`. To ensure parsing is consistent and as-expected, please specify a format.\n",
      "  df['start'] = pd.to_datetime(df['start'])\n",
      "/mnt/c/Users/vivek/Desktop/svara-forms-notebook/src/utils.py:65: UserWarning: Could not infer format, so each element will be parsed individually, falling back to `dateutil`. To ensure parsing is consistent and as-expected, please specify a format.\n",
      "  df['end'] = pd.to_datetime(df['end'])\n",
      "/mnt/c/Users/vivek/Desktop/svara-forms-notebook/src/utils.py:64: UserWarning: Could not infer format, so each element will be parsed individually, falling back to `dateutil`. To ensure parsing is consistent and as-expected, please specify a format.\n",
      "  df['start'] = pd.to_datetime(df['start'])\n",
      "/mnt/c/Users/vivek/Desktop/svara-forms-notebook/src/utils.py:65: UserWarning: Could not infer format, so each element will be parsed individually, falling back to `dateutil`. To ensure parsing is consistent and as-expected, please specify a format.\n",
      "  df['end'] = pd.to_datetime(df['end'])\n",
      " 30%|████████████████████████▋                                                        | 177/581 [00:06<00:13, 29.24it/s]/mnt/c/Users/vivek/Desktop/svara-forms-notebook/src/utils.py:64: UserWarning: Could not infer format, so each element will be parsed individually, falling back to `dateutil`. To ensure parsing is consistent and as-expected, please specify a format.\n",
      "  df['start'] = pd.to_datetime(df['start'])\n",
      "/mnt/c/Users/vivek/Desktop/svara-forms-notebook/src/utils.py:65: UserWarning: Could not infer format, so each element will be parsed individually, falling back to `dateutil`. To ensure parsing is consistent and as-expected, please specify a format.\n",
      "  df['end'] = pd.to_datetime(df['end'])\n",
      "/mnt/c/Users/vivek/Desktop/svara-forms-notebook/src/utils.py:64: UserWarning: Could not infer format, so each element will be parsed individually, falling back to `dateutil`. To ensure parsing is consistent and as-expected, please specify a format.\n",
      "  df['start'] = pd.to_datetime(df['start'])\n",
      "/mnt/c/Users/vivek/Desktop/svara-forms-notebook/src/utils.py:65: UserWarning: Could not infer format, so each element will be parsed individually, falling back to `dateutil`. To ensure parsing is consistent and as-expected, please specify a format.\n",
      "  df['end'] = pd.to_datetime(df['end'])\n",
      "/mnt/c/Users/vivek/Desktop/svara-forms-notebook/src/utils.py:64: UserWarning: Could not infer format, so each element will be parsed individually, falling back to `dateutil`. To ensure parsing is consistent and as-expected, please specify a format.\n",
      "  df['start'] = pd.to_datetime(df['start'])\n",
      "/mnt/c/Users/vivek/Desktop/svara-forms-notebook/src/utils.py:65: UserWarning: Could not infer format, so each element will be parsed individually, falling back to `dateutil`. To ensure parsing is consistent and as-expected, please specify a format.\n",
      "  df['end'] = pd.to_datetime(df['end'])\n",
      " 31%|█████████████████████████▏                                                       | 181/581 [00:06<00:13, 30.17it/s]/mnt/c/Users/vivek/Desktop/svara-forms-notebook/src/utils.py:64: UserWarning: Could not infer format, so each element will be parsed individually, falling back to `dateutil`. To ensure parsing is consistent and as-expected, please specify a format.\n",
      "  df['start'] = pd.to_datetime(df['start'])\n",
      "/mnt/c/Users/vivek/Desktop/svara-forms-notebook/src/utils.py:65: UserWarning: Could not infer format, so each element will be parsed individually, falling back to `dateutil`. To ensure parsing is consistent and as-expected, please specify a format.\n",
      "  df['end'] = pd.to_datetime(df['end'])\n",
      "/mnt/c/Users/vivek/Desktop/svara-forms-notebook/src/utils.py:64: UserWarning: Could not infer format, so each element will be parsed individually, falling back to `dateutil`. To ensure parsing is consistent and as-expected, please specify a format.\n",
      "  df['start'] = pd.to_datetime(df['start'])\n",
      "/mnt/c/Users/vivek/Desktop/svara-forms-notebook/src/utils.py:65: UserWarning: Could not infer format, so each element will be parsed individually, falling back to `dateutil`. To ensure parsing is consistent and as-expected, please specify a format.\n",
      "  df['end'] = pd.to_datetime(df['end'])\n",
      "/mnt/c/Users/vivek/Desktop/svara-forms-notebook/src/utils.py:64: UserWarning: Could not infer format, so each element will be parsed individually, falling back to `dateutil`. To ensure parsing is consistent and as-expected, please specify a format.\n",
      "  df['start'] = pd.to_datetime(df['start'])\n",
      "/mnt/c/Users/vivek/Desktop/svara-forms-notebook/src/utils.py:65: UserWarning: Could not infer format, so each element will be parsed individually, falling back to `dateutil`. To ensure parsing is consistent and as-expected, please specify a format.\n",
      "  df['end'] = pd.to_datetime(df['end'])\n",
      " 32%|█████████████████████████▊                                                       | 185/581 [00:06<00:12, 30.81it/s]/mnt/c/Users/vivek/Desktop/svara-forms-notebook/src/utils.py:64: UserWarning: Could not infer format, so each element will be parsed individually, falling back to `dateutil`. To ensure parsing is consistent and as-expected, please specify a format.\n",
      "  df['start'] = pd.to_datetime(df['start'])\n",
      "/mnt/c/Users/vivek/Desktop/svara-forms-notebook/src/utils.py:65: UserWarning: Could not infer format, so each element will be parsed individually, falling back to `dateutil`. To ensure parsing is consistent and as-expected, please specify a format.\n",
      "  df['end'] = pd.to_datetime(df['end'])\n",
      "/mnt/c/Users/vivek/Desktop/svara-forms-notebook/src/utils.py:64: UserWarning: Could not infer format, so each element will be parsed individually, falling back to `dateutil`. To ensure parsing is consistent and as-expected, please specify a format.\n",
      "  df['start'] = pd.to_datetime(df['start'])\n",
      "/mnt/c/Users/vivek/Desktop/svara-forms-notebook/src/utils.py:65: UserWarning: Could not infer format, so each element will be parsed individually, falling back to `dateutil`. To ensure parsing is consistent and as-expected, please specify a format.\n",
      "  df['end'] = pd.to_datetime(df['end'])\n",
      "/mnt/c/Users/vivek/Desktop/svara-forms-notebook/src/utils.py:64: UserWarning: Could not infer format, so each element will be parsed individually, falling back to `dateutil`. To ensure parsing is consistent and as-expected, please specify a format.\n",
      "  df['start'] = pd.to_datetime(df['start'])\n",
      "/mnt/c/Users/vivek/Desktop/svara-forms-notebook/src/utils.py:65: UserWarning: Could not infer format, so each element will be parsed individually, falling back to `dateutil`. To ensure parsing is consistent and as-expected, please specify a format.\n",
      "  df['end'] = pd.to_datetime(df['end'])\n",
      "/mnt/c/Users/vivek/Desktop/svara-forms-notebook/src/utils.py:64: UserWarning: Could not infer format, so each element will be parsed individually, falling back to `dateutil`. To ensure parsing is consistent and as-expected, please specify a format.\n",
      "  df['start'] = pd.to_datetime(df['start'])\n",
      "/mnt/c/Users/vivek/Desktop/svara-forms-notebook/src/utils.py:65: UserWarning: Could not infer format, so each element will be parsed individually, falling back to `dateutil`. To ensure parsing is consistent and as-expected, please specify a format.\n",
      "  df['end'] = pd.to_datetime(df['end'])\n",
      " 33%|██████████████████████████▎                                                      | 189/581 [00:07<00:12, 30.44it/s]/mnt/c/Users/vivek/Desktop/svara-forms-notebook/src/utils.py:64: UserWarning: Could not infer format, so each element will be parsed individually, falling back to `dateutil`. To ensure parsing is consistent and as-expected, please specify a format.\n",
      "  df['start'] = pd.to_datetime(df['start'])\n",
      "/mnt/c/Users/vivek/Desktop/svara-forms-notebook/src/utils.py:65: UserWarning: Could not infer format, so each element will be parsed individually, falling back to `dateutil`. To ensure parsing is consistent and as-expected, please specify a format.\n",
      "  df['end'] = pd.to_datetime(df['end'])\n",
      "/mnt/c/Users/vivek/Desktop/svara-forms-notebook/src/utils.py:64: UserWarning: Could not infer format, so each element will be parsed individually, falling back to `dateutil`. To ensure parsing is consistent and as-expected, please specify a format.\n",
      "  df['start'] = pd.to_datetime(df['start'])\n",
      "/mnt/c/Users/vivek/Desktop/svara-forms-notebook/src/utils.py:65: UserWarning: Could not infer format, so each element will be parsed individually, falling back to `dateutil`. To ensure parsing is consistent and as-expected, please specify a format.\n",
      "  df['end'] = pd.to_datetime(df['end'])\n",
      "/mnt/c/Users/vivek/Desktop/svara-forms-notebook/src/utils.py:64: UserWarning: Could not infer format, so each element will be parsed individually, falling back to `dateutil`. To ensure parsing is consistent and as-expected, please specify a format.\n",
      "  df['start'] = pd.to_datetime(df['start'])\n",
      "/mnt/c/Users/vivek/Desktop/svara-forms-notebook/src/utils.py:65: UserWarning: Could not infer format, so each element will be parsed individually, falling back to `dateutil`. To ensure parsing is consistent and as-expected, please specify a format.\n",
      "  df['end'] = pd.to_datetime(df['end'])\n",
      " 33%|██████████████████████████▉                                                      | 193/581 [00:07<00:12, 32.07it/s]/mnt/c/Users/vivek/Desktop/svara-forms-notebook/src/utils.py:64: UserWarning: Could not infer format, so each element will be parsed individually, falling back to `dateutil`. To ensure parsing is consistent and as-expected, please specify a format.\n",
      "  df['start'] = pd.to_datetime(df['start'])\n",
      "/mnt/c/Users/vivek/Desktop/svara-forms-notebook/src/utils.py:65: UserWarning: Could not infer format, so each element will be parsed individually, falling back to `dateutil`. To ensure parsing is consistent and as-expected, please specify a format.\n",
      "  df['end'] = pd.to_datetime(df['end'])\n",
      "/mnt/c/Users/vivek/Desktop/svara-forms-notebook/src/utils.py:64: UserWarning: Could not infer format, so each element will be parsed individually, falling back to `dateutil`. To ensure parsing is consistent and as-expected, please specify a format.\n",
      "  df['start'] = pd.to_datetime(df['start'])\n",
      "/mnt/c/Users/vivek/Desktop/svara-forms-notebook/src/utils.py:65: UserWarning: Could not infer format, so each element will be parsed individually, falling back to `dateutil`. To ensure parsing is consistent and as-expected, please specify a format.\n",
      "  df['end'] = pd.to_datetime(df['end'])\n",
      "/mnt/c/Users/vivek/Desktop/svara-forms-notebook/src/utils.py:64: UserWarning: Could not infer format, so each element will be parsed individually, falling back to `dateutil`. To ensure parsing is consistent and as-expected, please specify a format.\n",
      "  df['start'] = pd.to_datetime(df['start'])\n",
      "/mnt/c/Users/vivek/Desktop/svara-forms-notebook/src/utils.py:65: UserWarning: Could not infer format, so each element will be parsed individually, falling back to `dateutil`. To ensure parsing is consistent and as-expected, please specify a format.\n",
      "  df['end'] = pd.to_datetime(df['end'])\n",
      " 34%|███████████████████████████▍                                                     | 197/581 [00:07<00:11, 33.98it/s]/mnt/c/Users/vivek/Desktop/svara-forms-notebook/src/utils.py:64: UserWarning: Could not infer format, so each element will be parsed individually, falling back to `dateutil`. To ensure parsing is consistent and as-expected, please specify a format.\n",
      "  df['start'] = pd.to_datetime(df['start'])\n",
      "/mnt/c/Users/vivek/Desktop/svara-forms-notebook/src/utils.py:65: UserWarning: Could not infer format, so each element will be parsed individually, falling back to `dateutil`. To ensure parsing is consistent and as-expected, please specify a format.\n",
      "  df['end'] = pd.to_datetime(df['end'])\n",
      "/mnt/c/Users/vivek/Desktop/svara-forms-notebook/src/utils.py:64: UserWarning: Could not infer format, so each element will be parsed individually, falling back to `dateutil`. To ensure parsing is consistent and as-expected, please specify a format.\n",
      "  df['start'] = pd.to_datetime(df['start'])\n",
      "/mnt/c/Users/vivek/Desktop/svara-forms-notebook/src/utils.py:65: UserWarning: Could not infer format, so each element will be parsed individually, falling back to `dateutil`. To ensure parsing is consistent and as-expected, please specify a format.\n",
      "  df['end'] = pd.to_datetime(df['end'])\n",
      "/mnt/c/Users/vivek/Desktop/svara-forms-notebook/src/utils.py:64: UserWarning: Could not infer format, so each element will be parsed individually, falling back to `dateutil`. To ensure parsing is consistent and as-expected, please specify a format.\n",
      "  df['start'] = pd.to_datetime(df['start'])\n",
      "/mnt/c/Users/vivek/Desktop/svara-forms-notebook/src/utils.py:65: UserWarning: Could not infer format, so each element will be parsed individually, falling back to `dateutil`. To ensure parsing is consistent and as-expected, please specify a format.\n",
      "  df['end'] = pd.to_datetime(df['end'])\n",
      " 35%|████████████████████████████                                                     | 201/581 [00:07<00:11, 34.45it/s]/mnt/c/Users/vivek/Desktop/svara-forms-notebook/src/utils.py:64: UserWarning: Could not infer format, so each element will be parsed individually, falling back to `dateutil`. To ensure parsing is consistent and as-expected, please specify a format.\n",
      "  df['start'] = pd.to_datetime(df['start'])\n",
      "/mnt/c/Users/vivek/Desktop/svara-forms-notebook/src/utils.py:65: UserWarning: Could not infer format, so each element will be parsed individually, falling back to `dateutil`. To ensure parsing is consistent and as-expected, please specify a format.\n",
      "  df['end'] = pd.to_datetime(df['end'])\n",
      "/mnt/c/Users/vivek/Desktop/svara-forms-notebook/src/utils.py:64: UserWarning: Could not infer format, so each element will be parsed individually, falling back to `dateutil`. To ensure parsing is consistent and as-expected, please specify a format.\n",
      "  df['start'] = pd.to_datetime(df['start'])\n",
      "/mnt/c/Users/vivek/Desktop/svara-forms-notebook/src/utils.py:65: UserWarning: Could not infer format, so each element will be parsed individually, falling back to `dateutil`. To ensure parsing is consistent and as-expected, please specify a format.\n",
      "  df['end'] = pd.to_datetime(df['end'])\n",
      "/mnt/c/Users/vivek/Desktop/svara-forms-notebook/src/utils.py:64: UserWarning: Could not infer format, so each element will be parsed individually, falling back to `dateutil`. To ensure parsing is consistent and as-expected, please specify a format.\n",
      "  df['start'] = pd.to_datetime(df['start'])\n",
      "/mnt/c/Users/vivek/Desktop/svara-forms-notebook/src/utils.py:65: UserWarning: Could not infer format, so each element will be parsed individually, falling back to `dateutil`. To ensure parsing is consistent and as-expected, please specify a format.\n",
      "  df['end'] = pd.to_datetime(df['end'])\n",
      " 35%|████████████████████████████▌                                                    | 205/581 [00:07<00:11, 33.24it/s]/mnt/c/Users/vivek/Desktop/svara-forms-notebook/src/utils.py:64: UserWarning: Could not infer format, so each element will be parsed individually, falling back to `dateutil`. To ensure parsing is consistent and as-expected, please specify a format.\n",
      "  df['start'] = pd.to_datetime(df['start'])\n",
      "/mnt/c/Users/vivek/Desktop/svara-forms-notebook/src/utils.py:65: UserWarning: Could not infer format, so each element will be parsed individually, falling back to `dateutil`. To ensure parsing is consistent and as-expected, please specify a format.\n",
      "  df['end'] = pd.to_datetime(df['end'])\n",
      "/mnt/c/Users/vivek/Desktop/svara-forms-notebook/src/utils.py:64: UserWarning: Could not infer format, so each element will be parsed individually, falling back to `dateutil`. To ensure parsing is consistent and as-expected, please specify a format.\n",
      "  df['start'] = pd.to_datetime(df['start'])\n",
      "/mnt/c/Users/vivek/Desktop/svara-forms-notebook/src/utils.py:65: UserWarning: Could not infer format, so each element will be parsed individually, falling back to `dateutil`. To ensure parsing is consistent and as-expected, please specify a format.\n",
      "  df['end'] = pd.to_datetime(df['end'])\n",
      "/mnt/c/Users/vivek/Desktop/svara-forms-notebook/src/utils.py:64: UserWarning: Could not infer format, so each element will be parsed individually, falling back to `dateutil`. To ensure parsing is consistent and as-expected, please specify a format.\n",
      "  df['start'] = pd.to_datetime(df['start'])\n",
      "/mnt/c/Users/vivek/Desktop/svara-forms-notebook/src/utils.py:65: UserWarning: Could not infer format, so each element will be parsed individually, falling back to `dateutil`. To ensure parsing is consistent and as-expected, please specify a format.\n",
      "  df['end'] = pd.to_datetime(df['end'])\n",
      " 36%|█████████████████████████████▍                                                   | 211/581 [00:07<00:09, 38.09it/s]/mnt/c/Users/vivek/Desktop/svara-forms-notebook/src/utils.py:64: UserWarning: Could not infer format, so each element will be parsed individually, falling back to `dateutil`. To ensure parsing is consistent and as-expected, please specify a format.\n",
      "  df['start'] = pd.to_datetime(df['start'])\n",
      "/mnt/c/Users/vivek/Desktop/svara-forms-notebook/src/utils.py:65: UserWarning: Could not infer format, so each element will be parsed individually, falling back to `dateutil`. To ensure parsing is consistent and as-expected, please specify a format.\n",
      "  df['end'] = pd.to_datetime(df['end'])\n",
      "/mnt/c/Users/vivek/Desktop/svara-forms-notebook/src/utils.py:64: UserWarning: Could not infer format, so each element will be parsed individually, falling back to `dateutil`. To ensure parsing is consistent and as-expected, please specify a format.\n",
      "  df['start'] = pd.to_datetime(df['start'])\n",
      "/mnt/c/Users/vivek/Desktop/svara-forms-notebook/src/utils.py:65: UserWarning: Could not infer format, so each element will be parsed individually, falling back to `dateutil`. To ensure parsing is consistent and as-expected, please specify a format.\n",
      "  df['end'] = pd.to_datetime(df['end'])\n",
      "/mnt/c/Users/vivek/Desktop/svara-forms-notebook/src/utils.py:64: UserWarning: Could not infer format, so each element will be parsed individually, falling back to `dateutil`. To ensure parsing is consistent and as-expected, please specify a format.\n",
      "  df['start'] = pd.to_datetime(df['start'])\n",
      "/mnt/c/Users/vivek/Desktop/svara-forms-notebook/src/utils.py:65: UserWarning: Could not infer format, so each element will be parsed individually, falling back to `dateutil`. To ensure parsing is consistent and as-expected, please specify a format.\n",
      "  df['end'] = pd.to_datetime(df['end'])\n",
      "/mnt/c/Users/vivek/Desktop/svara-forms-notebook/src/utils.py:64: UserWarning: Could not infer format, so each element will be parsed individually, falling back to `dateutil`. To ensure parsing is consistent and as-expected, please specify a format.\n",
      "  df['start'] = pd.to_datetime(df['start'])\n",
      "/mnt/c/Users/vivek/Desktop/svara-forms-notebook/src/utils.py:65: UserWarning: Could not infer format, so each element will be parsed individually, falling back to `dateutil`. To ensure parsing is consistent and as-expected, please specify a format.\n",
      "  df['end'] = pd.to_datetime(df['end'])\n",
      " 37%|█████████████████████████████▉                                                   | 215/581 [00:07<00:10, 33.32it/s]/mnt/c/Users/vivek/Desktop/svara-forms-notebook/src/utils.py:64: UserWarning: Could not infer format, so each element will be parsed individually, falling back to `dateutil`. To ensure parsing is consistent and as-expected, please specify a format.\n",
      "  df['start'] = pd.to_datetime(df['start'])\n",
      "/mnt/c/Users/vivek/Desktop/svara-forms-notebook/src/utils.py:65: UserWarning: Could not infer format, so each element will be parsed individually, falling back to `dateutil`. To ensure parsing is consistent and as-expected, please specify a format.\n",
      "  df['end'] = pd.to_datetime(df['end'])\n",
      "/mnt/c/Users/vivek/Desktop/svara-forms-notebook/src/utils.py:64: UserWarning: Could not infer format, so each element will be parsed individually, falling back to `dateutil`. To ensure parsing is consistent and as-expected, please specify a format.\n",
      "  df['start'] = pd.to_datetime(df['start'])\n",
      "/mnt/c/Users/vivek/Desktop/svara-forms-notebook/src/utils.py:65: UserWarning: Could not infer format, so each element will be parsed individually, falling back to `dateutil`. To ensure parsing is consistent and as-expected, please specify a format.\n",
      "  df['end'] = pd.to_datetime(df['end'])\n",
      "/mnt/c/Users/vivek/Desktop/svara-forms-notebook/src/utils.py:64: UserWarning: Could not infer format, so each element will be parsed individually, falling back to `dateutil`. To ensure parsing is consistent and as-expected, please specify a format.\n",
      "  df['start'] = pd.to_datetime(df['start'])\n",
      "/mnt/c/Users/vivek/Desktop/svara-forms-notebook/src/utils.py:65: UserWarning: Could not infer format, so each element will be parsed individually, falling back to `dateutil`. To ensure parsing is consistent and as-expected, please specify a format.\n",
      "  df['end'] = pd.to_datetime(df['end'])\n",
      " 38%|██████████████████████████████▋                                                  | 220/581 [00:07<00:10, 35.30it/s]/mnt/c/Users/vivek/Desktop/svara-forms-notebook/src/utils.py:64: UserWarning: Could not infer format, so each element will be parsed individually, falling back to `dateutil`. To ensure parsing is consistent and as-expected, please specify a format.\n",
      "  df['start'] = pd.to_datetime(df['start'])\n",
      "/mnt/c/Users/vivek/Desktop/svara-forms-notebook/src/utils.py:65: UserWarning: Could not infer format, so each element will be parsed individually, falling back to `dateutil`. To ensure parsing is consistent and as-expected, please specify a format.\n",
      "  df['end'] = pd.to_datetime(df['end'])\n",
      "/mnt/c/Users/vivek/Desktop/svara-forms-notebook/src/utils.py:64: UserWarning: Could not infer format, so each element will be parsed individually, falling back to `dateutil`. To ensure parsing is consistent and as-expected, please specify a format.\n",
      "  df['start'] = pd.to_datetime(df['start'])\n",
      "/mnt/c/Users/vivek/Desktop/svara-forms-notebook/src/utils.py:65: UserWarning: Could not infer format, so each element will be parsed individually, falling back to `dateutil`. To ensure parsing is consistent and as-expected, please specify a format.\n",
      "  df['end'] = pd.to_datetime(df['end'])\n",
      "/mnt/c/Users/vivek/Desktop/svara-forms-notebook/src/utils.py:64: UserWarning: Could not infer format, so each element will be parsed individually, falling back to `dateutil`. To ensure parsing is consistent and as-expected, please specify a format.\n",
      "  df['start'] = pd.to_datetime(df['start'])\n",
      "/mnt/c/Users/vivek/Desktop/svara-forms-notebook/src/utils.py:65: UserWarning: Could not infer format, so each element will be parsed individually, falling back to `dateutil`. To ensure parsing is consistent and as-expected, please specify a format.\n",
      "  df['end'] = pd.to_datetime(df['end'])\n",
      " 39%|███████████████████████████████▏                                                 | 224/581 [00:08<00:10, 34.72it/s]/mnt/c/Users/vivek/Desktop/svara-forms-notebook/src/utils.py:64: UserWarning: Could not infer format, so each element will be parsed individually, falling back to `dateutil`. To ensure parsing is consistent and as-expected, please specify a format.\n",
      "  df['start'] = pd.to_datetime(df['start'])\n",
      "/mnt/c/Users/vivek/Desktop/svara-forms-notebook/src/utils.py:65: UserWarning: Could not infer format, so each element will be parsed individually, falling back to `dateutil`. To ensure parsing is consistent and as-expected, please specify a format.\n",
      "  df['end'] = pd.to_datetime(df['end'])\n",
      "/mnt/c/Users/vivek/Desktop/svara-forms-notebook/src/utils.py:64: UserWarning: Could not infer format, so each element will be parsed individually, falling back to `dateutil`. To ensure parsing is consistent and as-expected, please specify a format.\n",
      "  df['start'] = pd.to_datetime(df['start'])\n",
      "/mnt/c/Users/vivek/Desktop/svara-forms-notebook/src/utils.py:65: UserWarning: Could not infer format, so each element will be parsed individually, falling back to `dateutil`. To ensure parsing is consistent and as-expected, please specify a format.\n",
      "  df['end'] = pd.to_datetime(df['end'])\n",
      "/mnt/c/Users/vivek/Desktop/svara-forms-notebook/src/utils.py:64: UserWarning: Could not infer format, so each element will be parsed individually, falling back to `dateutil`. To ensure parsing is consistent and as-expected, please specify a format.\n",
      "  df['start'] = pd.to_datetime(df['start'])\n",
      "/mnt/c/Users/vivek/Desktop/svara-forms-notebook/src/utils.py:65: UserWarning: Could not infer format, so each element will be parsed individually, falling back to `dateutil`. To ensure parsing is consistent and as-expected, please specify a format.\n",
      "  df['end'] = pd.to_datetime(df['end'])\n",
      " 39%|███████████████████████████████▊                                                 | 228/581 [00:08<00:10, 33.15it/s]/mnt/c/Users/vivek/Desktop/svara-forms-notebook/src/utils.py:64: UserWarning: Could not infer format, so each element will be parsed individually, falling back to `dateutil`. To ensure parsing is consistent and as-expected, please specify a format.\n",
      "  df['start'] = pd.to_datetime(df['start'])\n",
      "/mnt/c/Users/vivek/Desktop/svara-forms-notebook/src/utils.py:65: UserWarning: Could not infer format, so each element will be parsed individually, falling back to `dateutil`. To ensure parsing is consistent and as-expected, please specify a format.\n",
      "  df['end'] = pd.to_datetime(df['end'])\n",
      "/mnt/c/Users/vivek/Desktop/svara-forms-notebook/src/utils.py:64: UserWarning: Could not infer format, so each element will be parsed individually, falling back to `dateutil`. To ensure parsing is consistent and as-expected, please specify a format.\n",
      "  df['start'] = pd.to_datetime(df['start'])\n",
      "/mnt/c/Users/vivek/Desktop/svara-forms-notebook/src/utils.py:65: UserWarning: Could not infer format, so each element will be parsed individually, falling back to `dateutil`. To ensure parsing is consistent and as-expected, please specify a format.\n",
      "  df['end'] = pd.to_datetime(df['end'])\n",
      "/mnt/c/Users/vivek/Desktop/svara-forms-notebook/src/utils.py:64: UserWarning: Could not infer format, so each element will be parsed individually, falling back to `dateutil`. To ensure parsing is consistent and as-expected, please specify a format.\n",
      "  df['start'] = pd.to_datetime(df['start'])\n",
      "/mnt/c/Users/vivek/Desktop/svara-forms-notebook/src/utils.py:65: UserWarning: Could not infer format, so each element will be parsed individually, falling back to `dateutil`. To ensure parsing is consistent and as-expected, please specify a format.\n",
      "  df['end'] = pd.to_datetime(df['end'])\n",
      " 40%|████████████████████████████████▎                                                | 232/581 [00:08<00:10, 32.17it/s]/mnt/c/Users/vivek/Desktop/svara-forms-notebook/src/utils.py:64: UserWarning: Could not infer format, so each element will be parsed individually, falling back to `dateutil`. To ensure parsing is consistent and as-expected, please specify a format.\n",
      "  df['start'] = pd.to_datetime(df['start'])\n",
      "/mnt/c/Users/vivek/Desktop/svara-forms-notebook/src/utils.py:65: UserWarning: Could not infer format, so each element will be parsed individually, falling back to `dateutil`. To ensure parsing is consistent and as-expected, please specify a format.\n",
      "  df['end'] = pd.to_datetime(df['end'])\n",
      "/mnt/c/Users/vivek/Desktop/svara-forms-notebook/src/utils.py:64: UserWarning: Could not infer format, so each element will be parsed individually, falling back to `dateutil`. To ensure parsing is consistent and as-expected, please specify a format.\n",
      "  df['start'] = pd.to_datetime(df['start'])\n",
      "/mnt/c/Users/vivek/Desktop/svara-forms-notebook/src/utils.py:65: UserWarning: Could not infer format, so each element will be parsed individually, falling back to `dateutil`. To ensure parsing is consistent and as-expected, please specify a format.\n",
      "  df['end'] = pd.to_datetime(df['end'])\n",
      "/mnt/c/Users/vivek/Desktop/svara-forms-notebook/src/utils.py:64: UserWarning: Could not infer format, so each element will be parsed individually, falling back to `dateutil`. To ensure parsing is consistent and as-expected, please specify a format.\n",
      "  df['start'] = pd.to_datetime(df['start'])\n",
      "/mnt/c/Users/vivek/Desktop/svara-forms-notebook/src/utils.py:65: UserWarning: Could not infer format, so each element will be parsed individually, falling back to `dateutil`. To ensure parsing is consistent and as-expected, please specify a format.\n",
      "  df['end'] = pd.to_datetime(df['end'])\n",
      " 41%|█████████████████████████████████▏                                               | 238/581 [00:08<00:09, 37.08it/s]/mnt/c/Users/vivek/Desktop/svara-forms-notebook/src/utils.py:64: UserWarning: Could not infer format, so each element will be parsed individually, falling back to `dateutil`. To ensure parsing is consistent and as-expected, please specify a format.\n",
      "  df['start'] = pd.to_datetime(df['start'])\n",
      "/mnt/c/Users/vivek/Desktop/svara-forms-notebook/src/utils.py:65: UserWarning: Could not infer format, so each element will be parsed individually, falling back to `dateutil`. To ensure parsing is consistent and as-expected, please specify a format.\n",
      "  df['end'] = pd.to_datetime(df['end'])\n",
      "/mnt/c/Users/vivek/Desktop/svara-forms-notebook/src/utils.py:64: UserWarning: Could not infer format, so each element will be parsed individually, falling back to `dateutil`. To ensure parsing is consistent and as-expected, please specify a format.\n",
      "  df['start'] = pd.to_datetime(df['start'])\n",
      "/mnt/c/Users/vivek/Desktop/svara-forms-notebook/src/utils.py:65: UserWarning: Could not infer format, so each element will be parsed individually, falling back to `dateutil`. To ensure parsing is consistent and as-expected, please specify a format.\n",
      "  df['end'] = pd.to_datetime(df['end'])\n",
      "/mnt/c/Users/vivek/Desktop/svara-forms-notebook/src/utils.py:64: UserWarning: Could not infer format, so each element will be parsed individually, falling back to `dateutil`. To ensure parsing is consistent and as-expected, please specify a format.\n",
      "  df['start'] = pd.to_datetime(df['start'])\n",
      "/mnt/c/Users/vivek/Desktop/svara-forms-notebook/src/utils.py:65: UserWarning: Could not infer format, so each element will be parsed individually, falling back to `dateutil`. To ensure parsing is consistent and as-expected, please specify a format.\n",
      "  df['end'] = pd.to_datetime(df['end'])\n",
      " 42%|█████████████████████████████████▋                                               | 242/581 [00:08<00:10, 33.57it/s]/mnt/c/Users/vivek/Desktop/svara-forms-notebook/src/utils.py:64: UserWarning: Could not infer format, so each element will be parsed individually, falling back to `dateutil`. To ensure parsing is consistent and as-expected, please specify a format.\n",
      "  df['start'] = pd.to_datetime(df['start'])\n",
      "/mnt/c/Users/vivek/Desktop/svara-forms-notebook/src/utils.py:65: UserWarning: Could not infer format, so each element will be parsed individually, falling back to `dateutil`. To ensure parsing is consistent and as-expected, please specify a format.\n",
      "  df['end'] = pd.to_datetime(df['end'])\n",
      "/mnt/c/Users/vivek/Desktop/svara-forms-notebook/src/utils.py:64: UserWarning: Could not infer format, so each element will be parsed individually, falling back to `dateutil`. To ensure parsing is consistent and as-expected, please specify a format.\n",
      "  df['start'] = pd.to_datetime(df['start'])\n",
      "/mnt/c/Users/vivek/Desktop/svara-forms-notebook/src/utils.py:65: UserWarning: Could not infer format, so each element will be parsed individually, falling back to `dateutil`. To ensure parsing is consistent and as-expected, please specify a format.\n",
      "  df['end'] = pd.to_datetime(df['end'])\n",
      "/mnt/c/Users/vivek/Desktop/svara-forms-notebook/src/utils.py:64: UserWarning: Could not infer format, so each element will be parsed individually, falling back to `dateutil`. To ensure parsing is consistent and as-expected, please specify a format.\n",
      "  df['start'] = pd.to_datetime(df['start'])\n",
      "/mnt/c/Users/vivek/Desktop/svara-forms-notebook/src/utils.py:65: UserWarning: Could not infer format, so each element will be parsed individually, falling back to `dateutil`. To ensure parsing is consistent and as-expected, please specify a format.\n",
      "  df['end'] = pd.to_datetime(df['end'])\n",
      " 42%|██████████████████████████████████▎                                              | 246/581 [00:08<00:10, 31.94it/s]/mnt/c/Users/vivek/Desktop/svara-forms-notebook/src/utils.py:64: UserWarning: Could not infer format, so each element will be parsed individually, falling back to `dateutil`. To ensure parsing is consistent and as-expected, please specify a format.\n",
      "  df['start'] = pd.to_datetime(df['start'])\n",
      "/mnt/c/Users/vivek/Desktop/svara-forms-notebook/src/utils.py:65: UserWarning: Could not infer format, so each element will be parsed individually, falling back to `dateutil`. To ensure parsing is consistent and as-expected, please specify a format.\n",
      "  df['end'] = pd.to_datetime(df['end'])\n",
      "/mnt/c/Users/vivek/Desktop/svara-forms-notebook/src/utils.py:64: UserWarning: Could not infer format, so each element will be parsed individually, falling back to `dateutil`. To ensure parsing is consistent and as-expected, please specify a format.\n",
      "  df['start'] = pd.to_datetime(df['start'])\n",
      "/mnt/c/Users/vivek/Desktop/svara-forms-notebook/src/utils.py:65: UserWarning: Could not infer format, so each element will be parsed individually, falling back to `dateutil`. To ensure parsing is consistent and as-expected, please specify a format.\n",
      "  df['end'] = pd.to_datetime(df['end'])\n",
      "/mnt/c/Users/vivek/Desktop/svara-forms-notebook/src/utils.py:64: UserWarning: Could not infer format, so each element will be parsed individually, falling back to `dateutil`. To ensure parsing is consistent and as-expected, please specify a format.\n",
      "  df['start'] = pd.to_datetime(df['start'])\n",
      "/mnt/c/Users/vivek/Desktop/svara-forms-notebook/src/utils.py:65: UserWarning: Could not infer format, so each element will be parsed individually, falling back to `dateutil`. To ensure parsing is consistent and as-expected, please specify a format.\n",
      "  df['end'] = pd.to_datetime(df['end'])\n",
      " 43%|██████████████████████████████████▊                                              | 250/581 [00:08<00:09, 33.23it/s]/mnt/c/Users/vivek/Desktop/svara-forms-notebook/src/utils.py:64: UserWarning: Could not infer format, so each element will be parsed individually, falling back to `dateutil`. To ensure parsing is consistent and as-expected, please specify a format.\n",
      "  df['start'] = pd.to_datetime(df['start'])\n",
      "/mnt/c/Users/vivek/Desktop/svara-forms-notebook/src/utils.py:65: UserWarning: Could not infer format, so each element will be parsed individually, falling back to `dateutil`. To ensure parsing is consistent and as-expected, please specify a format.\n",
      "  df['end'] = pd.to_datetime(df['end'])\n",
      "/mnt/c/Users/vivek/Desktop/svara-forms-notebook/src/utils.py:64: UserWarning: Could not infer format, so each element will be parsed individually, falling back to `dateutil`. To ensure parsing is consistent and as-expected, please specify a format.\n",
      "  df['start'] = pd.to_datetime(df['start'])\n",
      "/mnt/c/Users/vivek/Desktop/svara-forms-notebook/src/utils.py:65: UserWarning: Could not infer format, so each element will be parsed individually, falling back to `dateutil`. To ensure parsing is consistent and as-expected, please specify a format.\n",
      "  df['end'] = pd.to_datetime(df['end'])\n",
      "/mnt/c/Users/vivek/Desktop/svara-forms-notebook/src/utils.py:64: UserWarning: Could not infer format, so each element will be parsed individually, falling back to `dateutil`. To ensure parsing is consistent and as-expected, please specify a format.\n",
      "  df['start'] = pd.to_datetime(df['start'])\n",
      "/mnt/c/Users/vivek/Desktop/svara-forms-notebook/src/utils.py:65: UserWarning: Could not infer format, so each element will be parsed individually, falling back to `dateutil`. To ensure parsing is consistent and as-expected, please specify a format.\n",
      "  df['end'] = pd.to_datetime(df['end'])\n",
      " 44%|███████████████████████████████████▍                                             | 254/581 [00:08<00:09, 33.70it/s]/mnt/c/Users/vivek/Desktop/svara-forms-notebook/src/utils.py:64: UserWarning: Could not infer format, so each element will be parsed individually, falling back to `dateutil`. To ensure parsing is consistent and as-expected, please specify a format.\n",
      "  df['start'] = pd.to_datetime(df['start'])\n",
      "/mnt/c/Users/vivek/Desktop/svara-forms-notebook/src/utils.py:65: UserWarning: Could not infer format, so each element will be parsed individually, falling back to `dateutil`. To ensure parsing is consistent and as-expected, please specify a format.\n",
      "  df['end'] = pd.to_datetime(df['end'])\n",
      "/mnt/c/Users/vivek/Desktop/svara-forms-notebook/src/utils.py:64: UserWarning: Could not infer format, so each element will be parsed individually, falling back to `dateutil`. To ensure parsing is consistent and as-expected, please specify a format.\n",
      "  df['start'] = pd.to_datetime(df['start'])\n",
      "/mnt/c/Users/vivek/Desktop/svara-forms-notebook/src/utils.py:65: UserWarning: Could not infer format, so each element will be parsed individually, falling back to `dateutil`. To ensure parsing is consistent and as-expected, please specify a format.\n",
      "  df['end'] = pd.to_datetime(df['end'])\n",
      "/mnt/c/Users/vivek/Desktop/svara-forms-notebook/src/utils.py:64: UserWarning: Could not infer format, so each element will be parsed individually, falling back to `dateutil`. To ensure parsing is consistent and as-expected, please specify a format.\n",
      "  df['start'] = pd.to_datetime(df['start'])\n",
      "/mnt/c/Users/vivek/Desktop/svara-forms-notebook/src/utils.py:65: UserWarning: Could not infer format, so each element will be parsed individually, falling back to `dateutil`. To ensure parsing is consistent and as-expected, please specify a format.\n",
      "  df['end'] = pd.to_datetime(df['end'])\n",
      " 44%|███████████████████████████████████▉                                             | 258/581 [00:09<00:09, 33.74it/s]/mnt/c/Users/vivek/Desktop/svara-forms-notebook/src/utils.py:64: UserWarning: Could not infer format, so each element will be parsed individually, falling back to `dateutil`. To ensure parsing is consistent and as-expected, please specify a format.\n",
      "  df['start'] = pd.to_datetime(df['start'])\n",
      "/mnt/c/Users/vivek/Desktop/svara-forms-notebook/src/utils.py:65: UserWarning: Could not infer format, so each element will be parsed individually, falling back to `dateutil`. To ensure parsing is consistent and as-expected, please specify a format.\n",
      "  df['end'] = pd.to_datetime(df['end'])\n",
      "/mnt/c/Users/vivek/Desktop/svara-forms-notebook/src/utils.py:64: UserWarning: Could not infer format, so each element will be parsed individually, falling back to `dateutil`. To ensure parsing is consistent and as-expected, please specify a format.\n",
      "  df['start'] = pd.to_datetime(df['start'])\n",
      "/mnt/c/Users/vivek/Desktop/svara-forms-notebook/src/utils.py:65: UserWarning: Could not infer format, so each element will be parsed individually, falling back to `dateutil`. To ensure parsing is consistent and as-expected, please specify a format.\n",
      "  df['end'] = pd.to_datetime(df['end'])\n",
      "/mnt/c/Users/vivek/Desktop/svara-forms-notebook/src/utils.py:64: UserWarning: Could not infer format, so each element will be parsed individually, falling back to `dateutil`. To ensure parsing is consistent and as-expected, please specify a format.\n",
      "  df['start'] = pd.to_datetime(df['start'])\n",
      "/mnt/c/Users/vivek/Desktop/svara-forms-notebook/src/utils.py:65: UserWarning: Could not infer format, so each element will be parsed individually, falling back to `dateutil`. To ensure parsing is consistent and as-expected, please specify a format.\n",
      "  df['end'] = pd.to_datetime(df['end'])\n",
      "/mnt/c/Users/vivek/Desktop/svara-forms-notebook/src/utils.py:64: UserWarning: Could not infer format, so each element will be parsed individually, falling back to `dateutil`. To ensure parsing is consistent and as-expected, please specify a format.\n",
      "  df['start'] = pd.to_datetime(df['start'])\n",
      "/mnt/c/Users/vivek/Desktop/svara-forms-notebook/src/utils.py:65: UserWarning: Could not infer format, so each element will be parsed individually, falling back to `dateutil`. To ensure parsing is consistent and as-expected, please specify a format.\n",
      "  df['end'] = pd.to_datetime(df['end'])\n",
      " 45%|████████████████████████████████████▌                                            | 262/581 [00:09<00:10, 30.80it/s]/mnt/c/Users/vivek/Desktop/svara-forms-notebook/src/utils.py:64: UserWarning: Could not infer format, so each element will be parsed individually, falling back to `dateutil`. To ensure parsing is consistent and as-expected, please specify a format.\n",
      "  df['start'] = pd.to_datetime(df['start'])\n",
      "/mnt/c/Users/vivek/Desktop/svara-forms-notebook/src/utils.py:65: UserWarning: Could not infer format, so each element will be parsed individually, falling back to `dateutil`. To ensure parsing is consistent and as-expected, please specify a format.\n",
      "  df['end'] = pd.to_datetime(df['end'])\n",
      "/mnt/c/Users/vivek/Desktop/svara-forms-notebook/src/utils.py:64: UserWarning: Could not infer format, so each element will be parsed individually, falling back to `dateutil`. To ensure parsing is consistent and as-expected, please specify a format.\n",
      "  df['start'] = pd.to_datetime(df['start'])\n",
      "/mnt/c/Users/vivek/Desktop/svara-forms-notebook/src/utils.py:65: UserWarning: Could not infer format, so each element will be parsed individually, falling back to `dateutil`. To ensure parsing is consistent and as-expected, please specify a format.\n",
      "  df['end'] = pd.to_datetime(df['end'])\n",
      "/mnt/c/Users/vivek/Desktop/svara-forms-notebook/src/utils.py:64: UserWarning: Could not infer format, so each element will be parsed individually, falling back to `dateutil`. To ensure parsing is consistent and as-expected, please specify a format.\n",
      "  df['start'] = pd.to_datetime(df['start'])\n",
      "/mnt/c/Users/vivek/Desktop/svara-forms-notebook/src/utils.py:65: UserWarning: Could not infer format, so each element will be parsed individually, falling back to `dateutil`. To ensure parsing is consistent and as-expected, please specify a format.\n",
      "  df['end'] = pd.to_datetime(df['end'])\n",
      " 46%|█████████████████████████████████████                                            | 266/581 [00:09<00:10, 31.43it/s]/mnt/c/Users/vivek/Desktop/svara-forms-notebook/src/utils.py:64: UserWarning: Could not infer format, so each element will be parsed individually, falling back to `dateutil`. To ensure parsing is consistent and as-expected, please specify a format.\n",
      "  df['start'] = pd.to_datetime(df['start'])\n",
      "/mnt/c/Users/vivek/Desktop/svara-forms-notebook/src/utils.py:65: UserWarning: Could not infer format, so each element will be parsed individually, falling back to `dateutil`. To ensure parsing is consistent and as-expected, please specify a format.\n",
      "  df['end'] = pd.to_datetime(df['end'])\n",
      "/mnt/c/Users/vivek/Desktop/svara-forms-notebook/src/utils.py:64: UserWarning: Could not infer format, so each element will be parsed individually, falling back to `dateutil`. To ensure parsing is consistent and as-expected, please specify a format.\n",
      "  df['start'] = pd.to_datetime(df['start'])\n",
      "/mnt/c/Users/vivek/Desktop/svara-forms-notebook/src/utils.py:65: UserWarning: Could not infer format, so each element will be parsed individually, falling back to `dateutil`. To ensure parsing is consistent and as-expected, please specify a format.\n",
      "  df['end'] = pd.to_datetime(df['end'])\n",
      "/mnt/c/Users/vivek/Desktop/svara-forms-notebook/src/utils.py:64: UserWarning: Could not infer format, so each element will be parsed individually, falling back to `dateutil`. To ensure parsing is consistent and as-expected, please specify a format.\n",
      "  df['start'] = pd.to_datetime(df['start'])\n",
      "/mnt/c/Users/vivek/Desktop/svara-forms-notebook/src/utils.py:65: UserWarning: Could not infer format, so each element will be parsed individually, falling back to `dateutil`. To ensure parsing is consistent and as-expected, please specify a format.\n",
      "  df['end'] = pd.to_datetime(df['end'])\n",
      " 47%|█████████████████████████████████████▊                                           | 271/581 [00:09<00:09, 33.59it/s]/mnt/c/Users/vivek/Desktop/svara-forms-notebook/src/utils.py:64: UserWarning: Could not infer format, so each element will be parsed individually, falling back to `dateutil`. To ensure parsing is consistent and as-expected, please specify a format.\n",
      "  df['start'] = pd.to_datetime(df['start'])\n",
      "/mnt/c/Users/vivek/Desktop/svara-forms-notebook/src/utils.py:65: UserWarning: Could not infer format, so each element will be parsed individually, falling back to `dateutil`. To ensure parsing is consistent and as-expected, please specify a format.\n",
      "  df['end'] = pd.to_datetime(df['end'])\n",
      "/mnt/c/Users/vivek/Desktop/svara-forms-notebook/src/utils.py:64: UserWarning: Could not infer format, so each element will be parsed individually, falling back to `dateutil`. To ensure parsing is consistent and as-expected, please specify a format.\n",
      "  df['start'] = pd.to_datetime(df['start'])\n",
      "/mnt/c/Users/vivek/Desktop/svara-forms-notebook/src/utils.py:65: UserWarning: Could not infer format, so each element will be parsed individually, falling back to `dateutil`. To ensure parsing is consistent and as-expected, please specify a format.\n",
      "  df['end'] = pd.to_datetime(df['end'])\n",
      "/mnt/c/Users/vivek/Desktop/svara-forms-notebook/src/utils.py:64: UserWarning: Could not infer format, so each element will be parsed individually, falling back to `dateutil`. To ensure parsing is consistent and as-expected, please specify a format.\n",
      "  df['start'] = pd.to_datetime(df['start'])\n",
      "/mnt/c/Users/vivek/Desktop/svara-forms-notebook/src/utils.py:65: UserWarning: Could not infer format, so each element will be parsed individually, falling back to `dateutil`. To ensure parsing is consistent and as-expected, please specify a format.\n",
      "  df['end'] = pd.to_datetime(df['end'])\n",
      " 47%|██████████████████████████████████████▎                                          | 275/581 [00:09<00:09, 33.10it/s]/mnt/c/Users/vivek/Desktop/svara-forms-notebook/src/utils.py:64: UserWarning: Could not infer format, so each element will be parsed individually, falling back to `dateutil`. To ensure parsing is consistent and as-expected, please specify a format.\n",
      "  df['start'] = pd.to_datetime(df['start'])\n",
      "/mnt/c/Users/vivek/Desktop/svara-forms-notebook/src/utils.py:65: UserWarning: Could not infer format, so each element will be parsed individually, falling back to `dateutil`. To ensure parsing is consistent and as-expected, please specify a format.\n",
      "  df['end'] = pd.to_datetime(df['end'])\n",
      "/mnt/c/Users/vivek/Desktop/svara-forms-notebook/src/utils.py:64: UserWarning: Could not infer format, so each element will be parsed individually, falling back to `dateutil`. To ensure parsing is consistent and as-expected, please specify a format.\n",
      "  df['start'] = pd.to_datetime(df['start'])\n",
      "/mnt/c/Users/vivek/Desktop/svara-forms-notebook/src/utils.py:65: UserWarning: Could not infer format, so each element will be parsed individually, falling back to `dateutil`. To ensure parsing is consistent and as-expected, please specify a format.\n",
      "  df['end'] = pd.to_datetime(df['end'])\n",
      "/mnt/c/Users/vivek/Desktop/svara-forms-notebook/src/utils.py:64: UserWarning: Could not infer format, so each element will be parsed individually, falling back to `dateutil`. To ensure parsing is consistent and as-expected, please specify a format.\n",
      "  df['start'] = pd.to_datetime(df['start'])\n",
      "/mnt/c/Users/vivek/Desktop/svara-forms-notebook/src/utils.py:65: UserWarning: Could not infer format, so each element will be parsed individually, falling back to `dateutil`. To ensure parsing is consistent and as-expected, please specify a format.\n",
      "  df['end'] = pd.to_datetime(df['end'])\n",
      " 48%|███████████████████████████████████████                                          | 280/581 [00:09<00:08, 35.38it/s]/mnt/c/Users/vivek/Desktop/svara-forms-notebook/src/utils.py:64: UserWarning: Could not infer format, so each element will be parsed individually, falling back to `dateutil`. To ensure parsing is consistent and as-expected, please specify a format.\n",
      "  df['start'] = pd.to_datetime(df['start'])\n",
      "/mnt/c/Users/vivek/Desktop/svara-forms-notebook/src/utils.py:65: UserWarning: Could not infer format, so each element will be parsed individually, falling back to `dateutil`. To ensure parsing is consistent and as-expected, please specify a format.\n",
      "  df['end'] = pd.to_datetime(df['end'])\n",
      "/mnt/c/Users/vivek/Desktop/svara-forms-notebook/src/utils.py:64: UserWarning: Could not infer format, so each element will be parsed individually, falling back to `dateutil`. To ensure parsing is consistent and as-expected, please specify a format.\n",
      "  df['start'] = pd.to_datetime(df['start'])\n",
      "/mnt/c/Users/vivek/Desktop/svara-forms-notebook/src/utils.py:65: UserWarning: Could not infer format, so each element will be parsed individually, falling back to `dateutil`. To ensure parsing is consistent and as-expected, please specify a format.\n",
      "  df['end'] = pd.to_datetime(df['end'])\n",
      "/mnt/c/Users/vivek/Desktop/svara-forms-notebook/src/utils.py:64: UserWarning: Could not infer format, so each element will be parsed individually, falling back to `dateutil`. To ensure parsing is consistent and as-expected, please specify a format.\n",
      "  df['start'] = pd.to_datetime(df['start'])\n",
      "/mnt/c/Users/vivek/Desktop/svara-forms-notebook/src/utils.py:65: UserWarning: Could not infer format, so each element will be parsed individually, falling back to `dateutil`. To ensure parsing is consistent and as-expected, please specify a format.\n",
      "  df['end'] = pd.to_datetime(df['end'])\n",
      "/mnt/c/Users/vivek/Desktop/svara-forms-notebook/src/utils.py:64: UserWarning: Could not infer format, so each element will be parsed individually, falling back to `dateutil`. To ensure parsing is consistent and as-expected, please specify a format.\n",
      "  df['start'] = pd.to_datetime(df['start'])\n",
      "/mnt/c/Users/vivek/Desktop/svara-forms-notebook/src/utils.py:65: UserWarning: Could not infer format, so each element will be parsed individually, falling back to `dateutil`. To ensure parsing is consistent and as-expected, please specify a format.\n",
      "  df['end'] = pd.to_datetime(df['end'])\n",
      " 49%|███████████████████████████████████████▌                                         | 284/581 [00:09<00:09, 32.97it/s]/mnt/c/Users/vivek/Desktop/svara-forms-notebook/src/utils.py:64: UserWarning: Could not infer format, so each element will be parsed individually, falling back to `dateutil`. To ensure parsing is consistent and as-expected, please specify a format.\n",
      "  df['start'] = pd.to_datetime(df['start'])\n",
      "/mnt/c/Users/vivek/Desktop/svara-forms-notebook/src/utils.py:65: UserWarning: Could not infer format, so each element will be parsed individually, falling back to `dateutil`. To ensure parsing is consistent and as-expected, please specify a format.\n",
      "  df['end'] = pd.to_datetime(df['end'])\n",
      "/mnt/c/Users/vivek/Desktop/svara-forms-notebook/src/utils.py:64: UserWarning: Could not infer format, so each element will be parsed individually, falling back to `dateutil`. To ensure parsing is consistent and as-expected, please specify a format.\n",
      "  df['start'] = pd.to_datetime(df['start'])\n",
      "/mnt/c/Users/vivek/Desktop/svara-forms-notebook/src/utils.py:65: UserWarning: Could not infer format, so each element will be parsed individually, falling back to `dateutil`. To ensure parsing is consistent and as-expected, please specify a format.\n",
      "  df['end'] = pd.to_datetime(df['end'])\n",
      "/mnt/c/Users/vivek/Desktop/svara-forms-notebook/src/utils.py:64: UserWarning: Could not infer format, so each element will be parsed individually, falling back to `dateutil`. To ensure parsing is consistent and as-expected, please specify a format.\n",
      "  df['start'] = pd.to_datetime(df['start'])\n",
      "/mnt/c/Users/vivek/Desktop/svara-forms-notebook/src/utils.py:65: UserWarning: Could not infer format, so each element will be parsed individually, falling back to `dateutil`. To ensure parsing is consistent and as-expected, please specify a format.\n",
      "  df['end'] = pd.to_datetime(df['end'])\n",
      " 50%|████████████████████████████████████████▏                                        | 288/581 [00:09<00:08, 33.32it/s]/mnt/c/Users/vivek/Desktop/svara-forms-notebook/src/utils.py:64: UserWarning: Could not infer format, so each element will be parsed individually, falling back to `dateutil`. To ensure parsing is consistent and as-expected, please specify a format.\n",
      "  df['start'] = pd.to_datetime(df['start'])\n",
      "/mnt/c/Users/vivek/Desktop/svara-forms-notebook/src/utils.py:65: UserWarning: Could not infer format, so each element will be parsed individually, falling back to `dateutil`. To ensure parsing is consistent and as-expected, please specify a format.\n",
      "  df['end'] = pd.to_datetime(df['end'])\n",
      "/mnt/c/Users/vivek/Desktop/svara-forms-notebook/src/utils.py:64: UserWarning: Could not infer format, so each element will be parsed individually, falling back to `dateutil`. To ensure parsing is consistent and as-expected, please specify a format.\n",
      "  df['start'] = pd.to_datetime(df['start'])\n",
      "/mnt/c/Users/vivek/Desktop/svara-forms-notebook/src/utils.py:65: UserWarning: Could not infer format, so each element will be parsed individually, falling back to `dateutil`. To ensure parsing is consistent and as-expected, please specify a format.\n",
      "  df['end'] = pd.to_datetime(df['end'])\n",
      "/mnt/c/Users/vivek/Desktop/svara-forms-notebook/src/utils.py:64: UserWarning: Could not infer format, so each element will be parsed individually, falling back to `dateutil`. To ensure parsing is consistent and as-expected, please specify a format.\n",
      "  df['start'] = pd.to_datetime(df['start'])\n",
      "/mnt/c/Users/vivek/Desktop/svara-forms-notebook/src/utils.py:65: UserWarning: Could not infer format, so each element will be parsed individually, falling back to `dateutil`. To ensure parsing is consistent and as-expected, please specify a format.\n",
      "  df['end'] = pd.to_datetime(df['end'])\n",
      " 50%|████████████████████████████████████████▋                                        | 292/581 [00:10<00:08, 34.01it/s]/mnt/c/Users/vivek/Desktop/svara-forms-notebook/src/utils.py:64: UserWarning: Could not infer format, so each element will be parsed individually, falling back to `dateutil`. To ensure parsing is consistent and as-expected, please specify a format.\n",
      "  df['start'] = pd.to_datetime(df['start'])\n",
      "/mnt/c/Users/vivek/Desktop/svara-forms-notebook/src/utils.py:65: UserWarning: Could not infer format, so each element will be parsed individually, falling back to `dateutil`. To ensure parsing is consistent and as-expected, please specify a format.\n",
      "  df['end'] = pd.to_datetime(df['end'])\n",
      "/mnt/c/Users/vivek/Desktop/svara-forms-notebook/src/utils.py:64: UserWarning: Could not infer format, so each element will be parsed individually, falling back to `dateutil`. To ensure parsing is consistent and as-expected, please specify a format.\n",
      "  df['start'] = pd.to_datetime(df['start'])\n",
      "/mnt/c/Users/vivek/Desktop/svara-forms-notebook/src/utils.py:65: UserWarning: Could not infer format, so each element will be parsed individually, falling back to `dateutil`. To ensure parsing is consistent and as-expected, please specify a format.\n",
      "  df['end'] = pd.to_datetime(df['end'])\n",
      "/mnt/c/Users/vivek/Desktop/svara-forms-notebook/src/utils.py:64: UserWarning: Could not infer format, so each element will be parsed individually, falling back to `dateutil`. To ensure parsing is consistent and as-expected, please specify a format.\n",
      "  df['start'] = pd.to_datetime(df['start'])\n",
      "/mnt/c/Users/vivek/Desktop/svara-forms-notebook/src/utils.py:65: UserWarning: Could not infer format, so each element will be parsed individually, falling back to `dateutil`. To ensure parsing is consistent and as-expected, please specify a format.\n",
      "  df['end'] = pd.to_datetime(df['end'])\n",
      " 51%|█████████████████████████████████████████▎                                       | 296/581 [00:10<00:08, 33.55it/s]/mnt/c/Users/vivek/Desktop/svara-forms-notebook/src/utils.py:64: UserWarning: Could not infer format, so each element will be parsed individually, falling back to `dateutil`. To ensure parsing is consistent and as-expected, please specify a format.\n",
      "  df['start'] = pd.to_datetime(df['start'])\n",
      "/mnt/c/Users/vivek/Desktop/svara-forms-notebook/src/utils.py:65: UserWarning: Could not infer format, so each element will be parsed individually, falling back to `dateutil`. To ensure parsing is consistent and as-expected, please specify a format.\n",
      "  df['end'] = pd.to_datetime(df['end'])\n",
      "/mnt/c/Users/vivek/Desktop/svara-forms-notebook/src/utils.py:64: UserWarning: Could not infer format, so each element will be parsed individually, falling back to `dateutil`. To ensure parsing is consistent and as-expected, please specify a format.\n",
      "  df['start'] = pd.to_datetime(df['start'])\n",
      "/mnt/c/Users/vivek/Desktop/svara-forms-notebook/src/utils.py:65: UserWarning: Could not infer format, so each element will be parsed individually, falling back to `dateutil`. To ensure parsing is consistent and as-expected, please specify a format.\n",
      "  df['end'] = pd.to_datetime(df['end'])\n",
      "/mnt/c/Users/vivek/Desktop/svara-forms-notebook/src/utils.py:64: UserWarning: Could not infer format, so each element will be parsed individually, falling back to `dateutil`. To ensure parsing is consistent and as-expected, please specify a format.\n",
      "  df['start'] = pd.to_datetime(df['start'])\n",
      "/mnt/c/Users/vivek/Desktop/svara-forms-notebook/src/utils.py:65: UserWarning: Could not infer format, so each element will be parsed individually, falling back to `dateutil`. To ensure parsing is consistent and as-expected, please specify a format.\n",
      "  df['end'] = pd.to_datetime(df['end'])\n",
      " 52%|██████████████████████████████████████████▏                                      | 303/581 [00:10<00:06, 41.77it/s]/mnt/c/Users/vivek/Desktop/svara-forms-notebook/src/utils.py:64: UserWarning: Could not infer format, so each element will be parsed individually, falling back to `dateutil`. To ensure parsing is consistent and as-expected, please specify a format.\n",
      "  df['start'] = pd.to_datetime(df['start'])\n",
      "/mnt/c/Users/vivek/Desktop/svara-forms-notebook/src/utils.py:65: UserWarning: Could not infer format, so each element will be parsed individually, falling back to `dateutil`. To ensure parsing is consistent and as-expected, please specify a format.\n",
      "  df['end'] = pd.to_datetime(df['end'])\n",
      "/mnt/c/Users/vivek/Desktop/svara-forms-notebook/src/utils.py:64: UserWarning: Could not infer format, so each element will be parsed individually, falling back to `dateutil`. To ensure parsing is consistent and as-expected, please specify a format.\n",
      "  df['start'] = pd.to_datetime(df['start'])\n",
      "/mnt/c/Users/vivek/Desktop/svara-forms-notebook/src/utils.py:65: UserWarning: Could not infer format, so each element will be parsed individually, falling back to `dateutil`. To ensure parsing is consistent and as-expected, please specify a format.\n",
      "  df['end'] = pd.to_datetime(df['end'])\n",
      "/mnt/c/Users/vivek/Desktop/svara-forms-notebook/src/utils.py:64: UserWarning: Could not infer format, so each element will be parsed individually, falling back to `dateutil`. To ensure parsing is consistent and as-expected, please specify a format.\n",
      "  df['start'] = pd.to_datetime(df['start'])\n",
      "/mnt/c/Users/vivek/Desktop/svara-forms-notebook/src/utils.py:65: UserWarning: Could not infer format, so each element will be parsed individually, falling back to `dateutil`. To ensure parsing is consistent and as-expected, please specify a format.\n",
      "  df['end'] = pd.to_datetime(df['end'])\n",
      "/mnt/c/Users/vivek/Desktop/svara-forms-notebook/src/utils.py:64: UserWarning: Could not infer format, so each element will be parsed individually, falling back to `dateutil`. To ensure parsing is consistent and as-expected, please specify a format.\n",
      "  df['start'] = pd.to_datetime(df['start'])\n",
      "/mnt/c/Users/vivek/Desktop/svara-forms-notebook/src/utils.py:65: UserWarning: Could not infer format, so each element will be parsed individually, falling back to `dateutil`. To ensure parsing is consistent and as-expected, please specify a format.\n",
      "  df['end'] = pd.to_datetime(df['end'])\n",
      "/mnt/c/Users/vivek/Desktop/svara-forms-notebook/src/utils.py:64: UserWarning: Could not infer format, so each element will be parsed individually, falling back to `dateutil`. To ensure parsing is consistent and as-expected, please specify a format.\n",
      "  df['start'] = pd.to_datetime(df['start'])\n",
      "/mnt/c/Users/vivek/Desktop/svara-forms-notebook/src/utils.py:65: UserWarning: Could not infer format, so each element will be parsed individually, falling back to `dateutil`. To ensure parsing is consistent and as-expected, please specify a format.\n",
      "  df['end'] = pd.to_datetime(df['end'])\n",
      " 53%|██████████████████████████████████████████▉                                      | 308/581 [00:10<00:07, 35.60it/s]/mnt/c/Users/vivek/Desktop/svara-forms-notebook/src/utils.py:64: UserWarning: Could not infer format, so each element will be parsed individually, falling back to `dateutil`. To ensure parsing is consistent and as-expected, please specify a format.\n",
      "  df['start'] = pd.to_datetime(df['start'])\n",
      "/mnt/c/Users/vivek/Desktop/svara-forms-notebook/src/utils.py:65: UserWarning: Could not infer format, so each element will be parsed individually, falling back to `dateutil`. To ensure parsing is consistent and as-expected, please specify a format.\n",
      "  df['end'] = pd.to_datetime(df['end'])\n",
      "/mnt/c/Users/vivek/Desktop/svara-forms-notebook/src/utils.py:64: UserWarning: Could not infer format, so each element will be parsed individually, falling back to `dateutil`. To ensure parsing is consistent and as-expected, please specify a format.\n",
      "  df['start'] = pd.to_datetime(df['start'])\n",
      "/mnt/c/Users/vivek/Desktop/svara-forms-notebook/src/utils.py:65: UserWarning: Could not infer format, so each element will be parsed individually, falling back to `dateutil`. To ensure parsing is consistent and as-expected, please specify a format.\n",
      "  df['end'] = pd.to_datetime(df['end'])\n",
      "/mnt/c/Users/vivek/Desktop/svara-forms-notebook/src/utils.py:64: UserWarning: Could not infer format, so each element will be parsed individually, falling back to `dateutil`. To ensure parsing is consistent and as-expected, please specify a format.\n",
      "  df['start'] = pd.to_datetime(df['start'])\n",
      "/mnt/c/Users/vivek/Desktop/svara-forms-notebook/src/utils.py:65: UserWarning: Could not infer format, so each element will be parsed individually, falling back to `dateutil`. To ensure parsing is consistent and as-expected, please specify a format.\n",
      "  df['end'] = pd.to_datetime(df['end'])\n",
      " 54%|███████████████████████████████████████████▍                                     | 312/581 [00:10<00:07, 35.46it/s]/mnt/c/Users/vivek/Desktop/svara-forms-notebook/src/utils.py:64: UserWarning: Could not infer format, so each element will be parsed individually, falling back to `dateutil`. To ensure parsing is consistent and as-expected, please specify a format.\n",
      "  df['start'] = pd.to_datetime(df['start'])\n",
      "/mnt/c/Users/vivek/Desktop/svara-forms-notebook/src/utils.py:65: UserWarning: Could not infer format, so each element will be parsed individually, falling back to `dateutil`. To ensure parsing is consistent and as-expected, please specify a format.\n",
      "  df['end'] = pd.to_datetime(df['end'])\n",
      "/mnt/c/Users/vivek/Desktop/svara-forms-notebook/src/utils.py:64: UserWarning: Could not infer format, so each element will be parsed individually, falling back to `dateutil`. To ensure parsing is consistent and as-expected, please specify a format.\n",
      "  df['start'] = pd.to_datetime(df['start'])\n",
      "/mnt/c/Users/vivek/Desktop/svara-forms-notebook/src/utils.py:65: UserWarning: Could not infer format, so each element will be parsed individually, falling back to `dateutil`. To ensure parsing is consistent and as-expected, please specify a format.\n",
      "  df['end'] = pd.to_datetime(df['end'])\n",
      "/mnt/c/Users/vivek/Desktop/svara-forms-notebook/src/utils.py:64: UserWarning: Could not infer format, so each element will be parsed individually, falling back to `dateutil`. To ensure parsing is consistent and as-expected, please specify a format.\n",
      "  df['start'] = pd.to_datetime(df['start'])\n",
      "/mnt/c/Users/vivek/Desktop/svara-forms-notebook/src/utils.py:65: UserWarning: Could not infer format, so each element will be parsed individually, falling back to `dateutil`. To ensure parsing is consistent and as-expected, please specify a format.\n",
      "  df['end'] = pd.to_datetime(df['end'])\n",
      " 54%|████████████████████████████████████████████                                     | 316/581 [00:10<00:07, 34.76it/s]/mnt/c/Users/vivek/Desktop/svara-forms-notebook/src/utils.py:64: UserWarning: Could not infer format, so each element will be parsed individually, falling back to `dateutil`. To ensure parsing is consistent and as-expected, please specify a format.\n",
      "  df['start'] = pd.to_datetime(df['start'])\n",
      "/mnt/c/Users/vivek/Desktop/svara-forms-notebook/src/utils.py:65: UserWarning: Could not infer format, so each element will be parsed individually, falling back to `dateutil`. To ensure parsing is consistent and as-expected, please specify a format.\n",
      "  df['end'] = pd.to_datetime(df['end'])\n",
      "/mnt/c/Users/vivek/Desktop/svara-forms-notebook/src/utils.py:64: UserWarning: Could not infer format, so each element will be parsed individually, falling back to `dateutil`. To ensure parsing is consistent and as-expected, please specify a format.\n",
      "  df['start'] = pd.to_datetime(df['start'])\n",
      "/mnt/c/Users/vivek/Desktop/svara-forms-notebook/src/utils.py:65: UserWarning: Could not infer format, so each element will be parsed individually, falling back to `dateutil`. To ensure parsing is consistent and as-expected, please specify a format.\n",
      "  df['end'] = pd.to_datetime(df['end'])\n",
      "/mnt/c/Users/vivek/Desktop/svara-forms-notebook/src/utils.py:64: UserWarning: Could not infer format, so each element will be parsed individually, falling back to `dateutil`. To ensure parsing is consistent and as-expected, please specify a format.\n",
      "  df['start'] = pd.to_datetime(df['start'])\n",
      "/mnt/c/Users/vivek/Desktop/svara-forms-notebook/src/utils.py:65: UserWarning: Could not infer format, so each element will be parsed individually, falling back to `dateutil`. To ensure parsing is consistent and as-expected, please specify a format.\n",
      "  df['end'] = pd.to_datetime(df['end'])\n",
      " 55%|████████████████████████████████████████████▌                                    | 320/581 [00:10<00:07, 34.66it/s]/mnt/c/Users/vivek/Desktop/svara-forms-notebook/src/utils.py:64: UserWarning: Could not infer format, so each element will be parsed individually, falling back to `dateutil`. To ensure parsing is consistent and as-expected, please specify a format.\n",
      "  df['start'] = pd.to_datetime(df['start'])\n",
      "/mnt/c/Users/vivek/Desktop/svara-forms-notebook/src/utils.py:65: UserWarning: Could not infer format, so each element will be parsed individually, falling back to `dateutil`. To ensure parsing is consistent and as-expected, please specify a format.\n",
      "  df['end'] = pd.to_datetime(df['end'])\n",
      "/mnt/c/Users/vivek/Desktop/svara-forms-notebook/src/utils.py:64: UserWarning: Could not infer format, so each element will be parsed individually, falling back to `dateutil`. To ensure parsing is consistent and as-expected, please specify a format.\n",
      "  df['start'] = pd.to_datetime(df['start'])\n",
      "/mnt/c/Users/vivek/Desktop/svara-forms-notebook/src/utils.py:65: UserWarning: Could not infer format, so each element will be parsed individually, falling back to `dateutil`. To ensure parsing is consistent and as-expected, please specify a format.\n",
      "  df['end'] = pd.to_datetime(df['end'])\n",
      "/mnt/c/Users/vivek/Desktop/svara-forms-notebook/src/utils.py:64: UserWarning: Could not infer format, so each element will be parsed individually, falling back to `dateutil`. To ensure parsing is consistent and as-expected, please specify a format.\n",
      "  df['start'] = pd.to_datetime(df['start'])\n",
      "/mnt/c/Users/vivek/Desktop/svara-forms-notebook/src/utils.py:65: UserWarning: Could not infer format, so each element will be parsed individually, falling back to `dateutil`. To ensure parsing is consistent and as-expected, please specify a format.\n",
      "  df['end'] = pd.to_datetime(df['end'])\n",
      " 56%|█████████████████████████████████████████████▎                                   | 325/581 [00:10<00:06, 36.69it/s]/mnt/c/Users/vivek/Desktop/svara-forms-notebook/src/utils.py:64: UserWarning: Could not infer format, so each element will be parsed individually, falling back to `dateutil`. To ensure parsing is consistent and as-expected, please specify a format.\n",
      "  df['start'] = pd.to_datetime(df['start'])\n",
      "/mnt/c/Users/vivek/Desktop/svara-forms-notebook/src/utils.py:65: UserWarning: Could not infer format, so each element will be parsed individually, falling back to `dateutil`. To ensure parsing is consistent and as-expected, please specify a format.\n",
      "  df['end'] = pd.to_datetime(df['end'])\n",
      "/mnt/c/Users/vivek/Desktop/svara-forms-notebook/src/utils.py:64: UserWarning: Could not infer format, so each element will be parsed individually, falling back to `dateutil`. To ensure parsing is consistent and as-expected, please specify a format.\n",
      "  df['start'] = pd.to_datetime(df['start'])\n",
      "/mnt/c/Users/vivek/Desktop/svara-forms-notebook/src/utils.py:65: UserWarning: Could not infer format, so each element will be parsed individually, falling back to `dateutil`. To ensure parsing is consistent and as-expected, please specify a format.\n",
      "  df['end'] = pd.to_datetime(df['end'])\n",
      "/mnt/c/Users/vivek/Desktop/svara-forms-notebook/src/utils.py:64: UserWarning: Could not infer format, so each element will be parsed individually, falling back to `dateutil`. To ensure parsing is consistent and as-expected, please specify a format.\n",
      "  df['start'] = pd.to_datetime(df['start'])\n",
      "/mnt/c/Users/vivek/Desktop/svara-forms-notebook/src/utils.py:65: UserWarning: Could not infer format, so each element will be parsed individually, falling back to `dateutil`. To ensure parsing is consistent and as-expected, please specify a format.\n",
      "  df['end'] = pd.to_datetime(df['end'])\n",
      "/mnt/c/Users/vivek/Desktop/svara-forms-notebook/src/utils.py:64: UserWarning: Could not infer format, so each element will be parsed individually, falling back to `dateutil`. To ensure parsing is consistent and as-expected, please specify a format.\n",
      "  df['start'] = pd.to_datetime(df['start'])\n",
      "/mnt/c/Users/vivek/Desktop/svara-forms-notebook/src/utils.py:65: UserWarning: Could not infer format, so each element will be parsed individually, falling back to `dateutil`. To ensure parsing is consistent and as-expected, please specify a format.\n",
      "  df['end'] = pd.to_datetime(df['end'])\n",
      " 57%|█████████████████████████████████████████████▊                                   | 329/581 [00:11<00:07, 33.43it/s]/mnt/c/Users/vivek/Desktop/svara-forms-notebook/src/utils.py:64: UserWarning: Could not infer format, so each element will be parsed individually, falling back to `dateutil`. To ensure parsing is consistent and as-expected, please specify a format.\n",
      "  df['start'] = pd.to_datetime(df['start'])\n",
      "/mnt/c/Users/vivek/Desktop/svara-forms-notebook/src/utils.py:65: UserWarning: Could not infer format, so each element will be parsed individually, falling back to `dateutil`. To ensure parsing is consistent and as-expected, please specify a format.\n",
      "  df['end'] = pd.to_datetime(df['end'])\n",
      "/mnt/c/Users/vivek/Desktop/svara-forms-notebook/src/utils.py:64: UserWarning: Could not infer format, so each element will be parsed individually, falling back to `dateutil`. To ensure parsing is consistent and as-expected, please specify a format.\n",
      "  df['start'] = pd.to_datetime(df['start'])\n",
      "/mnt/c/Users/vivek/Desktop/svara-forms-notebook/src/utils.py:65: UserWarning: Could not infer format, so each element will be parsed individually, falling back to `dateutil`. To ensure parsing is consistent and as-expected, please specify a format.\n",
      "  df['end'] = pd.to_datetime(df['end'])\n",
      "/mnt/c/Users/vivek/Desktop/svara-forms-notebook/src/utils.py:64: UserWarning: Could not infer format, so each element will be parsed individually, falling back to `dateutil`. To ensure parsing is consistent and as-expected, please specify a format.\n",
      "  df['start'] = pd.to_datetime(df['start'])\n",
      "/mnt/c/Users/vivek/Desktop/svara-forms-notebook/src/utils.py:65: UserWarning: Could not infer format, so each element will be parsed individually, falling back to `dateutil`. To ensure parsing is consistent and as-expected, please specify a format.\n",
      "  df['end'] = pd.to_datetime(df['end'])\n",
      "/mnt/c/Users/vivek/Desktop/svara-forms-notebook/src/utils.py:64: UserWarning: Could not infer format, so each element will be parsed individually, falling back to `dateutil`. To ensure parsing is consistent and as-expected, please specify a format.\n",
      "  df['start'] = pd.to_datetime(df['start'])\n",
      "/mnt/c/Users/vivek/Desktop/svara-forms-notebook/src/utils.py:65: UserWarning: Could not infer format, so each element will be parsed individually, falling back to `dateutil`. To ensure parsing is consistent and as-expected, please specify a format.\n",
      "  df['end'] = pd.to_datetime(df['end'])\n",
      " 57%|██████████████████████████████████████████████▍                                  | 333/581 [00:11<00:08, 30.87it/s]/mnt/c/Users/vivek/Desktop/svara-forms-notebook/src/utils.py:64: UserWarning: Could not infer format, so each element will be parsed individually, falling back to `dateutil`. To ensure parsing is consistent and as-expected, please specify a format.\n",
      "  df['start'] = pd.to_datetime(df['start'])\n",
      "/mnt/c/Users/vivek/Desktop/svara-forms-notebook/src/utils.py:65: UserWarning: Could not infer format, so each element will be parsed individually, falling back to `dateutil`. To ensure parsing is consistent and as-expected, please specify a format.\n",
      "  df['end'] = pd.to_datetime(df['end'])\n",
      "/mnt/c/Users/vivek/Desktop/svara-forms-notebook/src/utils.py:64: UserWarning: Could not infer format, so each element will be parsed individually, falling back to `dateutil`. To ensure parsing is consistent and as-expected, please specify a format.\n",
      "  df['start'] = pd.to_datetime(df['start'])\n",
      "/mnt/c/Users/vivek/Desktop/svara-forms-notebook/src/utils.py:65: UserWarning: Could not infer format, so each element will be parsed individually, falling back to `dateutil`. To ensure parsing is consistent and as-expected, please specify a format.\n",
      "  df['end'] = pd.to_datetime(df['end'])\n",
      "/mnt/c/Users/vivek/Desktop/svara-forms-notebook/src/utils.py:64: UserWarning: Could not infer format, so each element will be parsed individually, falling back to `dateutil`. To ensure parsing is consistent and as-expected, please specify a format.\n",
      "  df['start'] = pd.to_datetime(df['start'])\n",
      "/mnt/c/Users/vivek/Desktop/svara-forms-notebook/src/utils.py:65: UserWarning: Could not infer format, so each element will be parsed individually, falling back to `dateutil`. To ensure parsing is consistent and as-expected, please specify a format.\n",
      "  df['end'] = pd.to_datetime(df['end'])\n",
      " 58%|███████████████████████████████████████████████                                  | 338/581 [00:11<00:07, 34.35it/s]/mnt/c/Users/vivek/Desktop/svara-forms-notebook/src/utils.py:64: UserWarning: Could not infer format, so each element will be parsed individually, falling back to `dateutil`. To ensure parsing is consistent and as-expected, please specify a format.\n",
      "  df['start'] = pd.to_datetime(df['start'])\n",
      "/mnt/c/Users/vivek/Desktop/svara-forms-notebook/src/utils.py:65: UserWarning: Could not infer format, so each element will be parsed individually, falling back to `dateutil`. To ensure parsing is consistent and as-expected, please specify a format.\n",
      "  df['end'] = pd.to_datetime(df['end'])\n",
      "/mnt/c/Users/vivek/Desktop/svara-forms-notebook/src/utils.py:64: UserWarning: Could not infer format, so each element will be parsed individually, falling back to `dateutil`. To ensure parsing is consistent and as-expected, please specify a format.\n",
      "  df['start'] = pd.to_datetime(df['start'])\n",
      "/mnt/c/Users/vivek/Desktop/svara-forms-notebook/src/utils.py:65: UserWarning: Could not infer format, so each element will be parsed individually, falling back to `dateutil`. To ensure parsing is consistent and as-expected, please specify a format.\n",
      "  df['end'] = pd.to_datetime(df['end'])\n",
      "/mnt/c/Users/vivek/Desktop/svara-forms-notebook/src/utils.py:64: UserWarning: Could not infer format, so each element will be parsed individually, falling back to `dateutil`. To ensure parsing is consistent and as-expected, please specify a format.\n",
      "  df['start'] = pd.to_datetime(df['start'])\n",
      "/mnt/c/Users/vivek/Desktop/svara-forms-notebook/src/utils.py:65: UserWarning: Could not infer format, so each element will be parsed individually, falling back to `dateutil`. To ensure parsing is consistent and as-expected, please specify a format.\n",
      "  df['end'] = pd.to_datetime(df['end'])\n",
      " 59%|███████████████████████████████████████████████▋                                 | 342/581 [00:11<00:06, 34.81it/s]/mnt/c/Users/vivek/Desktop/svara-forms-notebook/src/utils.py:64: UserWarning: Could not infer format, so each element will be parsed individually, falling back to `dateutil`. To ensure parsing is consistent and as-expected, please specify a format.\n",
      "  df['start'] = pd.to_datetime(df['start'])\n",
      "/mnt/c/Users/vivek/Desktop/svara-forms-notebook/src/utils.py:65: UserWarning: Could not infer format, so each element will be parsed individually, falling back to `dateutil`. To ensure parsing is consistent and as-expected, please specify a format.\n",
      "  df['end'] = pd.to_datetime(df['end'])\n",
      "/mnt/c/Users/vivek/Desktop/svara-forms-notebook/src/utils.py:64: UserWarning: Could not infer format, so each element will be parsed individually, falling back to `dateutil`. To ensure parsing is consistent and as-expected, please specify a format.\n",
      "  df['start'] = pd.to_datetime(df['start'])\n",
      "/mnt/c/Users/vivek/Desktop/svara-forms-notebook/src/utils.py:65: UserWarning: Could not infer format, so each element will be parsed individually, falling back to `dateutil`. To ensure parsing is consistent and as-expected, please specify a format.\n",
      "  df['end'] = pd.to_datetime(df['end'])\n",
      "/mnt/c/Users/vivek/Desktop/svara-forms-notebook/src/utils.py:64: UserWarning: Could not infer format, so each element will be parsed individually, falling back to `dateutil`. To ensure parsing is consistent and as-expected, please specify a format.\n",
      "  df['start'] = pd.to_datetime(df['start'])\n",
      "/mnt/c/Users/vivek/Desktop/svara-forms-notebook/src/utils.py:65: UserWarning: Could not infer format, so each element will be parsed individually, falling back to `dateutil`. To ensure parsing is consistent and as-expected, please specify a format.\n",
      "  df['end'] = pd.to_datetime(df['end'])\n",
      "/mnt/c/Users/vivek/Desktop/svara-forms-notebook/src/utils.py:64: UserWarning: Could not infer format, so each element will be parsed individually, falling back to `dateutil`. To ensure parsing is consistent and as-expected, please specify a format.\n",
      "  df['start'] = pd.to_datetime(df['start'])\n",
      "/mnt/c/Users/vivek/Desktop/svara-forms-notebook/src/utils.py:65: UserWarning: Could not infer format, so each element will be parsed individually, falling back to `dateutil`. To ensure parsing is consistent and as-expected, please specify a format.\n",
      "  df['end'] = pd.to_datetime(df['end'])\n",
      " 60%|████████████████████████████████████████████████▏                                | 346/581 [00:11<00:07, 31.80it/s]/mnt/c/Users/vivek/Desktop/svara-forms-notebook/src/utils.py:64: UserWarning: Could not infer format, so each element will be parsed individually, falling back to `dateutil`. To ensure parsing is consistent and as-expected, please specify a format.\n",
      "  df['start'] = pd.to_datetime(df['start'])\n",
      "/mnt/c/Users/vivek/Desktop/svara-forms-notebook/src/utils.py:65: UserWarning: Could not infer format, so each element will be parsed individually, falling back to `dateutil`. To ensure parsing is consistent and as-expected, please specify a format.\n",
      "  df['end'] = pd.to_datetime(df['end'])\n",
      "/mnt/c/Users/vivek/Desktop/svara-forms-notebook/src/utils.py:64: UserWarning: Could not infer format, so each element will be parsed individually, falling back to `dateutil`. To ensure parsing is consistent and as-expected, please specify a format.\n",
      "  df['start'] = pd.to_datetime(df['start'])\n",
      "/mnt/c/Users/vivek/Desktop/svara-forms-notebook/src/utils.py:65: UserWarning: Could not infer format, so each element will be parsed individually, falling back to `dateutil`. To ensure parsing is consistent and as-expected, please specify a format.\n",
      "  df['end'] = pd.to_datetime(df['end'])\n",
      "/mnt/c/Users/vivek/Desktop/svara-forms-notebook/src/utils.py:64: UserWarning: Could not infer format, so each element will be parsed individually, falling back to `dateutil`. To ensure parsing is consistent and as-expected, please specify a format.\n",
      "  df['start'] = pd.to_datetime(df['start'])\n",
      "/mnt/c/Users/vivek/Desktop/svara-forms-notebook/src/utils.py:65: UserWarning: Could not infer format, so each element will be parsed individually, falling back to `dateutil`. To ensure parsing is consistent and as-expected, please specify a format.\n",
      "  df['end'] = pd.to_datetime(df['end'])\n",
      " 60%|████████████████████████████████████████████████▊                                | 350/581 [00:11<00:07, 32.10it/s]/mnt/c/Users/vivek/Desktop/svara-forms-notebook/src/utils.py:64: UserWarning: Could not infer format, so each element will be parsed individually, falling back to `dateutil`. To ensure parsing is consistent and as-expected, please specify a format.\n",
      "  df['start'] = pd.to_datetime(df['start'])\n",
      "/mnt/c/Users/vivek/Desktop/svara-forms-notebook/src/utils.py:65: UserWarning: Could not infer format, so each element will be parsed individually, falling back to `dateutil`. To ensure parsing is consistent and as-expected, please specify a format.\n",
      "  df['end'] = pd.to_datetime(df['end'])\n",
      "/mnt/c/Users/vivek/Desktop/svara-forms-notebook/src/utils.py:64: UserWarning: Could not infer format, so each element will be parsed individually, falling back to `dateutil`. To ensure parsing is consistent and as-expected, please specify a format.\n",
      "  df['start'] = pd.to_datetime(df['start'])\n",
      "/mnt/c/Users/vivek/Desktop/svara-forms-notebook/src/utils.py:65: UserWarning: Could not infer format, so each element will be parsed individually, falling back to `dateutil`. To ensure parsing is consistent and as-expected, please specify a format.\n",
      "  df['end'] = pd.to_datetime(df['end'])\n",
      "/mnt/c/Users/vivek/Desktop/svara-forms-notebook/src/utils.py:64: UserWarning: Could not infer format, so each element will be parsed individually, falling back to `dateutil`. To ensure parsing is consistent and as-expected, please specify a format.\n",
      "  df['start'] = pd.to_datetime(df['start'])\n",
      "/mnt/c/Users/vivek/Desktop/svara-forms-notebook/src/utils.py:65: UserWarning: Could not infer format, so each element will be parsed individually, falling back to `dateutil`. To ensure parsing is consistent and as-expected, please specify a format.\n",
      "  df['end'] = pd.to_datetime(df['end'])\n",
      "/mnt/c/Users/vivek/Desktop/svara-forms-notebook/src/utils.py:64: UserWarning: Could not infer format, so each element will be parsed individually, falling back to `dateutil`. To ensure parsing is consistent and as-expected, please specify a format.\n",
      "  df['start'] = pd.to_datetime(df['start'])\n",
      "/mnt/c/Users/vivek/Desktop/svara-forms-notebook/src/utils.py:65: UserWarning: Could not infer format, so each element will be parsed individually, falling back to `dateutil`. To ensure parsing is consistent and as-expected, please specify a format.\n",
      "  df['end'] = pd.to_datetime(df['end'])\n",
      " 61%|█████████████████████████████████████████████████▎                               | 354/581 [00:11<00:07, 29.65it/s]/mnt/c/Users/vivek/Desktop/svara-forms-notebook/src/utils.py:64: UserWarning: Could not infer format, so each element will be parsed individually, falling back to `dateutil`. To ensure parsing is consistent and as-expected, please specify a format.\n",
      "  df['start'] = pd.to_datetime(df['start'])\n",
      "/mnt/c/Users/vivek/Desktop/svara-forms-notebook/src/utils.py:65: UserWarning: Could not infer format, so each element will be parsed individually, falling back to `dateutil`. To ensure parsing is consistent and as-expected, please specify a format.\n",
      "  df['end'] = pd.to_datetime(df['end'])\n",
      "/mnt/c/Users/vivek/Desktop/svara-forms-notebook/src/utils.py:64: UserWarning: Could not infer format, so each element will be parsed individually, falling back to `dateutil`. To ensure parsing is consistent and as-expected, please specify a format.\n",
      "  df['start'] = pd.to_datetime(df['start'])\n",
      "/mnt/c/Users/vivek/Desktop/svara-forms-notebook/src/utils.py:65: UserWarning: Could not infer format, so each element will be parsed individually, falling back to `dateutil`. To ensure parsing is consistent and as-expected, please specify a format.\n",
      "  df['end'] = pd.to_datetime(df['end'])\n",
      "/mnt/c/Users/vivek/Desktop/svara-forms-notebook/src/utils.py:64: UserWarning: Could not infer format, so each element will be parsed individually, falling back to `dateutil`. To ensure parsing is consistent and as-expected, please specify a format.\n",
      "  df['start'] = pd.to_datetime(df['start'])\n",
      "/mnt/c/Users/vivek/Desktop/svara-forms-notebook/src/utils.py:65: UserWarning: Could not infer format, so each element will be parsed individually, falling back to `dateutil`. To ensure parsing is consistent and as-expected, please specify a format.\n",
      "  df['end'] = pd.to_datetime(df['end'])\n",
      "/mnt/c/Users/vivek/Desktop/svara-forms-notebook/src/utils.py:64: UserWarning: Could not infer format, so each element will be parsed individually, falling back to `dateutil`. To ensure parsing is consistent and as-expected, please specify a format.\n",
      "  df['start'] = pd.to_datetime(df['start'])\n",
      "/mnt/c/Users/vivek/Desktop/svara-forms-notebook/src/utils.py:65: UserWarning: Could not infer format, so each element will be parsed individually, falling back to `dateutil`. To ensure parsing is consistent and as-expected, please specify a format.\n",
      "  df['end'] = pd.to_datetime(df['end'])\n",
      " 62%|█████████████████████████████████████████████████▉                               | 358/581 [00:12<00:07, 28.18it/s]/mnt/c/Users/vivek/Desktop/svara-forms-notebook/src/utils.py:64: UserWarning: Could not infer format, so each element will be parsed individually, falling back to `dateutil`. To ensure parsing is consistent and as-expected, please specify a format.\n",
      "  df['start'] = pd.to_datetime(df['start'])\n",
      "/mnt/c/Users/vivek/Desktop/svara-forms-notebook/src/utils.py:65: UserWarning: Could not infer format, so each element will be parsed individually, falling back to `dateutil`. To ensure parsing is consistent and as-expected, please specify a format.\n",
      "  df['end'] = pd.to_datetime(df['end'])\n",
      "/mnt/c/Users/vivek/Desktop/svara-forms-notebook/src/utils.py:64: UserWarning: Could not infer format, so each element will be parsed individually, falling back to `dateutil`. To ensure parsing is consistent and as-expected, please specify a format.\n",
      "  df['start'] = pd.to_datetime(df['start'])\n",
      "/mnt/c/Users/vivek/Desktop/svara-forms-notebook/src/utils.py:65: UserWarning: Could not infer format, so each element will be parsed individually, falling back to `dateutil`. To ensure parsing is consistent and as-expected, please specify a format.\n",
      "  df['end'] = pd.to_datetime(df['end'])\n",
      "/mnt/c/Users/vivek/Desktop/svara-forms-notebook/src/utils.py:64: UserWarning: Could not infer format, so each element will be parsed individually, falling back to `dateutil`. To ensure parsing is consistent and as-expected, please specify a format.\n",
      "  df['start'] = pd.to_datetime(df['start'])\n",
      "/mnt/c/Users/vivek/Desktop/svara-forms-notebook/src/utils.py:65: UserWarning: Could not infer format, so each element will be parsed individually, falling back to `dateutil`. To ensure parsing is consistent and as-expected, please specify a format.\n",
      "  df['end'] = pd.to_datetime(df['end'])\n",
      " 62%|██████████████████████████████████████████████████▍                              | 362/581 [00:12<00:07, 29.93it/s]/mnt/c/Users/vivek/Desktop/svara-forms-notebook/src/utils.py:64: UserWarning: Could not infer format, so each element will be parsed individually, falling back to `dateutil`. To ensure parsing is consistent and as-expected, please specify a format.\n",
      "  df['start'] = pd.to_datetime(df['start'])\n",
      "/mnt/c/Users/vivek/Desktop/svara-forms-notebook/src/utils.py:65: UserWarning: Could not infer format, so each element will be parsed individually, falling back to `dateutil`. To ensure parsing is consistent and as-expected, please specify a format.\n",
      "  df['end'] = pd.to_datetime(df['end'])\n",
      "/mnt/c/Users/vivek/Desktop/svara-forms-notebook/src/utils.py:64: UserWarning: Could not infer format, so each element will be parsed individually, falling back to `dateutil`. To ensure parsing is consistent and as-expected, please specify a format.\n",
      "  df['start'] = pd.to_datetime(df['start'])\n",
      "/mnt/c/Users/vivek/Desktop/svara-forms-notebook/src/utils.py:65: UserWarning: Could not infer format, so each element will be parsed individually, falling back to `dateutil`. To ensure parsing is consistent and as-expected, please specify a format.\n",
      "  df['end'] = pd.to_datetime(df['end'])\n",
      "/mnt/c/Users/vivek/Desktop/svara-forms-notebook/src/utils.py:64: UserWarning: Could not infer format, so each element will be parsed individually, falling back to `dateutil`. To ensure parsing is consistent and as-expected, please specify a format.\n",
      "  df['start'] = pd.to_datetime(df['start'])\n",
      "/mnt/c/Users/vivek/Desktop/svara-forms-notebook/src/utils.py:65: UserWarning: Could not infer format, so each element will be parsed individually, falling back to `dateutil`. To ensure parsing is consistent and as-expected, please specify a format.\n",
      "  df['end'] = pd.to_datetime(df['end'])\n",
      " 63%|███████████████████████████████████████████████████                              | 366/581 [00:12<00:06, 31.15it/s]/mnt/c/Users/vivek/Desktop/svara-forms-notebook/src/utils.py:64: UserWarning: Could not infer format, so each element will be parsed individually, falling back to `dateutil`. To ensure parsing is consistent and as-expected, please specify a format.\n",
      "  df['start'] = pd.to_datetime(df['start'])\n",
      "/mnt/c/Users/vivek/Desktop/svara-forms-notebook/src/utils.py:65: UserWarning: Could not infer format, so each element will be parsed individually, falling back to `dateutil`. To ensure parsing is consistent and as-expected, please specify a format.\n",
      "  df['end'] = pd.to_datetime(df['end'])\n",
      "/mnt/c/Users/vivek/Desktop/svara-forms-notebook/src/utils.py:64: UserWarning: Could not infer format, so each element will be parsed individually, falling back to `dateutil`. To ensure parsing is consistent and as-expected, please specify a format.\n",
      "  df['start'] = pd.to_datetime(df['start'])\n",
      "/mnt/c/Users/vivek/Desktop/svara-forms-notebook/src/utils.py:65: UserWarning: Could not infer format, so each element will be parsed individually, falling back to `dateutil`. To ensure parsing is consistent and as-expected, please specify a format.\n",
      "  df['end'] = pd.to_datetime(df['end'])\n",
      "/mnt/c/Users/vivek/Desktop/svara-forms-notebook/src/utils.py:64: UserWarning: Could not infer format, so each element will be parsed individually, falling back to `dateutil`. To ensure parsing is consistent and as-expected, please specify a format.\n",
      "  df['start'] = pd.to_datetime(df['start'])\n",
      "/mnt/c/Users/vivek/Desktop/svara-forms-notebook/src/utils.py:65: UserWarning: Could not infer format, so each element will be parsed individually, falling back to `dateutil`. To ensure parsing is consistent and as-expected, please specify a format.\n",
      "  df['end'] = pd.to_datetime(df['end'])\n",
      " 64%|███████████████████████████████████████████████████▋                             | 371/581 [00:12<00:06, 34.09it/s]/mnt/c/Users/vivek/Desktop/svara-forms-notebook/src/utils.py:64: UserWarning: Could not infer format, so each element will be parsed individually, falling back to `dateutil`. To ensure parsing is consistent and as-expected, please specify a format.\n",
      "  df['start'] = pd.to_datetime(df['start'])\n",
      "/mnt/c/Users/vivek/Desktop/svara-forms-notebook/src/utils.py:65: UserWarning: Could not infer format, so each element will be parsed individually, falling back to `dateutil`. To ensure parsing is consistent and as-expected, please specify a format.\n",
      "  df['end'] = pd.to_datetime(df['end'])\n",
      "/mnt/c/Users/vivek/Desktop/svara-forms-notebook/src/utils.py:64: UserWarning: Could not infer format, so each element will be parsed individually, falling back to `dateutil`. To ensure parsing is consistent and as-expected, please specify a format.\n",
      "  df['start'] = pd.to_datetime(df['start'])\n",
      "/mnt/c/Users/vivek/Desktop/svara-forms-notebook/src/utils.py:65: UserWarning: Could not infer format, so each element will be parsed individually, falling back to `dateutil`. To ensure parsing is consistent and as-expected, please specify a format.\n",
      "  df['end'] = pd.to_datetime(df['end'])\n",
      "/mnt/c/Users/vivek/Desktop/svara-forms-notebook/src/utils.py:64: UserWarning: Could not infer format, so each element will be parsed individually, falling back to `dateutil`. To ensure parsing is consistent and as-expected, please specify a format.\n",
      "  df['start'] = pd.to_datetime(df['start'])\n",
      "/mnt/c/Users/vivek/Desktop/svara-forms-notebook/src/utils.py:65: UserWarning: Could not infer format, so each element will be parsed individually, falling back to `dateutil`. To ensure parsing is consistent and as-expected, please specify a format.\n",
      "  df['end'] = pd.to_datetime(df['end'])\n",
      "/mnt/c/Users/vivek/Desktop/svara-forms-notebook/src/utils.py:64: UserWarning: Could not infer format, so each element will be parsed individually, falling back to `dateutil`. To ensure parsing is consistent and as-expected, please specify a format.\n",
      "  df['start'] = pd.to_datetime(df['start'])\n",
      "/mnt/c/Users/vivek/Desktop/svara-forms-notebook/src/utils.py:65: UserWarning: Could not infer format, so each element will be parsed individually, falling back to `dateutil`. To ensure parsing is consistent and as-expected, please specify a format.\n",
      "  df['end'] = pd.to_datetime(df['end'])\n",
      " 65%|████████████████████████████████████████████████████▎                            | 375/581 [00:12<00:06, 30.84it/s]/mnt/c/Users/vivek/Desktop/svara-forms-notebook/src/utils.py:64: UserWarning: Could not infer format, so each element will be parsed individually, falling back to `dateutil`. To ensure parsing is consistent and as-expected, please specify a format.\n",
      "  df['start'] = pd.to_datetime(df['start'])\n",
      "/mnt/c/Users/vivek/Desktop/svara-forms-notebook/src/utils.py:65: UserWarning: Could not infer format, so each element will be parsed individually, falling back to `dateutil`. To ensure parsing is consistent and as-expected, please specify a format.\n",
      "  df['end'] = pd.to_datetime(df['end'])\n",
      "/mnt/c/Users/vivek/Desktop/svara-forms-notebook/src/utils.py:64: UserWarning: Could not infer format, so each element will be parsed individually, falling back to `dateutil`. To ensure parsing is consistent and as-expected, please specify a format.\n",
      "  df['start'] = pd.to_datetime(df['start'])\n",
      "/mnt/c/Users/vivek/Desktop/svara-forms-notebook/src/utils.py:65: UserWarning: Could not infer format, so each element will be parsed individually, falling back to `dateutil`. To ensure parsing is consistent and as-expected, please specify a format.\n",
      "  df['end'] = pd.to_datetime(df['end'])\n",
      "/mnt/c/Users/vivek/Desktop/svara-forms-notebook/src/utils.py:64: UserWarning: Could not infer format, so each element will be parsed individually, falling back to `dateutil`. To ensure parsing is consistent and as-expected, please specify a format.\n",
      "  df['start'] = pd.to_datetime(df['start'])\n",
      "/mnt/c/Users/vivek/Desktop/svara-forms-notebook/src/utils.py:65: UserWarning: Could not infer format, so each element will be parsed individually, falling back to `dateutil`. To ensure parsing is consistent and as-expected, please specify a format.\n",
      "  df['end'] = pd.to_datetime(df['end'])\n",
      "/mnt/c/Users/vivek/Desktop/svara-forms-notebook/src/utils.py:64: UserWarning: Could not infer format, so each element will be parsed individually, falling back to `dateutil`. To ensure parsing is consistent and as-expected, please specify a format.\n",
      "  df['start'] = pd.to_datetime(df['start'])\n",
      "/mnt/c/Users/vivek/Desktop/svara-forms-notebook/src/utils.py:65: UserWarning: Could not infer format, so each element will be parsed individually, falling back to `dateutil`. To ensure parsing is consistent and as-expected, please specify a format.\n",
      "  df['end'] = pd.to_datetime(df['end'])\n",
      " 65%|████████████████████████████████████████████████████▊                            | 379/581 [00:12<00:07, 28.79it/s]/mnt/c/Users/vivek/Desktop/svara-forms-notebook/src/utils.py:64: UserWarning: Could not infer format, so each element will be parsed individually, falling back to `dateutil`. To ensure parsing is consistent and as-expected, please specify a format.\n",
      "  df['start'] = pd.to_datetime(df['start'])\n",
      "/mnt/c/Users/vivek/Desktop/svara-forms-notebook/src/utils.py:65: UserWarning: Could not infer format, so each element will be parsed individually, falling back to `dateutil`. To ensure parsing is consistent and as-expected, please specify a format.\n",
      "  df['end'] = pd.to_datetime(df['end'])\n",
      "/mnt/c/Users/vivek/Desktop/svara-forms-notebook/src/utils.py:64: UserWarning: Could not infer format, so each element will be parsed individually, falling back to `dateutil`. To ensure parsing is consistent and as-expected, please specify a format.\n",
      "  df['start'] = pd.to_datetime(df['start'])\n",
      "/mnt/c/Users/vivek/Desktop/svara-forms-notebook/src/utils.py:65: UserWarning: Could not infer format, so each element will be parsed individually, falling back to `dateutil`. To ensure parsing is consistent and as-expected, please specify a format.\n",
      "  df['end'] = pd.to_datetime(df['end'])\n",
      "/mnt/c/Users/vivek/Desktop/svara-forms-notebook/src/utils.py:64: UserWarning: Could not infer format, so each element will be parsed individually, falling back to `dateutil`. To ensure parsing is consistent and as-expected, please specify a format.\n",
      "  df['start'] = pd.to_datetime(df['start'])\n",
      "/mnt/c/Users/vivek/Desktop/svara-forms-notebook/src/utils.py:65: UserWarning: Could not infer format, so each element will be parsed individually, falling back to `dateutil`. To ensure parsing is consistent and as-expected, please specify a format.\n",
      "  df['end'] = pd.to_datetime(df['end'])\n",
      " 66%|█████████████████████████████████████████████████████▌                           | 384/581 [00:12<00:05, 32.97it/s]/mnt/c/Users/vivek/Desktop/svara-forms-notebook/src/utils.py:64: UserWarning: Could not infer format, so each element will be parsed individually, falling back to `dateutil`. To ensure parsing is consistent and as-expected, please specify a format.\n",
      "  df['start'] = pd.to_datetime(df['start'])\n",
      "/mnt/c/Users/vivek/Desktop/svara-forms-notebook/src/utils.py:65: UserWarning: Could not infer format, so each element will be parsed individually, falling back to `dateutil`. To ensure parsing is consistent and as-expected, please specify a format.\n",
      "  df['end'] = pd.to_datetime(df['end'])\n",
      "/mnt/c/Users/vivek/Desktop/svara-forms-notebook/src/utils.py:64: UserWarning: Could not infer format, so each element will be parsed individually, falling back to `dateutil`. To ensure parsing is consistent and as-expected, please specify a format.\n",
      "  df['start'] = pd.to_datetime(df['start'])\n",
      "/mnt/c/Users/vivek/Desktop/svara-forms-notebook/src/utils.py:65: UserWarning: Could not infer format, so each element will be parsed individually, falling back to `dateutil`. To ensure parsing is consistent and as-expected, please specify a format.\n",
      "  df['end'] = pd.to_datetime(df['end'])\n",
      "/mnt/c/Users/vivek/Desktop/svara-forms-notebook/src/utils.py:64: UserWarning: Could not infer format, so each element will be parsed individually, falling back to `dateutil`. To ensure parsing is consistent and as-expected, please specify a format.\n",
      "  df['start'] = pd.to_datetime(df['start'])\n",
      "/mnt/c/Users/vivek/Desktop/svara-forms-notebook/src/utils.py:65: UserWarning: Could not infer format, so each element will be parsed individually, falling back to `dateutil`. To ensure parsing is consistent and as-expected, please specify a format.\n",
      "  df['end'] = pd.to_datetime(df['end'])\n",
      " 67%|██████████████████████████████████████████████████████                           | 388/581 [00:12<00:05, 33.89it/s]/mnt/c/Users/vivek/Desktop/svara-forms-notebook/src/utils.py:64: UserWarning: Could not infer format, so each element will be parsed individually, falling back to `dateutil`. To ensure parsing is consistent and as-expected, please specify a format.\n",
      "  df['start'] = pd.to_datetime(df['start'])\n",
      "/mnt/c/Users/vivek/Desktop/svara-forms-notebook/src/utils.py:65: UserWarning: Could not infer format, so each element will be parsed individually, falling back to `dateutil`. To ensure parsing is consistent and as-expected, please specify a format.\n",
      "  df['end'] = pd.to_datetime(df['end'])\n",
      "/mnt/c/Users/vivek/Desktop/svara-forms-notebook/src/utils.py:64: UserWarning: Could not infer format, so each element will be parsed individually, falling back to `dateutil`. To ensure parsing is consistent and as-expected, please specify a format.\n",
      "  df['start'] = pd.to_datetime(df['start'])\n",
      "/mnt/c/Users/vivek/Desktop/svara-forms-notebook/src/utils.py:65: UserWarning: Could not infer format, so each element will be parsed individually, falling back to `dateutil`. To ensure parsing is consistent and as-expected, please specify a format.\n",
      "  df['end'] = pd.to_datetime(df['end'])\n",
      "/mnt/c/Users/vivek/Desktop/svara-forms-notebook/src/utils.py:64: UserWarning: Could not infer format, so each element will be parsed individually, falling back to `dateutil`. To ensure parsing is consistent and as-expected, please specify a format.\n",
      "  df['start'] = pd.to_datetime(df['start'])\n",
      "/mnt/c/Users/vivek/Desktop/svara-forms-notebook/src/utils.py:65: UserWarning: Could not infer format, so each element will be parsed individually, falling back to `dateutil`. To ensure parsing is consistent and as-expected, please specify a format.\n",
      "  df['end'] = pd.to_datetime(df['end'])\n",
      " 68%|██████████████████████████████████████████████████████▉                          | 394/581 [00:13<00:04, 39.84it/s]/mnt/c/Users/vivek/Desktop/svara-forms-notebook/src/utils.py:64: UserWarning: Could not infer format, so each element will be parsed individually, falling back to `dateutil`. To ensure parsing is consistent and as-expected, please specify a format.\n",
      "  df['start'] = pd.to_datetime(df['start'])\n",
      "/mnt/c/Users/vivek/Desktop/svara-forms-notebook/src/utils.py:65: UserWarning: Could not infer format, so each element will be parsed individually, falling back to `dateutil`. To ensure parsing is consistent and as-expected, please specify a format.\n",
      "  df['end'] = pd.to_datetime(df['end'])\n",
      "/mnt/c/Users/vivek/Desktop/svara-forms-notebook/src/utils.py:64: UserWarning: Could not infer format, so each element will be parsed individually, falling back to `dateutil`. To ensure parsing is consistent and as-expected, please specify a format.\n",
      "  df['start'] = pd.to_datetime(df['start'])\n",
      "/mnt/c/Users/vivek/Desktop/svara-forms-notebook/src/utils.py:65: UserWarning: Could not infer format, so each element will be parsed individually, falling back to `dateutil`. To ensure parsing is consistent and as-expected, please specify a format.\n",
      "  df['end'] = pd.to_datetime(df['end'])\n",
      "/mnt/c/Users/vivek/Desktop/svara-forms-notebook/src/utils.py:64: UserWarning: Could not infer format, so each element will be parsed individually, falling back to `dateutil`. To ensure parsing is consistent and as-expected, please specify a format.\n",
      "  df['start'] = pd.to_datetime(df['start'])\n",
      "/mnt/c/Users/vivek/Desktop/svara-forms-notebook/src/utils.py:65: UserWarning: Could not infer format, so each element will be parsed individually, falling back to `dateutil`. To ensure parsing is consistent and as-expected, please specify a format.\n",
      "  df['end'] = pd.to_datetime(df['end'])\n",
      " 69%|███████████████████████████████████████████████████████▋                         | 399/581 [00:13<00:04, 40.71it/s]/mnt/c/Users/vivek/Desktop/svara-forms-notebook/src/utils.py:64: UserWarning: Could not infer format, so each element will be parsed individually, falling back to `dateutil`. To ensure parsing is consistent and as-expected, please specify a format.\n",
      "  df['start'] = pd.to_datetime(df['start'])\n",
      "/mnt/c/Users/vivek/Desktop/svara-forms-notebook/src/utils.py:65: UserWarning: Could not infer format, so each element will be parsed individually, falling back to `dateutil`. To ensure parsing is consistent and as-expected, please specify a format.\n",
      "  df['end'] = pd.to_datetime(df['end'])\n",
      "/mnt/c/Users/vivek/Desktop/svara-forms-notebook/src/utils.py:64: UserWarning: Could not infer format, so each element will be parsed individually, falling back to `dateutil`. To ensure parsing is consistent and as-expected, please specify a format.\n",
      "  df['start'] = pd.to_datetime(df['start'])\n",
      "/mnt/c/Users/vivek/Desktop/svara-forms-notebook/src/utils.py:65: UserWarning: Could not infer format, so each element will be parsed individually, falling back to `dateutil`. To ensure parsing is consistent and as-expected, please specify a format.\n",
      "  df['end'] = pd.to_datetime(df['end'])\n",
      "/mnt/c/Users/vivek/Desktop/svara-forms-notebook/src/utils.py:64: UserWarning: Could not infer format, so each element will be parsed individually, falling back to `dateutil`. To ensure parsing is consistent and as-expected, please specify a format.\n",
      "  df['start'] = pd.to_datetime(df['start'])\n",
      "/mnt/c/Users/vivek/Desktop/svara-forms-notebook/src/utils.py:65: UserWarning: Could not infer format, so each element will be parsed individually, falling back to `dateutil`. To ensure parsing is consistent and as-expected, please specify a format.\n",
      "  df['end'] = pd.to_datetime(df['end'])\n",
      " 70%|████████████████████████████████████████████████████████▎                        | 404/581 [00:13<00:04, 42.66it/s]/mnt/c/Users/vivek/Desktop/svara-forms-notebook/src/utils.py:64: UserWarning: Could not infer format, so each element will be parsed individually, falling back to `dateutil`. To ensure parsing is consistent and as-expected, please specify a format.\n",
      "  df['start'] = pd.to_datetime(df['start'])\n",
      "/mnt/c/Users/vivek/Desktop/svara-forms-notebook/src/utils.py:65: UserWarning: Could not infer format, so each element will be parsed individually, falling back to `dateutil`. To ensure parsing is consistent and as-expected, please specify a format.\n",
      "  df['end'] = pd.to_datetime(df['end'])\n",
      "/mnt/c/Users/vivek/Desktop/svara-forms-notebook/src/utils.py:64: UserWarning: Could not infer format, so each element will be parsed individually, falling back to `dateutil`. To ensure parsing is consistent and as-expected, please specify a format.\n",
      "  df['start'] = pd.to_datetime(df['start'])\n",
      "/mnt/c/Users/vivek/Desktop/svara-forms-notebook/src/utils.py:65: UserWarning: Could not infer format, so each element will be parsed individually, falling back to `dateutil`. To ensure parsing is consistent and as-expected, please specify a format.\n",
      "  df['end'] = pd.to_datetime(df['end'])\n",
      "/mnt/c/Users/vivek/Desktop/svara-forms-notebook/src/utils.py:64: UserWarning: Could not infer format, so each element will be parsed individually, falling back to `dateutil`. To ensure parsing is consistent and as-expected, please specify a format.\n",
      "  df['start'] = pd.to_datetime(df['start'])\n",
      "/mnt/c/Users/vivek/Desktop/svara-forms-notebook/src/utils.py:65: UserWarning: Could not infer format, so each element will be parsed individually, falling back to `dateutil`. To ensure parsing is consistent and as-expected, please specify a format.\n",
      "  df['end'] = pd.to_datetime(df['end'])\n",
      " 70%|█████████████████████████████████████████████████████████                        | 409/581 [00:13<00:03, 44.17it/s]/mnt/c/Users/vivek/Desktop/svara-forms-notebook/src/utils.py:64: UserWarning: Could not infer format, so each element will be parsed individually, falling back to `dateutil`. To ensure parsing is consistent and as-expected, please specify a format.\n",
      "  df['start'] = pd.to_datetime(df['start'])\n",
      "/mnt/c/Users/vivek/Desktop/svara-forms-notebook/src/utils.py:65: UserWarning: Could not infer format, so each element will be parsed individually, falling back to `dateutil`. To ensure parsing is consistent and as-expected, please specify a format.\n",
      "  df['end'] = pd.to_datetime(df['end'])\n",
      "/mnt/c/Users/vivek/Desktop/svara-forms-notebook/src/utils.py:64: UserWarning: Could not infer format, so each element will be parsed individually, falling back to `dateutil`. To ensure parsing is consistent and as-expected, please specify a format.\n",
      "  df['start'] = pd.to_datetime(df['start'])\n",
      "/mnt/c/Users/vivek/Desktop/svara-forms-notebook/src/utils.py:65: UserWarning: Could not infer format, so each element will be parsed individually, falling back to `dateutil`. To ensure parsing is consistent and as-expected, please specify a format.\n",
      "  df['end'] = pd.to_datetime(df['end'])\n",
      "/mnt/c/Users/vivek/Desktop/svara-forms-notebook/src/utils.py:64: UserWarning: Could not infer format, so each element will be parsed individually, falling back to `dateutil`. To ensure parsing is consistent and as-expected, please specify a format.\n",
      "  df['start'] = pd.to_datetime(df['start'])\n",
      "/mnt/c/Users/vivek/Desktop/svara-forms-notebook/src/utils.py:65: UserWarning: Could not infer format, so each element will be parsed individually, falling back to `dateutil`. To ensure parsing is consistent and as-expected, please specify a format.\n",
      "  df['end'] = pd.to_datetime(df['end'])\n",
      "/mnt/c/Users/vivek/Desktop/svara-forms-notebook/src/utils.py:64: UserWarning: Could not infer format, so each element will be parsed individually, falling back to `dateutil`. To ensure parsing is consistent and as-expected, please specify a format.\n",
      "  df['start'] = pd.to_datetime(df['start'])\n",
      "/mnt/c/Users/vivek/Desktop/svara-forms-notebook/src/utils.py:65: UserWarning: Could not infer format, so each element will be parsed individually, falling back to `dateutil`. To ensure parsing is consistent and as-expected, please specify a format.\n",
      "  df['end'] = pd.to_datetime(df['end'])\n",
      "/mnt/c/Users/vivek/Desktop/svara-forms-notebook/src/utils.py:64: UserWarning: Could not infer format, so each element will be parsed individually, falling back to `dateutil`. To ensure parsing is consistent and as-expected, please specify a format.\n",
      "  df['start'] = pd.to_datetime(df['start'])\n",
      "/mnt/c/Users/vivek/Desktop/svara-forms-notebook/src/utils.py:65: UserWarning: Could not infer format, so each element will be parsed individually, falling back to `dateutil`. To ensure parsing is consistent and as-expected, please specify a format.\n",
      "  df['end'] = pd.to_datetime(df['end'])\n",
      " 71%|█████████████████████████████████████████████████████████▋                       | 414/581 [00:13<00:04, 37.06it/s]/mnt/c/Users/vivek/Desktop/svara-forms-notebook/src/utils.py:64: UserWarning: Could not infer format, so each element will be parsed individually, falling back to `dateutil`. To ensure parsing is consistent and as-expected, please specify a format.\n",
      "  df['start'] = pd.to_datetime(df['start'])\n",
      "/mnt/c/Users/vivek/Desktop/svara-forms-notebook/src/utils.py:65: UserWarning: Could not infer format, so each element will be parsed individually, falling back to `dateutil`. To ensure parsing is consistent and as-expected, please specify a format.\n",
      "  df['end'] = pd.to_datetime(df['end'])\n",
      "/mnt/c/Users/vivek/Desktop/svara-forms-notebook/src/utils.py:64: UserWarning: Could not infer format, so each element will be parsed individually, falling back to `dateutil`. To ensure parsing is consistent and as-expected, please specify a format.\n",
      "  df['start'] = pd.to_datetime(df['start'])\n",
      "/mnt/c/Users/vivek/Desktop/svara-forms-notebook/src/utils.py:65: UserWarning: Could not infer format, so each element will be parsed individually, falling back to `dateutil`. To ensure parsing is consistent and as-expected, please specify a format.\n",
      "  df['end'] = pd.to_datetime(df['end'])\n",
      "/mnt/c/Users/vivek/Desktop/svara-forms-notebook/src/utils.py:64: UserWarning: Could not infer format, so each element will be parsed individually, falling back to `dateutil`. To ensure parsing is consistent and as-expected, please specify a format.\n",
      "  df['start'] = pd.to_datetime(df['start'])\n",
      "/mnt/c/Users/vivek/Desktop/svara-forms-notebook/src/utils.py:65: UserWarning: Could not infer format, so each element will be parsed individually, falling back to `dateutil`. To ensure parsing is consistent and as-expected, please specify a format.\n",
      "  df['end'] = pd.to_datetime(df['end'])\n",
      " 72%|██████████████████████████████████████████████████████████▌                      | 420/581 [00:13<00:03, 41.53it/s]/mnt/c/Users/vivek/Desktop/svara-forms-notebook/src/utils.py:64: UserWarning: Could not infer format, so each element will be parsed individually, falling back to `dateutil`. To ensure parsing is consistent and as-expected, please specify a format.\n",
      "  df['start'] = pd.to_datetime(df['start'])\n",
      "/mnt/c/Users/vivek/Desktop/svara-forms-notebook/src/utils.py:65: UserWarning: Could not infer format, so each element will be parsed individually, falling back to `dateutil`. To ensure parsing is consistent and as-expected, please specify a format.\n",
      "  df['end'] = pd.to_datetime(df['end'])\n",
      "/mnt/c/Users/vivek/Desktop/svara-forms-notebook/src/utils.py:64: UserWarning: Could not infer format, so each element will be parsed individually, falling back to `dateutil`. To ensure parsing is consistent and as-expected, please specify a format.\n",
      "  df['start'] = pd.to_datetime(df['start'])\n",
      "/mnt/c/Users/vivek/Desktop/svara-forms-notebook/src/utils.py:65: UserWarning: Could not infer format, so each element will be parsed individually, falling back to `dateutil`. To ensure parsing is consistent and as-expected, please specify a format.\n",
      "  df['end'] = pd.to_datetime(df['end'])\n",
      "/mnt/c/Users/vivek/Desktop/svara-forms-notebook/src/utils.py:64: UserWarning: Could not infer format, so each element will be parsed individually, falling back to `dateutil`. To ensure parsing is consistent and as-expected, please specify a format.\n",
      "  df['start'] = pd.to_datetime(df['start'])\n",
      "/mnt/c/Users/vivek/Desktop/svara-forms-notebook/src/utils.py:65: UserWarning: Could not infer format, so each element will be parsed individually, falling back to `dateutil`. To ensure parsing is consistent and as-expected, please specify a format.\n",
      "  df['end'] = pd.to_datetime(df['end'])\n",
      "/mnt/c/Users/vivek/Desktop/svara-forms-notebook/src/utils.py:64: UserWarning: Could not infer format, so each element will be parsed individually, falling back to `dateutil`. To ensure parsing is consistent and as-expected, please specify a format.\n",
      "  df['start'] = pd.to_datetime(df['start'])\n",
      "/mnt/c/Users/vivek/Desktop/svara-forms-notebook/src/utils.py:65: UserWarning: Could not infer format, so each element will be parsed individually, falling back to `dateutil`. To ensure parsing is consistent and as-expected, please specify a format.\n",
      "  df['end'] = pd.to_datetime(df['end'])\n",
      "/mnt/c/Users/vivek/Desktop/svara-forms-notebook/src/utils.py:64: UserWarning: Could not infer format, so each element will be parsed individually, falling back to `dateutil`. To ensure parsing is consistent and as-expected, please specify a format.\n",
      "  df['start'] = pd.to_datetime(df['start'])\n",
      "/mnt/c/Users/vivek/Desktop/svara-forms-notebook/src/utils.py:65: UserWarning: Could not infer format, so each element will be parsed individually, falling back to `dateutil`. To ensure parsing is consistent and as-expected, please specify a format.\n",
      "  df['end'] = pd.to_datetime(df['end'])\n",
      " 73%|███████████████████████████████████████████████████████████▎                     | 425/581 [00:13<00:04, 37.38it/s]/mnt/c/Users/vivek/Desktop/svara-forms-notebook/src/utils.py:64: UserWarning: Could not infer format, so each element will be parsed individually, falling back to `dateutil`. To ensure parsing is consistent and as-expected, please specify a format.\n",
      "  df['start'] = pd.to_datetime(df['start'])\n",
      "/mnt/c/Users/vivek/Desktop/svara-forms-notebook/src/utils.py:65: UserWarning: Could not infer format, so each element will be parsed individually, falling back to `dateutil`. To ensure parsing is consistent and as-expected, please specify a format.\n",
      "  df['end'] = pd.to_datetime(df['end'])\n",
      "/mnt/c/Users/vivek/Desktop/svara-forms-notebook/src/utils.py:64: UserWarning: Could not infer format, so each element will be parsed individually, falling back to `dateutil`. To ensure parsing is consistent and as-expected, please specify a format.\n",
      "  df['start'] = pd.to_datetime(df['start'])\n",
      "/mnt/c/Users/vivek/Desktop/svara-forms-notebook/src/utils.py:65: UserWarning: Could not infer format, so each element will be parsed individually, falling back to `dateutil`. To ensure parsing is consistent and as-expected, please specify a format.\n",
      "  df['end'] = pd.to_datetime(df['end'])\n",
      "/mnt/c/Users/vivek/Desktop/svara-forms-notebook/src/utils.py:64: UserWarning: Could not infer format, so each element will be parsed individually, falling back to `dateutil`. To ensure parsing is consistent and as-expected, please specify a format.\n",
      "  df['start'] = pd.to_datetime(df['start'])\n",
      "/mnt/c/Users/vivek/Desktop/svara-forms-notebook/src/utils.py:65: UserWarning: Could not infer format, so each element will be parsed individually, falling back to `dateutil`. To ensure parsing is consistent and as-expected, please specify a format.\n",
      "  df['end'] = pd.to_datetime(df['end'])\n",
      " 75%|████████████████████████████████████████████████████████████▌                    | 434/581 [00:13<00:03, 48.33it/s]/mnt/c/Users/vivek/Desktop/svara-forms-notebook/src/utils.py:64: UserWarning: Could not infer format, so each element will be parsed individually, falling back to `dateutil`. To ensure parsing is consistent and as-expected, please specify a format.\n",
      "  df['start'] = pd.to_datetime(df['start'])\n",
      "/mnt/c/Users/vivek/Desktop/svara-forms-notebook/src/utils.py:65: UserWarning: Could not infer format, so each element will be parsed individually, falling back to `dateutil`. To ensure parsing is consistent and as-expected, please specify a format.\n",
      "  df['end'] = pd.to_datetime(df['end'])\n",
      "/mnt/c/Users/vivek/Desktop/svara-forms-notebook/src/utils.py:64: UserWarning: Could not infer format, so each element will be parsed individually, falling back to `dateutil`. To ensure parsing is consistent and as-expected, please specify a format.\n",
      "  df['start'] = pd.to_datetime(df['start'])\n",
      "/mnt/c/Users/vivek/Desktop/svara-forms-notebook/src/utils.py:65: UserWarning: Could not infer format, so each element will be parsed individually, falling back to `dateutil`. To ensure parsing is consistent and as-expected, please specify a format.\n",
      "  df['end'] = pd.to_datetime(df['end'])\n",
      "/mnt/c/Users/vivek/Desktop/svara-forms-notebook/src/utils.py:64: UserWarning: Could not infer format, so each element will be parsed individually, falling back to `dateutil`. To ensure parsing is consistent and as-expected, please specify a format.\n",
      "  df['start'] = pd.to_datetime(df['start'])\n",
      "/mnt/c/Users/vivek/Desktop/svara-forms-notebook/src/utils.py:65: UserWarning: Could not infer format, so each element will be parsed individually, falling back to `dateutil`. To ensure parsing is consistent and as-expected, please specify a format.\n",
      "  df['end'] = pd.to_datetime(df['end'])\n",
      "/mnt/c/Users/vivek/Desktop/svara-forms-notebook/src/utils.py:64: UserWarning: Could not infer format, so each element will be parsed individually, falling back to `dateutil`. To ensure parsing is consistent and as-expected, please specify a format.\n",
      "  df['start'] = pd.to_datetime(df['start'])\n",
      "/mnt/c/Users/vivek/Desktop/svara-forms-notebook/src/utils.py:65: UserWarning: Could not infer format, so each element will be parsed individually, falling back to `dateutil`. To ensure parsing is consistent and as-expected, please specify a format.\n",
      "  df['end'] = pd.to_datetime(df['end'])\n",
      " 76%|█████████████████████████████████████████████████████████████▎                   | 440/581 [00:14<00:03, 46.27it/s]/mnt/c/Users/vivek/Desktop/svara-forms-notebook/src/utils.py:64: UserWarning: Could not infer format, so each element will be parsed individually, falling back to `dateutil`. To ensure parsing is consistent and as-expected, please specify a format.\n",
      "  df['start'] = pd.to_datetime(df['start'])\n",
      "/mnt/c/Users/vivek/Desktop/svara-forms-notebook/src/utils.py:65: UserWarning: Could not infer format, so each element will be parsed individually, falling back to `dateutil`. To ensure parsing is consistent and as-expected, please specify a format.\n",
      "  df['end'] = pd.to_datetime(df['end'])\n",
      "/mnt/c/Users/vivek/Desktop/svara-forms-notebook/src/utils.py:64: UserWarning: Could not infer format, so each element will be parsed individually, falling back to `dateutil`. To ensure parsing is consistent and as-expected, please specify a format.\n",
      "  df['start'] = pd.to_datetime(df['start'])\n",
      "/mnt/c/Users/vivek/Desktop/svara-forms-notebook/src/utils.py:65: UserWarning: Could not infer format, so each element will be parsed individually, falling back to `dateutil`. To ensure parsing is consistent and as-expected, please specify a format.\n",
      "  df['end'] = pd.to_datetime(df['end'])\n",
      "/mnt/c/Users/vivek/Desktop/svara-forms-notebook/src/utils.py:64: UserWarning: Could not infer format, so each element will be parsed individually, falling back to `dateutil`. To ensure parsing is consistent and as-expected, please specify a format.\n",
      "  df['start'] = pd.to_datetime(df['start'])\n",
      "/mnt/c/Users/vivek/Desktop/svara-forms-notebook/src/utils.py:65: UserWarning: Could not infer format, so each element will be parsed individually, falling back to `dateutil`. To ensure parsing is consistent and as-expected, please specify a format.\n",
      "  df['end'] = pd.to_datetime(df['end'])\n",
      " 77%|██████████████████████████████████████████████████████████████                   | 445/581 [00:14<00:02, 46.90it/s]/mnt/c/Users/vivek/Desktop/svara-forms-notebook/src/utils.py:64: UserWarning: Could not infer format, so each element will be parsed individually, falling back to `dateutil`. To ensure parsing is consistent and as-expected, please specify a format.\n",
      "  df['start'] = pd.to_datetime(df['start'])\n",
      "/mnt/c/Users/vivek/Desktop/svara-forms-notebook/src/utils.py:65: UserWarning: Could not infer format, so each element will be parsed individually, falling back to `dateutil`. To ensure parsing is consistent and as-expected, please specify a format.\n",
      "  df['end'] = pd.to_datetime(df['end'])\n",
      "/mnt/c/Users/vivek/Desktop/svara-forms-notebook/src/utils.py:64: UserWarning: Could not infer format, so each element will be parsed individually, falling back to `dateutil`. To ensure parsing is consistent and as-expected, please specify a format.\n",
      "  df['start'] = pd.to_datetime(df['start'])\n",
      "/mnt/c/Users/vivek/Desktop/svara-forms-notebook/src/utils.py:65: UserWarning: Could not infer format, so each element will be parsed individually, falling back to `dateutil`. To ensure parsing is consistent and as-expected, please specify a format.\n",
      "  df['end'] = pd.to_datetime(df['end'])\n",
      "/mnt/c/Users/vivek/Desktop/svara-forms-notebook/src/utils.py:64: UserWarning: Could not infer format, so each element will be parsed individually, falling back to `dateutil`. To ensure parsing is consistent and as-expected, please specify a format.\n",
      "  df['start'] = pd.to_datetime(df['start'])\n",
      "/mnt/c/Users/vivek/Desktop/svara-forms-notebook/src/utils.py:65: UserWarning: Could not infer format, so each element will be parsed individually, falling back to `dateutil`. To ensure parsing is consistent and as-expected, please specify a format.\n",
      "  df['end'] = pd.to_datetime(df['end'])\n",
      " 77%|██████████████████████████████████████████████████████████████▋                  | 450/581 [00:14<00:02, 47.42it/s]/mnt/c/Users/vivek/Desktop/svara-forms-notebook/src/utils.py:64: UserWarning: Could not infer format, so each element will be parsed individually, falling back to `dateutil`. To ensure parsing is consistent and as-expected, please specify a format.\n",
      "  df['start'] = pd.to_datetime(df['start'])\n",
      "/mnt/c/Users/vivek/Desktop/svara-forms-notebook/src/utils.py:65: UserWarning: Could not infer format, so each element will be parsed individually, falling back to `dateutil`. To ensure parsing is consistent and as-expected, please specify a format.\n",
      "  df['end'] = pd.to_datetime(df['end'])\n",
      "/mnt/c/Users/vivek/Desktop/svara-forms-notebook/src/utils.py:64: UserWarning: Could not infer format, so each element will be parsed individually, falling back to `dateutil`. To ensure parsing is consistent and as-expected, please specify a format.\n",
      "  df['start'] = pd.to_datetime(df['start'])\n",
      "/mnt/c/Users/vivek/Desktop/svara-forms-notebook/src/utils.py:65: UserWarning: Could not infer format, so each element will be parsed individually, falling back to `dateutil`. To ensure parsing is consistent and as-expected, please specify a format.\n",
      "  df['end'] = pd.to_datetime(df['end'])\n",
      "/mnt/c/Users/vivek/Desktop/svara-forms-notebook/src/utils.py:64: UserWarning: Could not infer format, so each element will be parsed individually, falling back to `dateutil`. To ensure parsing is consistent and as-expected, please specify a format.\n",
      "  df['start'] = pd.to_datetime(df['start'])\n",
      "/mnt/c/Users/vivek/Desktop/svara-forms-notebook/src/utils.py:65: UserWarning: Could not infer format, so each element will be parsed individually, falling back to `dateutil`. To ensure parsing is consistent and as-expected, please specify a format.\n",
      "  df['end'] = pd.to_datetime(df['end'])\n",
      "/mnt/c/Users/vivek/Desktop/svara-forms-notebook/src/utils.py:64: UserWarning: Could not infer format, so each element will be parsed individually, falling back to `dateutil`. To ensure parsing is consistent and as-expected, please specify a format.\n",
      "  df['start'] = pd.to_datetime(df['start'])\n",
      "/mnt/c/Users/vivek/Desktop/svara-forms-notebook/src/utils.py:65: UserWarning: Could not infer format, so each element will be parsed individually, falling back to `dateutil`. To ensure parsing is consistent and as-expected, please specify a format.\n",
      "  df['end'] = pd.to_datetime(df['end'])\n",
      " 79%|███████████████████████████████████████████████████████████████▋                 | 457/581 [00:14<00:02, 50.11it/s]/mnt/c/Users/vivek/Desktop/svara-forms-notebook/src/utils.py:64: UserWarning: Could not infer format, so each element will be parsed individually, falling back to `dateutil`. To ensure parsing is consistent and as-expected, please specify a format.\n",
      "  df['start'] = pd.to_datetime(df['start'])\n",
      "/mnt/c/Users/vivek/Desktop/svara-forms-notebook/src/utils.py:65: UserWarning: Could not infer format, so each element will be parsed individually, falling back to `dateutil`. To ensure parsing is consistent and as-expected, please specify a format.\n",
      "  df['end'] = pd.to_datetime(df['end'])\n",
      "/mnt/c/Users/vivek/Desktop/svara-forms-notebook/src/utils.py:64: UserWarning: Could not infer format, so each element will be parsed individually, falling back to `dateutil`. To ensure parsing is consistent and as-expected, please specify a format.\n",
      "  df['start'] = pd.to_datetime(df['start'])\n",
      "/mnt/c/Users/vivek/Desktop/svara-forms-notebook/src/utils.py:65: UserWarning: Could not infer format, so each element will be parsed individually, falling back to `dateutil`. To ensure parsing is consistent and as-expected, please specify a format.\n",
      "  df['end'] = pd.to_datetime(df['end'])\n",
      "/mnt/c/Users/vivek/Desktop/svara-forms-notebook/src/utils.py:64: UserWarning: Could not infer format, so each element will be parsed individually, falling back to `dateutil`. To ensure parsing is consistent and as-expected, please specify a format.\n",
      "  df['start'] = pd.to_datetime(df['start'])\n",
      "/mnt/c/Users/vivek/Desktop/svara-forms-notebook/src/utils.py:65: UserWarning: Could not infer format, so each element will be parsed individually, falling back to `dateutil`. To ensure parsing is consistent and as-expected, please specify a format.\n",
      "  df['end'] = pd.to_datetime(df['end'])\n",
      "/mnt/c/Users/vivek/Desktop/svara-forms-notebook/src/utils.py:64: UserWarning: Could not infer format, so each element will be parsed individually, falling back to `dateutil`. To ensure parsing is consistent and as-expected, please specify a format.\n",
      "  df['start'] = pd.to_datetime(df['start'])\n",
      "/mnt/c/Users/vivek/Desktop/svara-forms-notebook/src/utils.py:65: UserWarning: Could not infer format, so each element will be parsed individually, falling back to `dateutil`. To ensure parsing is consistent and as-expected, please specify a format.\n",
      "  df['end'] = pd.to_datetime(df['end'])\n",
      "/mnt/c/Users/vivek/Desktop/svara-forms-notebook/src/utils.py:64: UserWarning: Could not infer format, so each element will be parsed individually, falling back to `dateutil`. To ensure parsing is consistent and as-expected, please specify a format.\n",
      "  df['start'] = pd.to_datetime(df['start'])\n",
      "/mnt/c/Users/vivek/Desktop/svara-forms-notebook/src/utils.py:65: UserWarning: Could not infer format, so each element will be parsed individually, falling back to `dateutil`. To ensure parsing is consistent and as-expected, please specify a format.\n",
      "  df['end'] = pd.to_datetime(df['end'])\n",
      "/mnt/c/Users/vivek/Desktop/svara-forms-notebook/src/utils.py:64: UserWarning: Could not infer format, so each element will be parsed individually, falling back to `dateutil`. To ensure parsing is consistent and as-expected, please specify a format.\n",
      "  df['start'] = pd.to_datetime(df['start'])\n",
      "/mnt/c/Users/vivek/Desktop/svara-forms-notebook/src/utils.py:65: UserWarning: Could not infer format, so each element will be parsed individually, falling back to `dateutil`. To ensure parsing is consistent and as-expected, please specify a format.\n",
      "  df['end'] = pd.to_datetime(df['end'])\n",
      " 80%|████████████████████████████████████████████████████████████████▌                | 463/581 [00:14<00:02, 41.29it/s]/mnt/c/Users/vivek/Desktop/svara-forms-notebook/src/utils.py:64: UserWarning: Could not infer format, so each element will be parsed individually, falling back to `dateutil`. To ensure parsing is consistent and as-expected, please specify a format.\n",
      "  df['start'] = pd.to_datetime(df['start'])\n",
      "/mnt/c/Users/vivek/Desktop/svara-forms-notebook/src/utils.py:65: UserWarning: Could not infer format, so each element will be parsed individually, falling back to `dateutil`. To ensure parsing is consistent and as-expected, please specify a format.\n",
      "  df['end'] = pd.to_datetime(df['end'])\n",
      "/mnt/c/Users/vivek/Desktop/svara-forms-notebook/src/utils.py:64: UserWarning: Could not infer format, so each element will be parsed individually, falling back to `dateutil`. To ensure parsing is consistent and as-expected, please specify a format.\n",
      "  df['start'] = pd.to_datetime(df['start'])\n",
      "/mnt/c/Users/vivek/Desktop/svara-forms-notebook/src/utils.py:65: UserWarning: Could not infer format, so each element will be parsed individually, falling back to `dateutil`. To ensure parsing is consistent and as-expected, please specify a format.\n",
      "  df['end'] = pd.to_datetime(df['end'])\n",
      "/mnt/c/Users/vivek/Desktop/svara-forms-notebook/src/utils.py:64: UserWarning: Could not infer format, so each element will be parsed individually, falling back to `dateutil`. To ensure parsing is consistent and as-expected, please specify a format.\n",
      "  df['start'] = pd.to_datetime(df['start'])\n",
      "/mnt/c/Users/vivek/Desktop/svara-forms-notebook/src/utils.py:65: UserWarning: Could not infer format, so each element will be parsed individually, falling back to `dateutil`. To ensure parsing is consistent and as-expected, please specify a format.\n",
      "  df['end'] = pd.to_datetime(df['end'])\n",
      " 81%|█████████████████████████████████████████████████████████████████▏               | 468/581 [00:14<00:02, 42.62it/s]/mnt/c/Users/vivek/Desktop/svara-forms-notebook/src/utils.py:64: UserWarning: Could not infer format, so each element will be parsed individually, falling back to `dateutil`. To ensure parsing is consistent and as-expected, please specify a format.\n",
      "  df['start'] = pd.to_datetime(df['start'])\n",
      "/mnt/c/Users/vivek/Desktop/svara-forms-notebook/src/utils.py:65: UserWarning: Could not infer format, so each element will be parsed individually, falling back to `dateutil`. To ensure parsing is consistent and as-expected, please specify a format.\n",
      "  df['end'] = pd.to_datetime(df['end'])\n",
      "/mnt/c/Users/vivek/Desktop/svara-forms-notebook/src/utils.py:64: UserWarning: Could not infer format, so each element will be parsed individually, falling back to `dateutil`. To ensure parsing is consistent and as-expected, please specify a format.\n",
      "  df['start'] = pd.to_datetime(df['start'])\n",
      "/mnt/c/Users/vivek/Desktop/svara-forms-notebook/src/utils.py:65: UserWarning: Could not infer format, so each element will be parsed individually, falling back to `dateutil`. To ensure parsing is consistent and as-expected, please specify a format.\n",
      "  df['end'] = pd.to_datetime(df['end'])\n",
      "/mnt/c/Users/vivek/Desktop/svara-forms-notebook/src/utils.py:64: UserWarning: Could not infer format, so each element will be parsed individually, falling back to `dateutil`. To ensure parsing is consistent and as-expected, please specify a format.\n",
      "  df['start'] = pd.to_datetime(df['start'])\n",
      "/mnt/c/Users/vivek/Desktop/svara-forms-notebook/src/utils.py:65: UserWarning: Could not infer format, so each element will be parsed individually, falling back to `dateutil`. To ensure parsing is consistent and as-expected, please specify a format.\n",
      "  df['end'] = pd.to_datetime(df['end'])\n",
      " 81%|█████████████████████████████████████████████████████████████████▉               | 473/581 [00:14<00:02, 43.77it/s]/mnt/c/Users/vivek/Desktop/svara-forms-notebook/src/utils.py:64: UserWarning: Could not infer format, so each element will be parsed individually, falling back to `dateutil`. To ensure parsing is consistent and as-expected, please specify a format.\n",
      "  df['start'] = pd.to_datetime(df['start'])\n",
      "/mnt/c/Users/vivek/Desktop/svara-forms-notebook/src/utils.py:65: UserWarning: Could not infer format, so each element will be parsed individually, falling back to `dateutil`. To ensure parsing is consistent and as-expected, please specify a format.\n",
      "  df['end'] = pd.to_datetime(df['end'])\n",
      "/mnt/c/Users/vivek/Desktop/svara-forms-notebook/src/utils.py:64: UserWarning: Could not infer format, so each element will be parsed individually, falling back to `dateutil`. To ensure parsing is consistent and as-expected, please specify a format.\n",
      "  df['start'] = pd.to_datetime(df['start'])\n",
      "/mnt/c/Users/vivek/Desktop/svara-forms-notebook/src/utils.py:65: UserWarning: Could not infer format, so each element will be parsed individually, falling back to `dateutil`. To ensure parsing is consistent and as-expected, please specify a format.\n",
      "  df['end'] = pd.to_datetime(df['end'])\n",
      "/mnt/c/Users/vivek/Desktop/svara-forms-notebook/src/utils.py:64: UserWarning: Could not infer format, so each element will be parsed individually, falling back to `dateutil`. To ensure parsing is consistent and as-expected, please specify a format.\n",
      "  df['start'] = pd.to_datetime(df['start'])\n",
      "/mnt/c/Users/vivek/Desktop/svara-forms-notebook/src/utils.py:65: UserWarning: Could not infer format, so each element will be parsed individually, falling back to `dateutil`. To ensure parsing is consistent and as-expected, please specify a format.\n",
      "  df['end'] = pd.to_datetime(df['end'])\n",
      " 82%|██████████████████████████████████████████████████████████████████▋              | 478/581 [00:14<00:02, 45.11it/s]/mnt/c/Users/vivek/Desktop/svara-forms-notebook/src/utils.py:64: UserWarning: Could not infer format, so each element will be parsed individually, falling back to `dateutil`. To ensure parsing is consistent and as-expected, please specify a format.\n",
      "  df['start'] = pd.to_datetime(df['start'])\n",
      "/mnt/c/Users/vivek/Desktop/svara-forms-notebook/src/utils.py:65: UserWarning: Could not infer format, so each element will be parsed individually, falling back to `dateutil`. To ensure parsing is consistent and as-expected, please specify a format.\n",
      "  df['end'] = pd.to_datetime(df['end'])\n",
      "/mnt/c/Users/vivek/Desktop/svara-forms-notebook/src/utils.py:64: UserWarning: Could not infer format, so each element will be parsed individually, falling back to `dateutil`. To ensure parsing is consistent and as-expected, please specify a format.\n",
      "  df['start'] = pd.to_datetime(df['start'])\n",
      "/mnt/c/Users/vivek/Desktop/svara-forms-notebook/src/utils.py:65: UserWarning: Could not infer format, so each element will be parsed individually, falling back to `dateutil`. To ensure parsing is consistent and as-expected, please specify a format.\n",
      "  df['end'] = pd.to_datetime(df['end'])\n",
      "/mnt/c/Users/vivek/Desktop/svara-forms-notebook/src/utils.py:64: UserWarning: Could not infer format, so each element will be parsed individually, falling back to `dateutil`. To ensure parsing is consistent and as-expected, please specify a format.\n",
      "  df['start'] = pd.to_datetime(df['start'])\n",
      "/mnt/c/Users/vivek/Desktop/svara-forms-notebook/src/utils.py:65: UserWarning: Could not infer format, so each element will be parsed individually, falling back to `dateutil`. To ensure parsing is consistent and as-expected, please specify a format.\n",
      "  df['end'] = pd.to_datetime(df['end'])\n",
      " 84%|███████████████████████████████████████████████████████████████████▊             | 486/581 [00:15<00:01, 53.24it/s]/mnt/c/Users/vivek/Desktop/svara-forms-notebook/src/utils.py:64: UserWarning: Could not infer format, so each element will be parsed individually, falling back to `dateutil`. To ensure parsing is consistent and as-expected, please specify a format.\n",
      "  df['start'] = pd.to_datetime(df['start'])\n",
      "/mnt/c/Users/vivek/Desktop/svara-forms-notebook/src/utils.py:65: UserWarning: Could not infer format, so each element will be parsed individually, falling back to `dateutil`. To ensure parsing is consistent and as-expected, please specify a format.\n",
      "  df['end'] = pd.to_datetime(df['end'])\n",
      "/mnt/c/Users/vivek/Desktop/svara-forms-notebook/src/utils.py:64: UserWarning: Could not infer format, so each element will be parsed individually, falling back to `dateutil`. To ensure parsing is consistent and as-expected, please specify a format.\n",
      "  df['start'] = pd.to_datetime(df['start'])\n",
      "/mnt/c/Users/vivek/Desktop/svara-forms-notebook/src/utils.py:65: UserWarning: Could not infer format, so each element will be parsed individually, falling back to `dateutil`. To ensure parsing is consistent and as-expected, please specify a format.\n",
      "  df['end'] = pd.to_datetime(df['end'])\n",
      "/mnt/c/Users/vivek/Desktop/svara-forms-notebook/src/utils.py:64: UserWarning: Could not infer format, so each element will be parsed individually, falling back to `dateutil`. To ensure parsing is consistent and as-expected, please specify a format.\n",
      "  df['start'] = pd.to_datetime(df['start'])\n",
      "/mnt/c/Users/vivek/Desktop/svara-forms-notebook/src/utils.py:65: UserWarning: Could not infer format, so each element will be parsed individually, falling back to `dateutil`. To ensure parsing is consistent and as-expected, please specify a format.\n",
      "  df['end'] = pd.to_datetime(df['end'])\n",
      " 85%|████████████████████████████████████████████████████████████████████▋            | 493/581 [00:15<00:01, 57.34it/s]/mnt/c/Users/vivek/Desktop/svara-forms-notebook/src/utils.py:64: UserWarning: Could not infer format, so each element will be parsed individually, falling back to `dateutil`. To ensure parsing is consistent and as-expected, please specify a format.\n",
      "  df['start'] = pd.to_datetime(df['start'])\n",
      "/mnt/c/Users/vivek/Desktop/svara-forms-notebook/src/utils.py:65: UserWarning: Could not infer format, so each element will be parsed individually, falling back to `dateutil`. To ensure parsing is consistent and as-expected, please specify a format.\n",
      "  df['end'] = pd.to_datetime(df['end'])\n",
      "/mnt/c/Users/vivek/Desktop/svara-forms-notebook/src/utils.py:64: UserWarning: Could not infer format, so each element will be parsed individually, falling back to `dateutil`. To ensure parsing is consistent and as-expected, please specify a format.\n",
      "  df['start'] = pd.to_datetime(df['start'])\n",
      "/mnt/c/Users/vivek/Desktop/svara-forms-notebook/src/utils.py:65: UserWarning: Could not infer format, so each element will be parsed individually, falling back to `dateutil`. To ensure parsing is consistent and as-expected, please specify a format.\n",
      "  df['end'] = pd.to_datetime(df['end'])\n",
      "/mnt/c/Users/vivek/Desktop/svara-forms-notebook/src/utils.py:64: UserWarning: Could not infer format, so each element will be parsed individually, falling back to `dateutil`. To ensure parsing is consistent and as-expected, please specify a format.\n",
      "  df['start'] = pd.to_datetime(df['start'])\n",
      "/mnt/c/Users/vivek/Desktop/svara-forms-notebook/src/utils.py:65: UserWarning: Could not infer format, so each element will be parsed individually, falling back to `dateutil`. To ensure parsing is consistent and as-expected, please specify a format.\n",
      "  df['end'] = pd.to_datetime(df['end'])\n",
      "/mnt/c/Users/vivek/Desktop/svara-forms-notebook/src/utils.py:64: UserWarning: Could not infer format, so each element will be parsed individually, falling back to `dateutil`. To ensure parsing is consistent and as-expected, please specify a format.\n",
      "  df['start'] = pd.to_datetime(df['start'])\n",
      "/mnt/c/Users/vivek/Desktop/svara-forms-notebook/src/utils.py:65: UserWarning: Could not infer format, so each element will be parsed individually, falling back to `dateutil`. To ensure parsing is consistent and as-expected, please specify a format.\n",
      "  df['end'] = pd.to_datetime(df['end'])\n",
      "/mnt/c/Users/vivek/Desktop/svara-forms-notebook/src/utils.py:64: UserWarning: Could not infer format, so each element will be parsed individually, falling back to `dateutil`. To ensure parsing is consistent and as-expected, please specify a format.\n",
      "  df['start'] = pd.to_datetime(df['start'])\n",
      "/mnt/c/Users/vivek/Desktop/svara-forms-notebook/src/utils.py:65: UserWarning: Could not infer format, so each element will be parsed individually, falling back to `dateutil`. To ensure parsing is consistent and as-expected, please specify a format.\n",
      "  df['end'] = pd.to_datetime(df['end'])\n",
      "/mnt/c/Users/vivek/Desktop/svara-forms-notebook/src/utils.py:64: UserWarning: Could not infer format, so each element will be parsed individually, falling back to `dateutil`. To ensure parsing is consistent and as-expected, please specify a format.\n",
      "  df['start'] = pd.to_datetime(df['start'])\n",
      "/mnt/c/Users/vivek/Desktop/svara-forms-notebook/src/utils.py:65: UserWarning: Could not infer format, so each element will be parsed individually, falling back to `dateutil`. To ensure parsing is consistent and as-expected, please specify a format.\n",
      "  df['end'] = pd.to_datetime(df['end'])\n",
      " 86%|█████████████████████████████████████████████████████████████████████▌           | 499/581 [00:15<00:01, 45.05it/s]/mnt/c/Users/vivek/Desktop/svara-forms-notebook/src/utils.py:64: UserWarning: Could not infer format, so each element will be parsed individually, falling back to `dateutil`. To ensure parsing is consistent and as-expected, please specify a format.\n",
      "  df['start'] = pd.to_datetime(df['start'])\n",
      "/mnt/c/Users/vivek/Desktop/svara-forms-notebook/src/utils.py:65: UserWarning: Could not infer format, so each element will be parsed individually, falling back to `dateutil`. To ensure parsing is consistent and as-expected, please specify a format.\n",
      "  df['end'] = pd.to_datetime(df['end'])\n",
      "/mnt/c/Users/vivek/Desktop/svara-forms-notebook/src/utils.py:64: UserWarning: Could not infer format, so each element will be parsed individually, falling back to `dateutil`. To ensure parsing is consistent and as-expected, please specify a format.\n",
      "  df['start'] = pd.to_datetime(df['start'])\n",
      "/mnt/c/Users/vivek/Desktop/svara-forms-notebook/src/utils.py:65: UserWarning: Could not infer format, so each element will be parsed individually, falling back to `dateutil`. To ensure parsing is consistent and as-expected, please specify a format.\n",
      "  df['end'] = pd.to_datetime(df['end'])\n",
      "/mnt/c/Users/vivek/Desktop/svara-forms-notebook/src/utils.py:64: UserWarning: Could not infer format, so each element will be parsed individually, falling back to `dateutil`. To ensure parsing is consistent and as-expected, please specify a format.\n",
      "  df['start'] = pd.to_datetime(df['start'])\n",
      "/mnt/c/Users/vivek/Desktop/svara-forms-notebook/src/utils.py:65: UserWarning: Could not infer format, so each element will be parsed individually, falling back to `dateutil`. To ensure parsing is consistent and as-expected, please specify a format.\n",
      "  df['end'] = pd.to_datetime(df['end'])\n",
      "/mnt/c/Users/vivek/Desktop/svara-forms-notebook/src/utils.py:64: UserWarning: Could not infer format, so each element will be parsed individually, falling back to `dateutil`. To ensure parsing is consistent and as-expected, please specify a format.\n",
      "  df['start'] = pd.to_datetime(df['start'])\n",
      "/mnt/c/Users/vivek/Desktop/svara-forms-notebook/src/utils.py:65: UserWarning: Could not infer format, so each element will be parsed individually, falling back to `dateutil`. To ensure parsing is consistent and as-expected, please specify a format.\n",
      "  df['end'] = pd.to_datetime(df['end'])\n",
      " 87%|██████████████████████████████████████████████████████████████████████▍          | 505/581 [00:15<00:01, 44.73it/s]/mnt/c/Users/vivek/Desktop/svara-forms-notebook/src/utils.py:64: UserWarning: Could not infer format, so each element will be parsed individually, falling back to `dateutil`. To ensure parsing is consistent and as-expected, please specify a format.\n",
      "  df['start'] = pd.to_datetime(df['start'])\n",
      "/mnt/c/Users/vivek/Desktop/svara-forms-notebook/src/utils.py:65: UserWarning: Could not infer format, so each element will be parsed individually, falling back to `dateutil`. To ensure parsing is consistent and as-expected, please specify a format.\n",
      "  df['end'] = pd.to_datetime(df['end'])\n",
      "/mnt/c/Users/vivek/Desktop/svara-forms-notebook/src/utils.py:64: UserWarning: Could not infer format, so each element will be parsed individually, falling back to `dateutil`. To ensure parsing is consistent and as-expected, please specify a format.\n",
      "  df['start'] = pd.to_datetime(df['start'])\n",
      "/mnt/c/Users/vivek/Desktop/svara-forms-notebook/src/utils.py:65: UserWarning: Could not infer format, so each element will be parsed individually, falling back to `dateutil`. To ensure parsing is consistent and as-expected, please specify a format.\n",
      "  df['end'] = pd.to_datetime(df['end'])\n",
      "/mnt/c/Users/vivek/Desktop/svara-forms-notebook/src/utils.py:64: UserWarning: Could not infer format, so each element will be parsed individually, falling back to `dateutil`. To ensure parsing is consistent and as-expected, please specify a format.\n",
      "  df['start'] = pd.to_datetime(df['start'])\n",
      "/mnt/c/Users/vivek/Desktop/svara-forms-notebook/src/utils.py:65: UserWarning: Could not infer format, so each element will be parsed individually, falling back to `dateutil`. To ensure parsing is consistent and as-expected, please specify a format.\n",
      "  df['end'] = pd.to_datetime(df['end'])\n",
      " 88%|███████████████████████████████████████████████████████████████████████▏         | 511/581 [00:15<00:01, 46.78it/s]/mnt/c/Users/vivek/Desktop/svara-forms-notebook/src/utils.py:64: UserWarning: Could not infer format, so each element will be parsed individually, falling back to `dateutil`. To ensure parsing is consistent and as-expected, please specify a format.\n",
      "  df['start'] = pd.to_datetime(df['start'])\n",
      "/mnt/c/Users/vivek/Desktop/svara-forms-notebook/src/utils.py:65: UserWarning: Could not infer format, so each element will be parsed individually, falling back to `dateutil`. To ensure parsing is consistent and as-expected, please specify a format.\n",
      "  df['end'] = pd.to_datetime(df['end'])\n",
      "/mnt/c/Users/vivek/Desktop/svara-forms-notebook/src/utils.py:64: UserWarning: Could not infer format, so each element will be parsed individually, falling back to `dateutil`. To ensure parsing is consistent and as-expected, please specify a format.\n",
      "  df['start'] = pd.to_datetime(df['start'])\n",
      "/mnt/c/Users/vivek/Desktop/svara-forms-notebook/src/utils.py:65: UserWarning: Could not infer format, so each element will be parsed individually, falling back to `dateutil`. To ensure parsing is consistent and as-expected, please specify a format.\n",
      "  df['end'] = pd.to_datetime(df['end'])\n",
      "/mnt/c/Users/vivek/Desktop/svara-forms-notebook/src/utils.py:64: UserWarning: Could not infer format, so each element will be parsed individually, falling back to `dateutil`. To ensure parsing is consistent and as-expected, please specify a format.\n",
      "  df['start'] = pd.to_datetime(df['start'])\n",
      "/mnt/c/Users/vivek/Desktop/svara-forms-notebook/src/utils.py:65: UserWarning: Could not infer format, so each element will be parsed individually, falling back to `dateutil`. To ensure parsing is consistent and as-expected, please specify a format.\n",
      "  df['end'] = pd.to_datetime(df['end'])\n",
      "/mnt/c/Users/vivek/Desktop/svara-forms-notebook/src/utils.py:64: UserWarning: Could not infer format, so each element will be parsed individually, falling back to `dateutil`. To ensure parsing is consistent and as-expected, please specify a format.\n",
      "  df['start'] = pd.to_datetime(df['start'])\n",
      "/mnt/c/Users/vivek/Desktop/svara-forms-notebook/src/utils.py:65: UserWarning: Could not infer format, so each element will be parsed individually, falling back to `dateutil`. To ensure parsing is consistent and as-expected, please specify a format.\n",
      "  df['end'] = pd.to_datetime(df['end'])\n",
      "/mnt/c/Users/vivek/Desktop/svara-forms-notebook/src/utils.py:64: UserWarning: Could not infer format, so each element will be parsed individually, falling back to `dateutil`. To ensure parsing is consistent and as-expected, please specify a format.\n",
      "  df['start'] = pd.to_datetime(df['start'])\n",
      "/mnt/c/Users/vivek/Desktop/svara-forms-notebook/src/utils.py:65: UserWarning: Could not infer format, so each element will be parsed individually, falling back to `dateutil`. To ensure parsing is consistent and as-expected, please specify a format.\n",
      "  df['end'] = pd.to_datetime(df['end'])\n",
      " 89%|███████████████████████████████████████████████████████████████████████▉         | 516/581 [00:15<00:01, 41.52it/s]/mnt/c/Users/vivek/Desktop/svara-forms-notebook/src/utils.py:64: UserWarning: Could not infer format, so each element will be parsed individually, falling back to `dateutil`. To ensure parsing is consistent and as-expected, please specify a format.\n",
      "  df['start'] = pd.to_datetime(df['start'])\n",
      "/mnt/c/Users/vivek/Desktop/svara-forms-notebook/src/utils.py:65: UserWarning: Could not infer format, so each element will be parsed individually, falling back to `dateutil`. To ensure parsing is consistent and as-expected, please specify a format.\n",
      "  df['end'] = pd.to_datetime(df['end'])\n",
      "/mnt/c/Users/vivek/Desktop/svara-forms-notebook/src/utils.py:64: UserWarning: Could not infer format, so each element will be parsed individually, falling back to `dateutil`. To ensure parsing is consistent and as-expected, please specify a format.\n",
      "  df['start'] = pd.to_datetime(df['start'])\n",
      "/mnt/c/Users/vivek/Desktop/svara-forms-notebook/src/utils.py:65: UserWarning: Could not infer format, so each element will be parsed individually, falling back to `dateutil`. To ensure parsing is consistent and as-expected, please specify a format.\n",
      "  df['end'] = pd.to_datetime(df['end'])\n",
      "/mnt/c/Users/vivek/Desktop/svara-forms-notebook/src/utils.py:64: UserWarning: Could not infer format, so each element will be parsed individually, falling back to `dateutil`. To ensure parsing is consistent and as-expected, please specify a format.\n",
      "  df['start'] = pd.to_datetime(df['start'])\n",
      "/mnt/c/Users/vivek/Desktop/svara-forms-notebook/src/utils.py:65: UserWarning: Could not infer format, so each element will be parsed individually, falling back to `dateutil`. To ensure parsing is consistent and as-expected, please specify a format.\n",
      "  df['end'] = pd.to_datetime(df['end'])\n",
      "/mnt/c/Users/vivek/Desktop/svara-forms-notebook/src/utils.py:64: UserWarning: Could not infer format, so each element will be parsed individually, falling back to `dateutil`. To ensure parsing is consistent and as-expected, please specify a format.\n",
      "  df['start'] = pd.to_datetime(df['start'])\n",
      "/mnt/c/Users/vivek/Desktop/svara-forms-notebook/src/utils.py:65: UserWarning: Could not infer format, so each element will be parsed individually, falling back to `dateutil`. To ensure parsing is consistent and as-expected, please specify a format.\n",
      "  df['end'] = pd.to_datetime(df['end'])\n",
      " 90%|████████████████████████████████████████████████████████████████████████▋        | 521/581 [00:15<00:01, 39.72it/s]/mnt/c/Users/vivek/Desktop/svara-forms-notebook/src/utils.py:64: UserWarning: Could not infer format, so each element will be parsed individually, falling back to `dateutil`. To ensure parsing is consistent and as-expected, please specify a format.\n",
      "  df['start'] = pd.to_datetime(df['start'])\n",
      "/mnt/c/Users/vivek/Desktop/svara-forms-notebook/src/utils.py:65: UserWarning: Could not infer format, so each element will be parsed individually, falling back to `dateutil`. To ensure parsing is consistent and as-expected, please specify a format.\n",
      "  df['end'] = pd.to_datetime(df['end'])\n",
      "/mnt/c/Users/vivek/Desktop/svara-forms-notebook/src/utils.py:64: UserWarning: Could not infer format, so each element will be parsed individually, falling back to `dateutil`. To ensure parsing is consistent and as-expected, please specify a format.\n",
      "  df['start'] = pd.to_datetime(df['start'])\n",
      "/mnt/c/Users/vivek/Desktop/svara-forms-notebook/src/utils.py:65: UserWarning: Could not infer format, so each element will be parsed individually, falling back to `dateutil`. To ensure parsing is consistent and as-expected, please specify a format.\n",
      "  df['end'] = pd.to_datetime(df['end'])\n",
      "/mnt/c/Users/vivek/Desktop/svara-forms-notebook/src/utils.py:64: UserWarning: Could not infer format, so each element will be parsed individually, falling back to `dateutil`. To ensure parsing is consistent and as-expected, please specify a format.\n",
      "  df['start'] = pd.to_datetime(df['start'])\n",
      "/mnt/c/Users/vivek/Desktop/svara-forms-notebook/src/utils.py:65: UserWarning: Could not infer format, so each element will be parsed individually, falling back to `dateutil`. To ensure parsing is consistent and as-expected, please specify a format.\n",
      "  df['end'] = pd.to_datetime(df['end'])\n",
      " 91%|█████████████████████████████████████████████████████████████████████████▍       | 527/581 [00:16<00:01, 41.69it/s]/mnt/c/Users/vivek/Desktop/svara-forms-notebook/src/utils.py:64: UserWarning: Could not infer format, so each element will be parsed individually, falling back to `dateutil`. To ensure parsing is consistent and as-expected, please specify a format.\n",
      "  df['start'] = pd.to_datetime(df['start'])\n",
      "/mnt/c/Users/vivek/Desktop/svara-forms-notebook/src/utils.py:65: UserWarning: Could not infer format, so each element will be parsed individually, falling back to `dateutil`. To ensure parsing is consistent and as-expected, please specify a format.\n",
      "  df['end'] = pd.to_datetime(df['end'])\n",
      "/mnt/c/Users/vivek/Desktop/svara-forms-notebook/src/utils.py:64: UserWarning: Could not infer format, so each element will be parsed individually, falling back to `dateutil`. To ensure parsing is consistent and as-expected, please specify a format.\n",
      "  df['start'] = pd.to_datetime(df['start'])\n",
      "/mnt/c/Users/vivek/Desktop/svara-forms-notebook/src/utils.py:65: UserWarning: Could not infer format, so each element will be parsed individually, falling back to `dateutil`. To ensure parsing is consistent and as-expected, please specify a format.\n",
      "  df['end'] = pd.to_datetime(df['end'])\n",
      "/mnt/c/Users/vivek/Desktop/svara-forms-notebook/src/utils.py:64: UserWarning: Could not infer format, so each element will be parsed individually, falling back to `dateutil`. To ensure parsing is consistent and as-expected, please specify a format.\n",
      "  df['start'] = pd.to_datetime(df['start'])\n",
      "/mnt/c/Users/vivek/Desktop/svara-forms-notebook/src/utils.py:65: UserWarning: Could not infer format, so each element will be parsed individually, falling back to `dateutil`. To ensure parsing is consistent and as-expected, please specify a format.\n",
      "  df['end'] = pd.to_datetime(df['end'])\n",
      "/mnt/c/Users/vivek/Desktop/svara-forms-notebook/src/utils.py:64: UserWarning: Could not infer format, so each element will be parsed individually, falling back to `dateutil`. To ensure parsing is consistent and as-expected, please specify a format.\n",
      "  df['start'] = pd.to_datetime(df['start'])\n",
      "/mnt/c/Users/vivek/Desktop/svara-forms-notebook/src/utils.py:65: UserWarning: Could not infer format, so each element will be parsed individually, falling back to `dateutil`. To ensure parsing is consistent and as-expected, please specify a format.\n",
      "  df['end'] = pd.to_datetime(df['end'])\n",
      " 92%|██████████████████████████████████████████████████████████████████████████▏      | 532/581 [00:16<00:01, 38.63it/s]/mnt/c/Users/vivek/Desktop/svara-forms-notebook/src/utils.py:64: UserWarning: Could not infer format, so each element will be parsed individually, falling back to `dateutil`. To ensure parsing is consistent and as-expected, please specify a format.\n",
      "  df['start'] = pd.to_datetime(df['start'])\n",
      "/mnt/c/Users/vivek/Desktop/svara-forms-notebook/src/utils.py:65: UserWarning: Could not infer format, so each element will be parsed individually, falling back to `dateutil`. To ensure parsing is consistent and as-expected, please specify a format.\n",
      "  df['end'] = pd.to_datetime(df['end'])\n",
      "/mnt/c/Users/vivek/Desktop/svara-forms-notebook/src/utils.py:64: UserWarning: Could not infer format, so each element will be parsed individually, falling back to `dateutil`. To ensure parsing is consistent and as-expected, please specify a format.\n",
      "  df['start'] = pd.to_datetime(df['start'])\n",
      "/mnt/c/Users/vivek/Desktop/svara-forms-notebook/src/utils.py:65: UserWarning: Could not infer format, so each element will be parsed individually, falling back to `dateutil`. To ensure parsing is consistent and as-expected, please specify a format.\n",
      "  df['end'] = pd.to_datetime(df['end'])\n",
      "/mnt/c/Users/vivek/Desktop/svara-forms-notebook/src/utils.py:64: UserWarning: Could not infer format, so each element will be parsed individually, falling back to `dateutil`. To ensure parsing is consistent and as-expected, please specify a format.\n",
      "  df['start'] = pd.to_datetime(df['start'])\n",
      "/mnt/c/Users/vivek/Desktop/svara-forms-notebook/src/utils.py:65: UserWarning: Could not infer format, so each element will be parsed individually, falling back to `dateutil`. To ensure parsing is consistent and as-expected, please specify a format.\n",
      "  df['end'] = pd.to_datetime(df['end'])\n",
      " 92%|██████████████████████████████████████████████████████████████████████████▋      | 536/581 [00:16<00:01, 36.82it/s]/mnt/c/Users/vivek/Desktop/svara-forms-notebook/src/utils.py:64: UserWarning: Could not infer format, so each element will be parsed individually, falling back to `dateutil`. To ensure parsing is consistent and as-expected, please specify a format.\n",
      "  df['start'] = pd.to_datetime(df['start'])\n",
      "/mnt/c/Users/vivek/Desktop/svara-forms-notebook/src/utils.py:65: UserWarning: Could not infer format, so each element will be parsed individually, falling back to `dateutil`. To ensure parsing is consistent and as-expected, please specify a format.\n",
      "  df['end'] = pd.to_datetime(df['end'])\n",
      "/mnt/c/Users/vivek/Desktop/svara-forms-notebook/src/utils.py:64: UserWarning: Could not infer format, so each element will be parsed individually, falling back to `dateutil`. To ensure parsing is consistent and as-expected, please specify a format.\n",
      "  df['start'] = pd.to_datetime(df['start'])\n",
      "/mnt/c/Users/vivek/Desktop/svara-forms-notebook/src/utils.py:65: UserWarning: Could not infer format, so each element will be parsed individually, falling back to `dateutil`. To ensure parsing is consistent and as-expected, please specify a format.\n",
      "  df['end'] = pd.to_datetime(df['end'])\n",
      "/mnt/c/Users/vivek/Desktop/svara-forms-notebook/src/utils.py:64: UserWarning: Could not infer format, so each element will be parsed individually, falling back to `dateutil`. To ensure parsing is consistent and as-expected, please specify a format.\n",
      "  df['start'] = pd.to_datetime(df['start'])\n",
      "/mnt/c/Users/vivek/Desktop/svara-forms-notebook/src/utils.py:65: UserWarning: Could not infer format, so each element will be parsed individually, falling back to `dateutil`. To ensure parsing is consistent and as-expected, please specify a format.\n",
      "  df['end'] = pd.to_datetime(df['end'])\n",
      "/mnt/c/Users/vivek/Desktop/svara-forms-notebook/src/utils.py:64: UserWarning: Could not infer format, so each element will be parsed individually, falling back to `dateutil`. To ensure parsing is consistent and as-expected, please specify a format.\n",
      "  df['start'] = pd.to_datetime(df['start'])\n",
      "/mnt/c/Users/vivek/Desktop/svara-forms-notebook/src/utils.py:65: UserWarning: Could not infer format, so each element will be parsed individually, falling back to `dateutil`. To ensure parsing is consistent and as-expected, please specify a format.\n",
      "  df['end'] = pd.to_datetime(df['end'])\n",
      " 93%|███████████████████████████████████████████████████████████████████████████▎     | 540/581 [00:16<00:01, 32.19it/s]/mnt/c/Users/vivek/Desktop/svara-forms-notebook/src/utils.py:64: UserWarning: Could not infer format, so each element will be parsed individually, falling back to `dateutil`. To ensure parsing is consistent and as-expected, please specify a format.\n",
      "  df['start'] = pd.to_datetime(df['start'])\n",
      "/mnt/c/Users/vivek/Desktop/svara-forms-notebook/src/utils.py:65: UserWarning: Could not infer format, so each element will be parsed individually, falling back to `dateutil`. To ensure parsing is consistent and as-expected, please specify a format.\n",
      "  df['end'] = pd.to_datetime(df['end'])\n",
      "/mnt/c/Users/vivek/Desktop/svara-forms-notebook/src/utils.py:64: UserWarning: Could not infer format, so each element will be parsed individually, falling back to `dateutil`. To ensure parsing is consistent and as-expected, please specify a format.\n",
      "  df['start'] = pd.to_datetime(df['start'])\n",
      "/mnt/c/Users/vivek/Desktop/svara-forms-notebook/src/utils.py:65: UserWarning: Could not infer format, so each element will be parsed individually, falling back to `dateutil`. To ensure parsing is consistent and as-expected, please specify a format.\n",
      "  df['end'] = pd.to_datetime(df['end'])\n",
      "/mnt/c/Users/vivek/Desktop/svara-forms-notebook/src/utils.py:64: UserWarning: Could not infer format, so each element will be parsed individually, falling back to `dateutil`. To ensure parsing is consistent and as-expected, please specify a format.\n",
      "  df['start'] = pd.to_datetime(df['start'])\n",
      "/mnt/c/Users/vivek/Desktop/svara-forms-notebook/src/utils.py:65: UserWarning: Could not infer format, so each element will be parsed individually, falling back to `dateutil`. To ensure parsing is consistent and as-expected, please specify a format.\n",
      "  df['end'] = pd.to_datetime(df['end'])\n",
      " 95%|████████████████████████████████████████████████████████████████████████████▋    | 550/581 [00:16<00:00, 46.22it/s]/mnt/c/Users/vivek/Desktop/svara-forms-notebook/src/utils.py:64: UserWarning: Could not infer format, so each element will be parsed individually, falling back to `dateutil`. To ensure parsing is consistent and as-expected, please specify a format.\n",
      "  df['start'] = pd.to_datetime(df['start'])\n",
      "/mnt/c/Users/vivek/Desktop/svara-forms-notebook/src/utils.py:65: UserWarning: Could not infer format, so each element will be parsed individually, falling back to `dateutil`. To ensure parsing is consistent and as-expected, please specify a format.\n",
      "  df['end'] = pd.to_datetime(df['end'])\n",
      "/mnt/c/Users/vivek/Desktop/svara-forms-notebook/src/utils.py:64: UserWarning: Could not infer format, so each element will be parsed individually, falling back to `dateutil`. To ensure parsing is consistent and as-expected, please specify a format.\n",
      "  df['start'] = pd.to_datetime(df['start'])\n",
      "/mnt/c/Users/vivek/Desktop/svara-forms-notebook/src/utils.py:65: UserWarning: Could not infer format, so each element will be parsed individually, falling back to `dateutil`. To ensure parsing is consistent and as-expected, please specify a format.\n",
      "  df['end'] = pd.to_datetime(df['end'])\n",
      "/mnt/c/Users/vivek/Desktop/svara-forms-notebook/src/utils.py:64: UserWarning: Could not infer format, so each element will be parsed individually, falling back to `dateutil`. To ensure parsing is consistent and as-expected, please specify a format.\n",
      "  df['start'] = pd.to_datetime(df['start'])\n",
      "/mnt/c/Users/vivek/Desktop/svara-forms-notebook/src/utils.py:65: UserWarning: Could not infer format, so each element will be parsed individually, falling back to `dateutil`. To ensure parsing is consistent and as-expected, please specify a format.\n",
      "  df['end'] = pd.to_datetime(df['end'])\n",
      " 96%|█████████████████████████████████████████████████████████████████████████████▊   | 558/581 [00:16<00:00, 52.96it/s]/mnt/c/Users/vivek/Desktop/svara-forms-notebook/src/utils.py:64: UserWarning: Could not infer format, so each element will be parsed individually, falling back to `dateutil`. To ensure parsing is consistent and as-expected, please specify a format.\n",
      "  df['start'] = pd.to_datetime(df['start'])\n",
      "/mnt/c/Users/vivek/Desktop/svara-forms-notebook/src/utils.py:65: UserWarning: Could not infer format, so each element will be parsed individually, falling back to `dateutil`. To ensure parsing is consistent and as-expected, please specify a format.\n",
      "  df['end'] = pd.to_datetime(df['end'])\n",
      "/mnt/c/Users/vivek/Desktop/svara-forms-notebook/src/utils.py:64: UserWarning: Could not infer format, so each element will be parsed individually, falling back to `dateutil`. To ensure parsing is consistent and as-expected, please specify a format.\n",
      "  df['start'] = pd.to_datetime(df['start'])\n",
      "/mnt/c/Users/vivek/Desktop/svara-forms-notebook/src/utils.py:65: UserWarning: Could not infer format, so each element will be parsed individually, falling back to `dateutil`. To ensure parsing is consistent and as-expected, please specify a format.\n",
      "  df['end'] = pd.to_datetime(df['end'])\n",
      "/mnt/c/Users/vivek/Desktop/svara-forms-notebook/src/utils.py:64: UserWarning: Could not infer format, so each element will be parsed individually, falling back to `dateutil`. To ensure parsing is consistent and as-expected, please specify a format.\n",
      "  df['start'] = pd.to_datetime(df['start'])\n",
      "/mnt/c/Users/vivek/Desktop/svara-forms-notebook/src/utils.py:65: UserWarning: Could not infer format, so each element will be parsed individually, falling back to `dateutil`. To ensure parsing is consistent and as-expected, please specify a format.\n",
      "  df['end'] = pd.to_datetime(df['end'])\n",
      "/mnt/c/Users/vivek/Desktop/svara-forms-notebook/src/utils.py:64: UserWarning: Could not infer format, so each element will be parsed individually, falling back to `dateutil`. To ensure parsing is consistent and as-expected, please specify a format.\n",
      "  df['start'] = pd.to_datetime(df['start'])\n",
      "/mnt/c/Users/vivek/Desktop/svara-forms-notebook/src/utils.py:65: UserWarning: Could not infer format, so each element will be parsed individually, falling back to `dateutil`. To ensure parsing is consistent and as-expected, please specify a format.\n",
      "  df['end'] = pd.to_datetime(df['end'])\n",
      " 97%|██████████████████████████████████████████████████████████████████████████████▊  | 565/581 [00:16<00:00, 52.46it/s]/mnt/c/Users/vivek/Desktop/svara-forms-notebook/src/utils.py:64: UserWarning: Could not infer format, so each element will be parsed individually, falling back to `dateutil`. To ensure parsing is consistent and as-expected, please specify a format.\n",
      "  df['start'] = pd.to_datetime(df['start'])\n",
      "/mnt/c/Users/vivek/Desktop/svara-forms-notebook/src/utils.py:65: UserWarning: Could not infer format, so each element will be parsed individually, falling back to `dateutil`. To ensure parsing is consistent and as-expected, please specify a format.\n",
      "  df['end'] = pd.to_datetime(df['end'])\n",
      "/mnt/c/Users/vivek/Desktop/svara-forms-notebook/src/utils.py:64: UserWarning: Could not infer format, so each element will be parsed individually, falling back to `dateutil`. To ensure parsing is consistent and as-expected, please specify a format.\n",
      "  df['start'] = pd.to_datetime(df['start'])\n",
      "/mnt/c/Users/vivek/Desktop/svara-forms-notebook/src/utils.py:65: UserWarning: Could not infer format, so each element will be parsed individually, falling back to `dateutil`. To ensure parsing is consistent and as-expected, please specify a format.\n",
      "  df['end'] = pd.to_datetime(df['end'])\n",
      "/mnt/c/Users/vivek/Desktop/svara-forms-notebook/src/utils.py:64: UserWarning: Could not infer format, so each element will be parsed individually, falling back to `dateutil`. To ensure parsing is consistent and as-expected, please specify a format.\n",
      "  df['start'] = pd.to_datetime(df['start'])\n",
      "/mnt/c/Users/vivek/Desktop/svara-forms-notebook/src/utils.py:65: UserWarning: Could not infer format, so each element will be parsed individually, falling back to `dateutil`. To ensure parsing is consistent and as-expected, please specify a format.\n",
      "  df['end'] = pd.to_datetime(df['end'])\n",
      "/mnt/c/Users/vivek/Desktop/svara-forms-notebook/src/utils.py:64: UserWarning: Could not infer format, so each element will be parsed individually, falling back to `dateutil`. To ensure parsing is consistent and as-expected, please specify a format.\n",
      "  df['start'] = pd.to_datetime(df['start'])\n",
      "/mnt/c/Users/vivek/Desktop/svara-forms-notebook/src/utils.py:65: UserWarning: Could not infer format, so each element will be parsed individually, falling back to `dateutil`. To ensure parsing is consistent and as-expected, please specify a format.\n",
      "  df['end'] = pd.to_datetime(df['end'])\n",
      " 98%|███████████████████████████████████████████████████████████████████████████████▌ | 571/581 [00:17<00:00, 48.76it/s]/mnt/c/Users/vivek/Desktop/svara-forms-notebook/src/utils.py:64: UserWarning: Could not infer format, so each element will be parsed individually, falling back to `dateutil`. To ensure parsing is consistent and as-expected, please specify a format.\n",
      "  df['start'] = pd.to_datetime(df['start'])\n",
      "/mnt/c/Users/vivek/Desktop/svara-forms-notebook/src/utils.py:65: UserWarning: Could not infer format, so each element will be parsed individually, falling back to `dateutil`. To ensure parsing is consistent and as-expected, please specify a format.\n",
      "  df['end'] = pd.to_datetime(df['end'])\n",
      "/mnt/c/Users/vivek/Desktop/svara-forms-notebook/src/utils.py:64: UserWarning: Could not infer format, so each element will be parsed individually, falling back to `dateutil`. To ensure parsing is consistent and as-expected, please specify a format.\n",
      "  df['start'] = pd.to_datetime(df['start'])\n",
      "/mnt/c/Users/vivek/Desktop/svara-forms-notebook/src/utils.py:65: UserWarning: Could not infer format, so each element will be parsed individually, falling back to `dateutil`. To ensure parsing is consistent and as-expected, please specify a format.\n",
      "  df['end'] = pd.to_datetime(df['end'])\n",
      "/mnt/c/Users/vivek/Desktop/svara-forms-notebook/src/utils.py:64: UserWarning: Could not infer format, so each element will be parsed individually, falling back to `dateutil`. To ensure parsing is consistent and as-expected, please specify a format.\n",
      "  df['start'] = pd.to_datetime(df['start'])\n",
      "/mnt/c/Users/vivek/Desktop/svara-forms-notebook/src/utils.py:65: UserWarning: Could not infer format, so each element will be parsed individually, falling back to `dateutil`. To ensure parsing is consistent and as-expected, please specify a format.\n",
      "  df['end'] = pd.to_datetime(df['end'])\n",
      " 99%|████████████████████████████████████████████████████████████████████████████████▌| 578/581 [00:17<00:00, 51.55it/s]/mnt/c/Users/vivek/Desktop/svara-forms-notebook/src/utils.py:64: UserWarning: Could not infer format, so each element will be parsed individually, falling back to `dateutil`. To ensure parsing is consistent and as-expected, please specify a format.\n",
      "  df['start'] = pd.to_datetime(df['start'])\n",
      "/mnt/c/Users/vivek/Desktop/svara-forms-notebook/src/utils.py:65: UserWarning: Could not infer format, so each element will be parsed individually, falling back to `dateutil`. To ensure parsing is consistent and as-expected, please specify a format.\n",
      "  df['end'] = pd.to_datetime(df['end'])\n",
      "/mnt/c/Users/vivek/Desktop/svara-forms-notebook/src/utils.py:64: UserWarning: Could not infer format, so each element will be parsed individually, falling back to `dateutil`. To ensure parsing is consistent and as-expected, please specify a format.\n",
      "  df['start'] = pd.to_datetime(df['start'])\n",
      "/mnt/c/Users/vivek/Desktop/svara-forms-notebook/src/utils.py:65: UserWarning: Could not infer format, so each element will be parsed individually, falling back to `dateutil`. To ensure parsing is consistent and as-expected, please specify a format.\n",
      "  df['end'] = pd.to_datetime(df['end'])\n",
      "/mnt/c/Users/vivek/Desktop/svara-forms-notebook/src/utils.py:64: UserWarning: Could not infer format, so each element will be parsed individually, falling back to `dateutil`. To ensure parsing is consistent and as-expected, please specify a format.\n",
      "  df['start'] = pd.to_datetime(df['start'])\n",
      "/mnt/c/Users/vivek/Desktop/svara-forms-notebook/src/utils.py:65: UserWarning: Could not infer format, so each element will be parsed individually, falling back to `dateutil`. To ensure parsing is consistent and as-expected, please specify a format.\n",
      "  df['end'] = pd.to_datetime(df['end'])\n",
      "100%|█████████████████████████████████████████████████████████████████████████████████| 581/581 [00:17<00:00, 33.70it/s]\n"
     ]
    }
   ],
   "source": [
    "context_data = {t: {} for t in data}\n",
    "print('Extracting Context Information')\n",
    "\n",
    "for j, psamp, annot_ix, track in tqdm.tqdm(all_svaras):\n",
    "    if annot_ix in context_data[track]:\n",
    "        continue\n",
    "\n",
    "    annotations_path = f\"{data[track]['annotations_path']}\"\n",
    "    annotations = load_annotations(annotations_path)\n",
    "\n",
    "    gap_length = data[track]['beat_length']\n",
    "\n",
    "    prev_row = annotations.iloc[annot_ix]\n",
    "    context = {\n",
    "        'svara': prev_row['label'], \n",
    "        'duration': prev_row['end_sec'] - prev_row['start_sec'], \n",
    "        'prec': [], \n",
    "        'succ': []\n",
    "    }\n",
    "\n",
    "    # Append preceding svaras\n",
    "    for i in range(1, annot_ix + 1):\n",
    "        this_row = annotations.iloc[annot_ix - i]\n",
    "        if prev_row['start_sec'] - this_row['end_sec'] > gap_length:\n",
    "            context['prec'].append('zilence')\n",
    "            break\n",
    "        context['prec'].append(this_row['label'])\n",
    "        prev_row = this_row\n",
    "\n",
    "    # Append succeeding svaras\n",
    "    prev_row = annotations.iloc[annot_ix]\n",
    "    for i in range(1, len(annotations) - annot_ix):\n",
    "        this_row = annotations.iloc[annot_ix + i]\n",
    "        if this_row['start_sec'] - prev_row['end_sec'] > gap_length:\n",
    "            context['succ'].append('zilence')\n",
    "            break\n",
    "        context['succ'].append(this_row['label'])\n",
    "        prev_row = this_row\n",
    "\n",
    "    # Store context data\n",
    "    context_data[track][annot_ix] = context"
   ]
  },
  {
   "cell_type": "code",
   "execution_count": 33,
   "metadata": {},
   "outputs": [],
   "source": [
    "k = 5\n",
    "\n",
    "for svara, clusters in clustering_results.items():\n",
    "    for c in clusters.values():\n",
    "        track = c['track']\n",
    "        annot_ix = c['annot_ix']\n",
    "        context = context_data[track][annot_ix]\n",
    "        succ_context = context['succ'][:5]\n",
    "        prec_context = context['prec'][:5]\n",
    "        prec_context.reverse()\n",
    "        \n",
    "        c['prec_context'] = prec_context\n",
    "        c['succ_context'] = succ_context\n",
    "\n",
    "unique_clusters = {}\n",
    "for svara, clusters in clustering_results.items():\n",
    "    cluster_data = clusters.values()\n",
    "    for c in set([x['cluster'] for x in cluster_data]):\n",
    "        this_cluster = [x for x in cluster_data if x['cluster']==c]\n",
    "        tracks = [x['track'] for x in this_cluster]\n",
    "        ixs = [x['annot_ix'] for x in this_cluster]\n",
    "        counted = Counter(tracks)\n",
    "        contexts = [x['prec_context'] + [f'{svara.upper()}'] + x['succ_context'] for x in this_cluster]\n",
    "        contexts = [''.join([s[0] for s in c]) for c in contexts]\n",
    "        cluster_name = f'{svara}_{c}'\n",
    "        unique_clusters[cluster_name] = {'sequences':[(t,c,i) for t,c,i in zip(contexts, tracks, ixs)]}"
   ]
  },
  {
   "cell_type": "code",
   "execution_count": 34,
   "metadata": {},
   "outputs": [
    {
     "name": "stdout",
     "output_type": "stream",
     "text": [
      "g\n"
     ]
    },
    {
     "name": "stderr",
     "output_type": "stream",
     "text": [
      "  0%|                                                                                             | 0/5 [00:00<?, ?it/s]"
     ]
    },
    {
     "name": "stdout",
     "output_type": "stream",
     "text": [
      "['pmdpmGrsdns', 'ddppmGrrnsr']\n"
     ]
    },
    {
     "name": "stderr",
     "output_type": "stream",
     "text": [
      " 20%|█████████████████                                                                    | 1/5 [00:00<00:01,  3.02it/s]"
     ]
    },
    {
     "name": "stdout",
     "output_type": "stream",
     "text": [
      "['pmdpmGrsdns', 'ddppmGrrnsr']\n"
     ]
    },
    {
     "name": "stderr",
     "output_type": "stream",
     "text": [
      " 40%|██████████████████████████████████                                                   | 2/5 [00:00<00:01,  2.75it/s]"
     ]
    },
    {
     "name": "stdout",
     "output_type": "stream",
     "text": [
      "['pmdpmGrsdns', 'ddppmGrrnsr']\n"
     ]
    },
    {
     "name": "stderr",
     "output_type": "stream",
     "text": [
      " 60%|███████████████████████████████████████████████████                                  | 3/5 [00:01<00:00,  2.46it/s]"
     ]
    },
    {
     "name": "stdout",
     "output_type": "stream",
     "text": [
      "['pmdpmGrsdns', 'ddppmGrrnsr']\n"
     ]
    },
    {
     "name": "stderr",
     "output_type": "stream",
     "text": [
      " 80%|████████████████████████████████████████████████████████████████████                 | 4/5 [00:01<00:00,  2.51it/s]"
     ]
    },
    {
     "name": "stdout",
     "output_type": "stream",
     "text": [
      "['pmdpmGrsdns', 'ddppmGrrnsr']\n"
     ]
    },
    {
     "name": "stderr",
     "output_type": "stream",
     "text": [
      "100%|█████████████████████████████████████████████████████████████████████████████████████| 5/5 [00:02<00:00,  2.47it/s]\n"
     ]
    },
    {
     "name": "stdout",
     "output_type": "stream",
     "text": [
      "p\n"
     ]
    },
    {
     "name": "stderr",
     "output_type": "stream",
     "text": [
      "  0%|                                                                                             | 0/5 [00:00<?, ?it/s]"
     ]
    },
    {
     "name": "stdout",
     "output_type": "stream",
     "text": [
      "['dnnddPpdnsg', 'dpsndPndpmg', 'dnsndPmpddn']\n"
     ]
    },
    {
     "name": "stderr",
     "output_type": "stream",
     "text": [
      " 20%|█████████████████                                                                    | 1/5 [00:00<00:02,  1.58it/s]"
     ]
    },
    {
     "name": "stdout",
     "output_type": "stream",
     "text": [
      "['dnnddPpdnsg', 'dpsndPndpmg', 'dnsndPmpddn']\n"
     ]
    },
    {
     "name": "stderr",
     "output_type": "stream",
     "text": [
      " 40%|██████████████████████████████████                                                   | 2/5 [00:01<00:01,  1.97it/s]"
     ]
    },
    {
     "name": "stdout",
     "output_type": "stream",
     "text": [
      "['dnnddPpdnsg', 'dpsndPndpmg', 'dnsndPmpddn']\n"
     ]
    },
    {
     "name": "stderr",
     "output_type": "stream",
     "text": [
      " 60%|███████████████████████████████████████████████████                                  | 3/5 [00:01<00:00,  2.08it/s]"
     ]
    },
    {
     "name": "stdout",
     "output_type": "stream",
     "text": [
      "['dnnddPpdnsg', 'dpsndPndpmg', 'dnsndPmpddn']\n"
     ]
    },
    {
     "name": "stderr",
     "output_type": "stream",
     "text": [
      " 80%|████████████████████████████████████████████████████████████████████                 | 4/5 [00:01<00:00,  2.06it/s]"
     ]
    },
    {
     "name": "stdout",
     "output_type": "stream",
     "text": [
      "['dnnddPpdnsg', 'dpsndPndpmg', 'dnsndPmpddn']\n"
     ]
    },
    {
     "name": "stderr",
     "output_type": "stream",
     "text": [
      "100%|█████████████████████████████████████████████████████████████████████████████████████| 5/5 [00:02<00:00,  2.06it/s]\n"
     ]
    },
    {
     "name": "stdout",
     "output_type": "stream",
     "text": [
      "n\n"
     ]
    },
    {
     "name": "stderr",
     "output_type": "stream",
     "text": [
      "  0%|                                                                                             | 0/5 [00:00<?, ?it/s]"
     ]
    },
    {
     "name": "stdout",
     "output_type": "stream",
     "text": [
      "['nddpmNdpmdp', 'gmgrsNdpmgr', 'rspgrNdpmpd', 'ndnsnNddppn', 'rgmpdNdnsnd', 'rdrrsNddpmn']\n"
     ]
    },
    {
     "name": "stderr",
     "output_type": "stream",
     "text": [
      " 20%|█████████████████                                                                    | 1/5 [00:00<00:03,  1.25it/s]"
     ]
    },
    {
     "name": "stdout",
     "output_type": "stream",
     "text": [
      "['nddpmNdpmdp', 'gmgrsNdpmgr', 'rspgrNdpmpd', 'ndnsnNddppn', 'rgmpdNdnsnd', 'rdrrsNddpmn']\n"
     ]
    },
    {
     "name": "stderr",
     "output_type": "stream",
     "text": [
      " 40%|██████████████████████████████████                                                   | 2/5 [00:01<00:02,  1.22it/s]"
     ]
    },
    {
     "name": "stdout",
     "output_type": "stream",
     "text": [
      "['nddpmNdpmdp', 'gmgrsNdpmgr', 'rspgrNdpmpd', 'ndnsnNddppn', 'rgmpdNdnsnd', 'rdrrsNddpmn']\n"
     ]
    },
    {
     "name": "stderr",
     "output_type": "stream",
     "text": [
      " 60%|███████████████████████████████████████████████████                                  | 3/5 [00:02<00:01,  1.44it/s]"
     ]
    },
    {
     "name": "stdout",
     "output_type": "stream",
     "text": [
      "['nddpmNdpmdp', 'gmgrsNdpmgr', 'rspgrNdpmpd', 'ndnsnNddppn', 'rgmpdNdnsnd', 'rdrrsNddpmn']\n"
     ]
    },
    {
     "name": "stderr",
     "output_type": "stream",
     "text": [
      " 80%|████████████████████████████████████████████████████████████████████                 | 4/5 [00:02<00:00,  1.57it/s]"
     ]
    },
    {
     "name": "stdout",
     "output_type": "stream",
     "text": [
      "['nddpmNdpmdp', 'gmgrsNdpmgr', 'rspgrNdpmpd', 'ndnsnNddppn', 'rgmpdNdnsnd', 'rdrrsNddpmn']\n"
     ]
    },
    {
     "name": "stderr",
     "output_type": "stream",
     "text": [
      "100%|█████████████████████████████████████████████████████████████████████████████████████| 5/5 [00:03<00:00,  1.53it/s]\n"
     ]
    },
    {
     "name": "stdout",
     "output_type": "stream",
     "text": [
      "s\n"
     ]
    },
    {
     "name": "stderr",
     "output_type": "stream",
     "text": [
      "  0%|                                                                                             | 0/5 [00:00<?, ?it/s]"
     ]
    },
    {
     "name": "stdout",
     "output_type": "stream",
     "text": [
      "['rnSz', 'rsgrnSz', 'rsgrnSrgmz', 'rsgrnSrgmgp', 'rsgrnSz', 'pmgrnSggrsg', 'mrgrnSdpdpg', 'rsgrnSz']\n"
     ]
    },
    {
     "name": "stderr",
     "output_type": "stream",
     "text": [
      " 20%|█████████████████                                                                    | 1/5 [00:00<00:03,  1.14it/s]"
     ]
    },
    {
     "name": "stdout",
     "output_type": "stream",
     "text": [
      "['rnSz', 'rsgrnSz', 'rsgrnSrgmz', 'rsgrnSrgmgp', 'rsgrnSz', 'pmgrnSggrsg', 'mrgrnSdpdpg', 'rsgrnSz']\n"
     ]
    },
    {
     "name": "stderr",
     "output_type": "stream",
     "text": [
      " 40%|██████████████████████████████████                                                   | 2/5 [00:01<00:02,  1.15it/s]"
     ]
    },
    {
     "name": "stdout",
     "output_type": "stream",
     "text": [
      "['rnSz', 'rsgrnSz', 'rsgrnSrgmz', 'rsgrnSrgmgp', 'rsgrnSz', 'pmgrnSggrsg', 'mrgrnSdpdpg', 'rsgrnSz']\n"
     ]
    },
    {
     "name": "stderr",
     "output_type": "stream",
     "text": [
      " 60%|███████████████████████████████████████████████████                                  | 3/5 [00:02<00:01,  1.13it/s]"
     ]
    },
    {
     "name": "stdout",
     "output_type": "stream",
     "text": [
      "['rnSz', 'rsgrnSz', 'rsgrnSrgmz', 'rsgrnSrgmgp', 'rsgrnSz', 'pmgrnSggrsg', 'mrgrnSdpdpg', 'rsgrnSz']\n"
     ]
    },
    {
     "name": "stderr",
     "output_type": "stream",
     "text": [
      " 80%|████████████████████████████████████████████████████████████████████                 | 4/5 [00:03<00:00,  1.35it/s]"
     ]
    },
    {
     "name": "stdout",
     "output_type": "stream",
     "text": [
      "['rnSz', 'rsgrnSz', 'rsgrnSrgmz', 'rsgrnSrgmgp', 'rsgrnSz', 'pmgrnSggrsg', 'mrgrnSdpdpg', 'rsgrnSz']\n"
     ]
    },
    {
     "name": "stderr",
     "output_type": "stream",
     "text": [
      "100%|█████████████████████████████████████████████████████████████████████████████████████| 5/5 [00:03<00:00,  1.36it/s]\n"
     ]
    },
    {
     "name": "stdout",
     "output_type": "stream",
     "text": [
      "d\n"
     ]
    },
    {
     "name": "stderr",
     "output_type": "stream",
     "text": [
      "  0%|                                                                                             | 0/5 [00:00<?, ?it/s]"
     ]
    },
    {
     "name": "stdout",
     "output_type": "stream",
     "text": [
      "['gmpdpDpmgrp', 'nnndpDndndn', 'dnndpDndnsn']\n"
     ]
    },
    {
     "name": "stderr",
     "output_type": "stream",
     "text": [
      " 20%|█████████████████                                                                    | 1/5 [00:00<00:02,  1.59it/s]"
     ]
    },
    {
     "name": "stdout",
     "output_type": "stream",
     "text": [
      "['gmpdpDpmgrp', 'nnndpDndndn', 'dnndpDndnsn']\n"
     ]
    },
    {
     "name": "stderr",
     "output_type": "stream",
     "text": [
      " 40%|██████████████████████████████████                                                   | 2/5 [00:01<00:01,  1.94it/s]"
     ]
    },
    {
     "name": "stdout",
     "output_type": "stream",
     "text": [
      "['gmpdpDpmgrp', 'nnndpDndndn', 'dnndpDndnsn']\n"
     ]
    },
    {
     "name": "stderr",
     "output_type": "stream",
     "text": [
      " 60%|███████████████████████████████████████████████████                                  | 3/5 [00:01<00:01,  1.99it/s]"
     ]
    },
    {
     "name": "stdout",
     "output_type": "stream",
     "text": [
      "['gmpdpDpmgrp', 'nnndpDndndn', 'dnndpDndnsn']\n"
     ]
    },
    {
     "name": "stderr",
     "output_type": "stream",
     "text": [
      " 80%|████████████████████████████████████████████████████████████████████                 | 4/5 [00:02<00:00,  2.05it/s]"
     ]
    },
    {
     "name": "stdout",
     "output_type": "stream",
     "text": [
      "['gmpdpDpmgrp', 'nnndpDndndn', 'dnndpDndnsn']\n"
     ]
    },
    {
     "name": "stderr",
     "output_type": "stream",
     "text": [
      "100%|█████████████████████████████████████████████████████████████████████████████████████| 5/5 [00:02<00:00,  2.01it/s]\n"
     ]
    },
    {
     "name": "stdout",
     "output_type": "stream",
     "text": [
      "r\n"
     ]
    },
    {
     "name": "stderr",
     "output_type": "stream",
     "text": [
      "  0%|                                                                                             | 0/5 [00:00<?, ?it/s]"
     ]
    },
    {
     "name": "stdout",
     "output_type": "stream",
     "text": [
      "['ppmgrRnsrgm', 'rgrdrRsnddp', 'ndpggRrsndp', 'Rnsz']\n"
     ]
    },
    {
     "name": "stderr",
     "output_type": "stream",
     "text": [
      " 20%|█████████████████                                                                    | 1/5 [00:00<00:02,  1.50it/s]"
     ]
    },
    {
     "name": "stdout",
     "output_type": "stream",
     "text": [
      "['ppmgrRnsrgm', 'rgrdrRsnddp', 'ndpggRrsndp', 'Rnsz']\n"
     ]
    },
    {
     "name": "stderr",
     "output_type": "stream",
     "text": [
      " 40%|██████████████████████████████████                                                   | 2/5 [00:01<00:01,  1.77it/s]"
     ]
    },
    {
     "name": "stdout",
     "output_type": "stream",
     "text": [
      "['ppmgrRnsrgm', 'rgrdrRsnddp', 'ndpggRrsndp', 'Rnsz']\n"
     ]
    },
    {
     "name": "stderr",
     "output_type": "stream",
     "text": [
      " 60%|███████████████████████████████████████████████████                                  | 3/5 [00:01<00:01,  1.93it/s]"
     ]
    },
    {
     "name": "stdout",
     "output_type": "stream",
     "text": [
      "['ppmgrRnsrgm', 'rgrdrRsnddp', 'ndpggRrsndp', 'Rnsz']\n"
     ]
    },
    {
     "name": "stderr",
     "output_type": "stream",
     "text": [
      " 80%|████████████████████████████████████████████████████████████████████                 | 4/5 [00:02<00:00,  2.03it/s]"
     ]
    },
    {
     "name": "stdout",
     "output_type": "stream",
     "text": [
      "['ppmgrRnsrgm', 'rgrdrRsnddp', 'ndpggRrsndp', 'Rnsz']\n"
     ]
    },
    {
     "name": "stderr",
     "output_type": "stream",
     "text": [
      "100%|█████████████████████████████████████████████████████████████████████████████████████| 5/5 [00:02<00:00,  1.96it/s]\n"
     ]
    }
   ],
   "source": [
    "K = 5\n",
    "num_permutations = 10000\n",
    "results = pd.DataFrame()\n",
    "for svara in set([x[0] for x in unique_clusters.keys()]):\n",
    "    print(svara)\n",
    "    this_unique_clusters = {k:v for k,v in unique_clusters.items() if k[0]==svara}  \n",
    "\n",
    "    all_groups = [[x[0] for x in tu['sequences']] for tu in this_unique_clusters.values()]\n",
    "    all_groups = [x for y in all_groups for x in y]\n",
    "\n",
    "    groups = []\n",
    "    for group_name, group_d in this_unique_clusters.items():\n",
    "        #print(group_name)\n",
    "        this_svara = group_name[0]\n",
    "        group = [x[0] for x in group_d['sequences']]\n",
    "        groups.append(group)\n",
    "\n",
    "    for k in tqdm.tqdm(list(range(1, K+1))):\n",
    "        print(group)\n",
    "\n",
    "        prec_res = prec_permutation_test(group, all_groups, k, num_permutations)\n",
    "        succ_res = succ_permutation_test(group, all_groups, k, num_permutations)\n",
    "        both_res = both_permutation_test(group, all_groups, k, num_permutations)\n",
    "\n",
    "        prec_res['svara'] = svara\n",
    "        succ_res['svara'] = svara\n",
    "        both_res['svara'] = svara\n",
    "\n",
    "        results = append_row(results, prec_res)\n",
    "        results = append_row(results, succ_res)\n",
    "        results = append_row(results, both_res)"
   ]
  },
  {
   "cell_type": "code",
   "execution_count": 35,
   "metadata": {},
   "outputs": [
    {
     "data": {
      "text/html": [
       "<div>\n",
       "<style scoped>\n",
       "    .dataframe tbody tr th:only-of-type {\n",
       "        vertical-align: middle;\n",
       "    }\n",
       "\n",
       "    .dataframe tbody tr th {\n",
       "        vertical-align: top;\n",
       "    }\n",
       "\n",
       "    .dataframe thead th {\n",
       "        text-align: right;\n",
       "    }\n",
       "</style>\n",
       "<table border=\"1\" class=\"dataframe\">\n",
       "  <thead>\n",
       "    <tr style=\"text-align: right;\">\n",
       "      <th></th>\n",
       "      <th>real_chi2_stat</th>\n",
       "      <th>real_p_value</th>\n",
       "      <th>real_effect_size</th>\n",
       "      <th>empirical_p_value</th>\n",
       "      <th>mean_random_effect_size</th>\n",
       "      <th>n</th>\n",
       "      <th>svara</th>\n",
       "    </tr>\n",
       "  </thead>\n",
       "  <tbody>\n",
       "    <tr>\n",
       "      <th>0</th>\n",
       "      <td>0.000000</td>\n",
       "      <td>1.000000</td>\n",
       "      <td>0.000000</td>\n",
       "      <td>1.000</td>\n",
       "      <td>0.000000</td>\n",
       "      <td>2.0</td>\n",
       "      <td>g</td>\n",
       "    </tr>\n",
       "    <tr>\n",
       "      <th>1</th>\n",
       "      <td>0.260870</td>\n",
       "      <td>0.877714</td>\n",
       "      <td>0.361158</td>\n",
       "      <td>0.028</td>\n",
       "      <td>0.028000</td>\n",
       "      <td>2.0</td>\n",
       "      <td>g</td>\n",
       "    </tr>\n",
       "    <tr>\n",
       "      <th>2</th>\n",
       "      <td>NaN</td>\n",
       "      <td>NaN</td>\n",
       "      <td>NaN</td>\n",
       "      <td>NaN</td>\n",
       "      <td>NaN</td>\n",
       "      <td>NaN</td>\n",
       "      <td>g</td>\n",
       "    </tr>\n",
       "    <tr>\n",
       "      <th>3</th>\n",
       "      <td>0.600000</td>\n",
       "      <td>0.988003</td>\n",
       "      <td>0.346410</td>\n",
       "      <td>0.175</td>\n",
       "      <td>0.175000</td>\n",
       "      <td>2.0</td>\n",
       "      <td>g</td>\n",
       "    </tr>\n",
       "    <tr>\n",
       "      <th>4</th>\n",
       "      <td>0.863768</td>\n",
       "      <td>0.990254</td>\n",
       "      <td>0.379422</td>\n",
       "      <td>0.070</td>\n",
       "      <td>0.609941</td>\n",
       "      <td>2.0</td>\n",
       "      <td>g</td>\n",
       "    </tr>\n",
       "    <tr>\n",
       "      <th>...</th>\n",
       "      <td>...</td>\n",
       "      <td>...</td>\n",
       "      <td>...</td>\n",
       "      <td>...</td>\n",
       "      <td>...</td>\n",
       "      <td>...</td>\n",
       "      <td>...</td>\n",
       "    </tr>\n",
       "    <tr>\n",
       "      <th>85</th>\n",
       "      <td>1.506641</td>\n",
       "      <td>1.000000</td>\n",
       "      <td>0.261694</td>\n",
       "      <td>0.000</td>\n",
       "      <td>0.619374</td>\n",
       "      <td>3.0</td>\n",
       "      <td>r</td>\n",
       "    </tr>\n",
       "    <tr>\n",
       "      <th>86</th>\n",
       "      <td>NaN</td>\n",
       "      <td>NaN</td>\n",
       "      <td>NaN</td>\n",
       "      <td>NaN</td>\n",
       "      <td>NaN</td>\n",
       "      <td>NaN</td>\n",
       "      <td>r</td>\n",
       "    </tr>\n",
       "    <tr>\n",
       "      <th>87</th>\n",
       "      <td>1.506641</td>\n",
       "      <td>1.000000</td>\n",
       "      <td>0.274467</td>\n",
       "      <td>0.000</td>\n",
       "      <td>0.619351</td>\n",
       "      <td>3.0</td>\n",
       "      <td>r</td>\n",
       "    </tr>\n",
       "    <tr>\n",
       "      <th>88</th>\n",
       "      <td>1.600000</td>\n",
       "      <td>1.000000</td>\n",
       "      <td>0.263752</td>\n",
       "      <td>0.000</td>\n",
       "      <td>0.621708</td>\n",
       "      <td>3.0</td>\n",
       "      <td>r</td>\n",
       "    </tr>\n",
       "    <tr>\n",
       "      <th>89</th>\n",
       "      <td>NaN</td>\n",
       "      <td>NaN</td>\n",
       "      <td>NaN</td>\n",
       "      <td>NaN</td>\n",
       "      <td>NaN</td>\n",
       "      <td>NaN</td>\n",
       "      <td>r</td>\n",
       "    </tr>\n",
       "  </tbody>\n",
       "</table>\n",
       "<p>90 rows × 7 columns</p>\n",
       "</div>"
      ],
      "text/plain": [
       "    real_chi2_stat  real_p_value  real_effect_size  empirical_p_value  \\\n",
       "0         0.000000      1.000000          0.000000              1.000   \n",
       "1         0.260870      0.877714          0.361158              0.028   \n",
       "2              NaN           NaN               NaN                NaN   \n",
       "3         0.600000      0.988003          0.346410              0.175   \n",
       "4         0.863768      0.990254          0.379422              0.070   \n",
       "..             ...           ...               ...                ...   \n",
       "85        1.506641      1.000000          0.261694              0.000   \n",
       "86             NaN           NaN               NaN                NaN   \n",
       "87        1.506641      1.000000          0.274467              0.000   \n",
       "88        1.600000      1.000000          0.263752              0.000   \n",
       "89             NaN           NaN               NaN                NaN   \n",
       "\n",
       "    mean_random_effect_size    n svara  \n",
       "0                  0.000000  2.0     g  \n",
       "1                  0.028000  2.0     g  \n",
       "2                       NaN  NaN     g  \n",
       "3                  0.175000  2.0     g  \n",
       "4                  0.609941  2.0     g  \n",
       "..                      ...  ...   ...  \n",
       "85                 0.619374  3.0     r  \n",
       "86                      NaN  NaN     r  \n",
       "87                 0.619351  3.0     r  \n",
       "88                 0.621708  3.0     r  \n",
       "89                      NaN  NaN     r  \n",
       "\n",
       "[90 rows x 7 columns]"
      ]
     },
     "execution_count": 35,
     "metadata": {},
     "output_type": "execute_result"
    }
   ],
   "source": [
    "results"
   ]
  },
  {
   "cell_type": "code",
   "execution_count": 36,
   "metadata": {},
   "outputs": [],
   "source": [
    "results.to_csv('table.csv')"
   ]
  },
  {
   "cell_type": "code",
   "execution_count": null,
   "metadata": {},
   "outputs": [],
   "source": []
  }
 ],
 "metadata": {
  "colab": {
   "provenance": []
  },
  "kernelspec": {
   "display_name": "Python 3 (ipykernel)",
   "language": "python",
   "name": "python3"
  },
  "language_info": {
   "codemirror_mode": {
    "name": "ipython",
    "version": 3
   },
   "file_extension": ".py",
   "mimetype": "text/x-python",
   "name": "python",
   "nbconvert_exporter": "python",
   "pygments_lexer": "ipython3",
   "version": "3.10.0"
  }
 },
 "nbformat": 4,
 "nbformat_minor": 4
}
